{
 "cells": [
  {
   "cell_type": "code",
   "execution_count": 1,
   "metadata": {
    "collapsed": true
   },
   "outputs": [],
   "source": [
    "import numpy as np\n",
    "import pandas as pd\n",
    "\n",
    "import statsmodels.api as sm\n",
    "import statsmodels.formula.api as smf\n",
    "from statsmodels.api import families"
   ]
  },
  {
   "cell_type": "code",
   "execution_count": 4,
   "metadata": {
    "collapsed": false,
    "scrolled": true
   },
   "outputs": [],
   "source": [
    "from gravity import Gravity, Production, Attraction, Doubly\n",
    "\n",
    "unconstrained = Gravity(data, 'f' , 'o', 'd', ['V'], ['W'], 'dij', 'pow')\n",
    "production = Production(data, 'f' , 'o', 'd', ['W'], 'dij', 'pow')\n",
    "attraction = Attraction(data, 'f' , 'o', 'd', ['W'], 'dij', 'pow')\n",
    "doubly = Doubly(data, 'f' , 'o', 'd', 'dij', 'pow')\n"
   ]
  },
  {
   "cell_type": "code",
   "execution_count": 3,
   "metadata": {
    "collapsed": false
   },
   "outputs": [],
   "source": [
    "\n",
    "f = np.array([56, 100.8, 173.6, 235.2, 87.36,\n",
    "                    28., 100.8, 69.44, 235.2, 145.6,\n",
    "                    22., 26.4, 136.4, 123.2, 343.2,\n",
    "                    14., 75.6, 130.2, 70.56, 163.8,\n",
    "                    22, 59.4,  204.6,  110.88,  171.6])\n",
    "V = np.repeat(np.array([56.0, 56.0, 44.0, 42.0, 66.0]), 5)\n",
    "o = np.repeat(np.array(range(1, 6)), 5)\n",
    "W = np.tile(np.array([10.0, 18.0, 62.0, 84.0, 78.0]), 5)\n",
    "d = np.tile(np.array(range(1, 6)), 5)\n",
    "dij = np.array([10, 10, 20, 20, 50,\n",
    "                        20, 10, 50, 20, 30,\n",
    "                        20, 30, 20, 30, 10,\n",
    "                        30, 10, 20, 50, 20,\n",
    "                        30, 20, 20, 50, 30], dtype=np.float)\n",
    "\n",
    "\n",
    "data = pd.DataFrame({'f':f, 'V':V, 'W': W, 'dij': dij, 'o':o, 'd':d})"
   ]
  },
  {
   "cell_type": "code",
   "execution_count": 12,
   "metadata": {
    "collapsed": false
   },
   "outputs": [],
   "source": [
    "f = np.array([0, 6469, 7629, 20036, 4690,\n",
    "                        6194, 11688, 2243, 8857, 7248,\n",
    "                        3559, 9221, 10099, 22866, 3388,\n",
    "                        9986, 46618, 11639, 1380, 5261,\n",
    "                        5985, 6731, 2704, 12250, 16132])\n",
    "o = np.repeat(1, 25)\n",
    "d = np.array(range(1, 26))\n",
    "dij = np.array([0, 576, 946, 597, 373,\n",
    "                        559, 707, 1208, 602, 692,\n",
    "                        681, 1934, 332, 595, 906,\n",
    "                        425, 755, 672, 1587, 526,\n",
    "                        484, 2141, 2182, 410, 540])\n",
    "pop = np.array([1596000, 2071000, 3376000, 6978000, 1345000,\n",
    "                        2064000, 2378000, 1239000, 4435000, 1999000,\n",
    "                        1274000, 7042000, 834000, 1268000, 1965000,\n",
    "                        1046000, 12131000, 4824000, 969000, 2401000,\n",
    "                        2410000, 2847000, 1425000, 1089000, 2909000])\n",
    "dt = pd.DataFrame({'origins': o,\n",
    "                            'destinations': d,\n",
    "                            'pop': pop,\n",
    "                            'Dij': dij,\n",
    "                            'flows': f})\n",
    "dt['origins'] = dt['origins'].astype(str)\n",
    "\n",
    "dt['destinations'] = dt['destinations'].astype(str)\n",
    "\n",
    "dt = dt[dt['origins'] != dt['destinations']]"
   ]
  },
  {
   "cell_type": "code",
   "execution_count": 129,
   "metadata": {
    "collapsed": false
   },
   "outputs": [],
   "source": [
    "f = np.array([0, 180048, 79223, 26887, 198144, 17995, 35563, 30528, 110792,\n",
    "                        283049, 0, 300345, 67280, 718673, 55094, 93434, 87987, 268458,\n",
    "                        87267, 237229, 0, 281791, 551483, 230788, 178517, 172711, 394481,\n",
    "                        29877, 60681, 286580, 0, 143860, 49892, 185618, 181868, 274629,\n",
    "                        130830, 382565, 346407, 92308, 0, 252189, 192223, 89389, 279739,\n",
    "                        21434, 53772, 287340, 49828, 316650, 0, 141679, 27409, 87938,\n",
    "                        30287, 64645, 161645, 144980, 199466, 121366, 0, 134229, 289880,\n",
    "                        21450, 43749, 97808, 113683, 89806, 25574, 158006, 0, 437255,\n",
    "                        72114, 133122, 229764, 165405, 266305, 66324, 252039, 342948, 0])\n",
    "o = np.repeat(np.array(range(1, 10)), 9)\n",
    "d = np.tile(np.array(range(1, 10)), 9)\n",
    "dij = np.array([0, 219, 1009, 1514, 974, 1268, 1795, 2420, 3174,\n",
    "                        219, 0, 831, 1336, 755, 1049, 1576, 2242, 2996,\n",
    "                        1009, 831, 0, 505, 1019, 662, 933, 1451, 2205,\n",
    "                        1514, 1336, 505, 0, 1370, 888, 654, 946, 1700,\n",
    "                        974, 755, 1019, 1370, 0, 482, 1144, 2278, 2862,\n",
    "                        1268, 1049, 662, 888, 482, 0, 662, 1795, 2380,\n",
    "                        1795, 1576, 933, 654, 1144, 662, 0, 1287, 1779,\n",
    "                        2420, 2242, 1451, 946, 2278, 1795, 1287, 0, 754,\n",
    "                        3147, 2996, 2205, 1700, 2862, 2380, 1779, 754, 0])\n",
    "dt = pd.DataFrame({'Origin': o,\n",
    "                            'Destination': d,\n",
    "                            'flows': f,\n",
    "                            'Dij': dij})\n",
    "\n",
    "dt['Origin'] = dt['Origin'].astype(str)\n",
    "\n",
    "dt['Destination'] = dt['Destination'].astype(str)\n",
    "dt = dt[dt['Origin'] != dt['Destination']]"
   ]
  },
  {
   "cell_type": "code",
   "execution_count": 247,
   "metadata": {
    "collapsed": false
   },
   "outputs": [
    {
     "name": "stdout",
     "output_type": "stream",
     "text": [
      "{'beta': -1.0, 'V': 1.0}\n"
     ]
    }
   ],
   "source": [
    "f = np.array([56, 100.8, 173.6, 235.2, 87.36,\n",
    "                        28., 100.8, 69.44, 235.2, 145.6,\n",
    "                        22., 26.4, 136.4, 123.2, 343.2,\n",
    "                        14., 75.6, 130.2, 70.56, 163.8,\n",
    "                        22, 59.4,  204.6,  110.88,  171.6])\n",
    "V = np.repeat(np.array([56, 56, 44, 42, 66]), 5)\n",
    "o = np.repeat(np.array(range(1, 6)), 5)\n",
    "W = np.tile(np.array([10, 18, 62, 84, 78]), 5)\n",
    "d = np.tile(np.array(range(1, 6)), 5)\n",
    "dij = np.array([10, 10, 20, 20, 50,\n",
    "                        20, 10, 50, 20, 30,\n",
    "                        20, 30, 20, 30, 10,\n",
    "                        30, 10, 20, 50, 20,\n",
    "                        30, 20, 20, 50, 30])\n",
    "\n",
    "dt = pd.DataFrame({'origins': o,\n",
    "                            'destinations': d,\n",
    "                            'V': V,\n",
    "                            'Dij': dij,\n",
    "                            'flows': f})\n",
    "f = V**2/d**-1.3\n",
    "\n",
    "from gravity import AttractionConstrained\n",
    "model = AttractionConstrained(dt, 'origins', 'destinations', 'flows', ['V'], 'Dij', 'pow')\n",
    "print model.p"
   ]
  },
  {
   "cell_type": "code",
   "execution_count": 3,
   "metadata": {
    "collapsed": false
   },
   "outputs": [],
   "source": [
    "f = np.array([56, 100.8, 173.6, 235.2, 87.36,\n",
    "                    28., 100.8, 69.44, 235.2, 145.6,\n",
    "                    22., 26.4, 136.4, 123.2, 343.2,\n",
    "                    14., 75.6, 130.2, 70.56, 163.8,\n",
    "                    22, 59.4,  204.6,  110.88,  171.6])\n",
    "V = np.repeat(np.array([56.0, 56.0, 44.0, 42.0, 66.0]), 5)\n",
    "o = np.repeat(np.array(range(1, 6)), 5)\n",
    "W = np.tile(np.array([10.0, 18.0, 62.0, 84.0, 78.0]), 5)\n",
    "d = np.tile(np.array(range(1, 6)), 5)\n",
    "dij = np.array([10, 10, 20, 20, 50,\n",
    "                        20, 10, 50, 20, 30,\n",
    "                        20, 30, 20, 30, 10,\n",
    "                        30, 10, 20, 50, 20,\n",
    "                        30, 20, 20, 50, 30], dtype=np.float)\n",
    "\n",
    "f = ((V**3)*(W**1.1))/dij**-2\n",
    "\n",
    "f = np.reshape(f, (-1,1))\n",
    "V = np.reshape(V, (-1,1))\n",
    "W = np.reshape(W, (-1,1))\n",
    "dij = np.reshape(dij, (-1,1))\n",
    "intercept = np.ones((25,1))"
   ]
  }
 ],
 "metadata": {
  "kernelspec": {
   "display_name": "Python 2",
   "language": "python",
   "name": "python2"
  },
  "language_info": {
   "codemirror_mode": {
    "name": "ipython",
    "version": 2
   },
   "file_extension": ".py",
   "mimetype": "text/x-python",
   "name": "python",
   "nbconvert_exporter": "python",
   "pygments_lexer": "ipython2",
   "version": "2.7.9"
  }
 },
 "nbformat": 4,
 "nbformat_minor": 0
}
