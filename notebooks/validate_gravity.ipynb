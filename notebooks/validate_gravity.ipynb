{
 "cells": [
  {
   "cell_type": "code",
   "execution_count": 5,
   "metadata": {
    "collapsed": false
   },
   "outputs": [
    {
     "ename": "ValueError",
     "evalue": "Attempted relative import in non-package",
     "output_type": "error",
     "traceback": [
      "\u001b[0;31m---------------------------------------------------------------------------\u001b[0m",
      "\u001b[0;31mValueError\u001b[0m                                Traceback (most recent call last)",
      "\u001b[0;32m<ipython-input-5-05a66910bf82>\u001b[0m in \u001b[0;36m<module>\u001b[0;34m()\u001b[0m\n\u001b[1;32m      4\u001b[0m \u001b[0msys\u001b[0m\u001b[0;34m.\u001b[0m\u001b[0mpath\u001b[0m\u001b[0;34m.\u001b[0m\u001b[0mappend\u001b[0m\u001b[0;34m(\u001b[0m\u001b[0;34m'/Users/toshan/dev/pysal/pysal/contrib/spint'\u001b[0m\u001b[0;34m)\u001b[0m\u001b[0;34m\u001b[0m\u001b[0m\n\u001b[1;32m      5\u001b[0m \u001b[0;31m#from gravity import Gravity, Production, Attraction, Doubly, BaseGravity\u001b[0m\u001b[0;34m\u001b[0m\u001b[0;34m\u001b[0m\u001b[0m\n\u001b[0;32m----> 6\u001b[0;31m \u001b[0;32mimport\u001b[0m \u001b[0mgravity\u001b[0m\u001b[0;34m\u001b[0m\u001b[0m\n\u001b[0m",
      "\u001b[0;32m/Users/toshan/dev/pysal/pysal/contrib/spint/gravity.py\u001b[0m in \u001b[0;36m<module>\u001b[0;34m()\u001b[0m\n\u001b[1;32m     25\u001b[0m \u001b[0;32mfrom\u001b[0m \u001b[0mpysal\u001b[0m\u001b[0;34m.\u001b[0m\u001b[0mspreg\u001b[0m \u001b[0;32mimport\u001b[0m \u001b[0muser_output\u001b[0m \u001b[0;32mas\u001b[0m \u001b[0mUser\u001b[0m\u001b[0;34m\u001b[0m\u001b[0m\n\u001b[1;32m     26\u001b[0m \u001b[0;32mfrom\u001b[0m \u001b[0mpysal\u001b[0m\u001b[0;34m.\u001b[0m\u001b[0mspreg\u001b[0m\u001b[0;34m.\u001b[0m\u001b[0mutils\u001b[0m \u001b[0;32mimport\u001b[0m \u001b[0msphstack\u001b[0m\u001b[0;34m\u001b[0m\u001b[0m\n\u001b[0;32m---> 27\u001b[0;31m \u001b[0;32mfrom\u001b[0m \u001b[0mcount_model\u001b[0m \u001b[0;32mimport\u001b[0m \u001b[0mCountModel\u001b[0m\u001b[0;34m\u001b[0m\u001b[0m\n\u001b[0m\u001b[1;32m     28\u001b[0m \u001b[0;34m\u001b[0m\u001b[0m\n\u001b[1;32m     29\u001b[0m \u001b[0;32mclass\u001b[0m \u001b[0mBaseGravity\u001b[0m\u001b[0;34m(\u001b[0m\u001b[0mCountModel\u001b[0m\u001b[0;34m)\u001b[0m\u001b[0;34m:\u001b[0m\u001b[0;34m\u001b[0m\u001b[0m\n",
      "\u001b[0;32m/Users/toshan/dev/pysal/pysal/contrib/spint/count_model.py\u001b[0m in \u001b[0;36m<module>\u001b[0;34m()\u001b[0m\n\u001b[1;32m     10\u001b[0m \u001b[0;31m#from pysal.contrib.glm.family import Poisson\u001b[0m\u001b[0;34m\u001b[0m\u001b[0;34m\u001b[0m\u001b[0m\n\u001b[1;32m     11\u001b[0m \u001b[0msys\u001b[0m\u001b[0;34m.\u001b[0m\u001b[0mpath\u001b[0m\u001b[0;34m.\u001b[0m\u001b[0mappend\u001b[0m\u001b[0;34m(\u001b[0m\u001b[0;34m'/Users/toshan/dev/pysal/pysal/contrib/glm'\u001b[0m\u001b[0;34m)\u001b[0m\u001b[0;34m\u001b[0m\u001b[0m\n\u001b[0;32m---> 12\u001b[0;31m \u001b[0;32mfrom\u001b[0m \u001b[0mglm\u001b[0m \u001b[0;32mimport\u001b[0m \u001b[0mGLM\u001b[0m\u001b[0;34m\u001b[0m\u001b[0m\n\u001b[0m\u001b[1;32m     13\u001b[0m \u001b[0;32mfrom\u001b[0m \u001b[0mfamily\u001b[0m \u001b[0;32mimport\u001b[0m \u001b[0mPoisson\u001b[0m\u001b[0;34m,\u001b[0m \u001b[0mQuasiPoisson\u001b[0m\u001b[0;34m\u001b[0m\u001b[0m\n\u001b[1;32m     14\u001b[0m \u001b[0;34m\u001b[0m\u001b[0m\n",
      "\u001b[0;32m/Users/toshan/dev/pysal/pysal/contrib/glm/glm.py\u001b[0m in \u001b[0;36m<module>\u001b[0;34m()\u001b[0m\n\u001b[1;32m      6\u001b[0m \u001b[0;32mfrom\u001b[0m \u001b[0miwls\u001b[0m \u001b[0;32mimport\u001b[0m \u001b[0miwls\u001b[0m\u001b[0;34m\u001b[0m\u001b[0m\n\u001b[1;32m      7\u001b[0m \u001b[0;32mimport\u001b[0m \u001b[0mpysal\u001b[0m\u001b[0;34m.\u001b[0m\u001b[0mspreg\u001b[0m\u001b[0;34m.\u001b[0m\u001b[0muser_output\u001b[0m \u001b[0;32mas\u001b[0m \u001b[0mUSER\u001b[0m\u001b[0;34m\u001b[0m\u001b[0m\n\u001b[0;32m----> 8\u001b[0;31m \u001b[0;32mfrom\u001b[0m \u001b[0mutils\u001b[0m \u001b[0;32mimport\u001b[0m \u001b[0mcache_readonly\u001b[0m\u001b[0;34m\u001b[0m\u001b[0m\n\u001b[0m\u001b[1;32m      9\u001b[0m \u001b[0;32mfrom\u001b[0m \u001b[0mbase\u001b[0m \u001b[0;32mimport\u001b[0m \u001b[0mLikelihoodModelResults\u001b[0m\u001b[0;34m\u001b[0m\u001b[0m\n\u001b[1;32m     10\u001b[0m \u001b[0;34m\u001b[0m\u001b[0m\n",
      "\u001b[0;32m/Users/toshan/dev/pysal/pysal/contrib/glm/utils.py\u001b[0m in \u001b[0;36m<module>\u001b[0;34m()\u001b[0m\n\u001b[1;32m     18\u001b[0m \u001b[0;32mexcept\u001b[0m \u001b[0mImportError\u001b[0m\u001b[0;34m:\u001b[0m\u001b[0;34m\u001b[0m\u001b[0m\n\u001b[1;32m     19\u001b[0m     \u001b[0;32mimport\u001b[0m \u001b[0mre\u001b[0m\u001b[0;34m\u001b[0m\u001b[0m\n\u001b[0;32m---> 20\u001b[0;31m     \u001b[0;32mfrom\u001b[0m \u001b[0;34m.\u001b[0m\u001b[0mpython\u001b[0m \u001b[0;32mimport\u001b[0m \u001b[0mstring_types\u001b[0m\u001b[0;34m\u001b[0m\u001b[0m\n\u001b[0m\u001b[1;32m     21\u001b[0m \u001b[0;34m\u001b[0m\u001b[0m\n\u001b[1;32m     22\u001b[0m     \u001b[0;32mclass\u001b[0m \u001b[0mNumpyVersion\u001b[0m\u001b[0;34m(\u001b[0m\u001b[0;34m)\u001b[0m\u001b[0;34m:\u001b[0m\u001b[0;34m\u001b[0m\u001b[0m\n",
      "\u001b[0;31mValueError\u001b[0m: Attempted relative import in non-package"
     ]
    }
   ],
   "source": [
    "import numpy as np\n",
    "import pandas as pd\n",
    "import sys\n",
    "sys.path.append('/Users/toshan/dev/pysal/pysal/contrib/spint')\n",
    "#from gravity import Gravity, Production, Attraction, Doubly, BaseGravity\n",
    "import gravity\n"
   ]
  },
  {
   "cell_type": "code",
   "execution_count": 2,
   "metadata": {
    "collapsed": true
   },
   "outputs": [],
   "source": [
    "austria = pd.read_csv('http://dl.dropbox.com/u/8649795/AT_Austria.csv')\n",
    "austria = austria[austria['Origin'] != austria['Destination']]\n",
    "f = austria['Data'].values\n",
    "o = austria['Origin'].values\n",
    "d = austria['Destination'].values\n",
    "dij = austria['Dij'].values\n",
    "o_vars = austria['Oi2007'].values\n",
    "d_vars = austria['Dj2007'].values"
   ]
  },
  {
   "cell_type": "code",
   "execution_count": 3,
   "metadata": {
    "collapsed": false
   },
   "outputs": [
    {
     "name": "stdout",
     "output_type": "stream",
     "text": [
      "[ 0.44051324  0.5144978  -0.00976746]\n",
      "[ 0.44051324  0.5144978  -0.00976746]\n"
     ]
    }
   ],
   "source": [
    "gravity = Gravity(f, o_vars, d_vars, dij, 'exp', framework='glm')\n",
    "print gravity.params\n",
    "\n",
    "gravity = smf.glm('Data~np.log(Oi2007)+np.log(Dj2007)+Dij-1', family=families.Poisson(), data=austria).fit()\n",
    "print gravity.params.values"
   ]
  },
  {
   "cell_type": "code",
   "execution_count": 5,
   "metadata": {
    "collapsed": false,
    "scrolled": false
   },
   "outputs": [
    {
     "name": "stdout",
     "output_type": "stream",
     "text": [
      "[-1.11700938  0.5696138   1.03487752 -0.51400641 -0.23320154  0.09225167\n",
      " -0.42761955  0.03771866 -0.0922097   0.89278717 -0.00727113]\n",
      "[-1.11700938  0.56961379  1.03487751 -0.51400641 -0.23320154  0.09225166\n",
      " -0.42761955  0.03771866 -0.0922097   0.89278717 -0.00727113]\n"
     ]
    }
   ],
   "source": [
    "production = Production(f, o, d_vars, dij, 'exp', framework='glm')\n",
    "print production.params\n",
    "\n",
    "gravity = smf.glm('Data~Origin+np.log(Dj2007)+Dij-1', family=families.Poisson(), data=austria).fit()\n",
    "print gravity.params.values"
   ]
  },
  {
   "cell_type": "code",
   "execution_count": 7,
   "metadata": {
    "collapsed": false
   },
   "outputs": [
    {
     "name": "stdout",
     "output_type": "stream",
     "text": [
      "[-0.88439723  0.73740882  1.04332355 -0.75977722 -0.26060911 -0.1879365\n",
      " -0.67530313 -0.19871953 -0.39900098  0.89235874 -0.00693755]\n",
      "[-0.88439723  0.73740882  1.04332355 -0.75977722 -0.26060911 -0.1879365\n",
      " -0.67530313 -0.19871953 -0.39900099  0.89235874 -0.00693755]\n"
     ]
    }
   ],
   "source": [
    "attraction = Attraction(f, d, o_vars, dij, 'exp', framework='glm')\n",
    "print attraction.params\n",
    "\n",
    "gravity = smf.glm('Data~np.log(Oi2007)+Destination + Dij-1', family=families.Poisson(), data=austria).fit()\n",
    "print gravity.params.values"
   ]
  },
  {
   "cell_type": "code",
   "execution_count": 9,
   "metadata": {
    "collapsed": false
   },
   "outputs": [
    {
     "name": "stdout",
     "output_type": "stream",
     "text": [
      "[-0.00791533]\n",
      "[-0.00791533]\n"
     ]
    }
   ],
   "source": [
    "doubly = Doubly(f, o, d, dij, 'exp', framework='glm')\n",
    "print doubly.params[-1:]\n",
    "\n",
    "gravity = smf.glm('Data~Origin+Destination+Dij-1', family=families.Poisson(), data=austria).fit()\n",
    "print gravity.params.values[-1:]"
   ]
  }
 ],
 "metadata": {
  "kernelspec": {
   "display_name": "Python [Root]",
   "language": "python",
   "name": "Python [Root]"
  },
  "language_info": {
   "codemirror_mode": {
    "name": "ipython",
    "version": 2
   },
   "file_extension": ".py",
   "mimetype": "text/x-python",
   "name": "python",
   "nbconvert_exporter": "python",
   "pygments_lexer": "ipython2",
   "version": "2.7.12"
  }
 },
 "nbformat": 4,
 "nbformat_minor": 0
}
