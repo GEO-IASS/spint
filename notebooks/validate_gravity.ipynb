{
 "cells": [
  {
   "cell_type": "code",
   "execution_count": 8,
   "metadata": {
    "collapsed": false
   },
   "outputs": [],
   "source": [
    "#import sys\n",
    "#sys.path.append('/Users/toshan/dev/pysal/pysal/contrib/glm')\n",
    "#from utils import \n",
    "import numpy as np\n",
    "import pandas as pd\n",
    "import sys\n",
    "sys.path.append('/Users/toshan/dev/pysal/pysal/contrib/spint')\n",
    "from gravity import Gravity, Production, Attraction, Doubly, BaseGravity\n",
    "import gravity\n",
    "from spint_utils import sorensen\n",
    "import statsmodels.formula.api as smf\n",
    "from statsmodels.api import families as families"
   ]
  },
  {
   "cell_type": "code",
   "execution_count": 9,
   "metadata": {
    "collapsed": true
   },
   "outputs": [],
   "source": [
    "austria = pd.read_csv('http://dl.dropbox.com/u/8649795/AT_Austria.csv')\n",
    "austria = austria[austria['Origin'] != austria['Destination']]\n",
    "f = austria['Data'].values\n",
    "o = austria['Origin'].values\n",
    "d = austria['Destination'].values\n",
    "dij = austria['Dij'].values\n",
    "o_vars = austria['Oi2007'].values\n",
    "d_vars = austria['Dj2007'].values"
   ]
  },
  {
   "cell_type": "code",
   "execution_count": 10,
   "metadata": {
    "collapsed": false
   },
   "outputs": [
    {
     "name": "stdout",
     "output_type": "stream",
     "text": [
      "[ 0.44051324  0.5144978  -0.00976746]\n",
      "[ 0.44051324  0.5144978  -0.00976746]\n"
     ]
    }
   ],
   "source": [
    "grav = Gravity(f, o_vars, d_vars, dij, 'exp', framework='glm')\n",
    "print grav.params\n",
    "\n",
    "gravity = smf.glm('Data~np.log(Oi2007)+np.log(Dj2007)+Dij-1', family=families.Poisson(), data=austria).fit()\n",
    "print gravity.params.values"
   ]
  },
  {
   "cell_type": "code",
   "execution_count": 11,
   "metadata": {
    "collapsed": false,
    "scrolled": false
   },
   "outputs": [
    {
     "name": "stdout",
     "output_type": "stream",
     "text": [
      "[-1.11700938  0.5696138   1.03487752 -0.51400641 -0.23320154  0.09225167\n",
      " -0.42761955  0.03771866 -0.0922097   0.89278717 -0.00727113]\n",
      "[-1.11700938  0.56961379  1.03487751 -0.51400641 -0.23320154  0.09225166\n",
      " -0.42761955  0.03771866 -0.0922097   0.89278717 -0.00727113]\n"
     ]
    }
   ],
   "source": [
    "production = Production(f, o, d_vars, dij, 'exp', framework='glm')\n",
    "print production.params\n",
    "\n",
    "gravity = smf.glm('Data~Origin+np.log(Dj2007)+Dij-1', family=families.Poisson(), data=austria).fit()\n",
    "print gravity.params.values"
   ]
  },
  {
   "cell_type": "code",
   "execution_count": 12,
   "metadata": {
    "collapsed": false
   },
   "outputs": [
    {
     "name": "stdout",
     "output_type": "stream",
     "text": [
      "[-0.88439723  0.73740882  1.04332355 -0.75977722 -0.26060911 -0.1879365\n",
      " -0.67530313 -0.19871953 -0.39900098  0.89235874 -0.00693755]\n",
      "[-0.88439723  0.73740882  1.04332355 -0.75977722 -0.26060911 -0.1879365\n",
      " -0.67530313 -0.19871953 -0.39900099  0.89235874 -0.00693755]\n"
     ]
    }
   ],
   "source": [
    "attraction = Attraction(f, d, o_vars, dij, 'exp', framework='glm')\n",
    "print attraction.params\n",
    "\n",
    "gravity = smf.glm('Data~np.log(Oi2007)+Destination + Dij-1', family=families.Poisson(), data=austria).fit()\n",
    "print gravity.params.values"
   ]
  },
  {
   "cell_type": "code",
   "execution_count": 13,
   "metadata": {
    "collapsed": false
   },
   "outputs": [
    {
     "name": "stdout",
     "output_type": "stream",
     "text": [
      "[-0.00791533]\n",
      "[-0.00791533]\n"
     ]
    }
   ],
   "source": [
    "doubly = Doubly(f, o, d, dij, 'exp', framework='glm')\n",
    "print doubly.params[-1:]\n",
    "\n",
    "gravity = smf.glm('Data~Origin+Destination+Dij-1', family=families.Poisson(), data=austria).fit()\n",
    "print gravity.params.values[-1:]"
   ]
  },
  {
   "cell_type": "code",
   "execution_count": 14,
   "metadata": {
    "collapsed": false
   },
   "outputs": [
    {
     "ename": "NameError",
     "evalue": "name 'SSI' is not defined",
     "output_type": "error",
     "traceback": [
      "\u001b[0;31m---------------------------------------------------------------------------\u001b[0m",
      "\u001b[0;31mNameError\u001b[0m                                 Traceback (most recent call last)",
      "\u001b[0;32m<ipython-input-14-420ba8c8c434>\u001b[0m in \u001b[0;36m<module>\u001b[0;34m()\u001b[0m\n\u001b[0;32m----> 1\u001b[0;31m \u001b[0mSSI\u001b[0m\u001b[0;34m(\u001b[0m\u001b[0mgrav\u001b[0m\u001b[0;34m)\u001b[0m\u001b[0;34m\u001b[0m\u001b[0m\n\u001b[0m",
      "\u001b[0;31mNameError\u001b[0m: name 'SSI' is not defined"
     ]
    }
   ],
   "source": [
    "SSI(grav)"
   ]
  },
  {
   "cell_type": "code",
   "execution_count": null,
   "metadata": {
    "collapsed": false
   },
   "outputs": [],
   "source": [
    "SSI(production)"
   ]
  },
  {
   "cell_type": "code",
   "execution_count": null,
   "metadata": {
    "collapsed": false
   },
   "outputs": [],
   "source": [
    "SSI(attraction)"
   ]
  },
  {
   "cell_type": "code",
   "execution_count": null,
   "metadata": {
    "collapsed": false
   },
   "outputs": [],
   "source": [
    "SSI(doubly)"
   ]
  },
  {
   "cell_type": "code",
   "execution_count": null,
   "metadata": {
    "collapsed": false
   },
   "outputs": [],
   "source": [
    "grav.sorensen"
   ]
  },
  {
   "cell_type": "code",
   "execution_count": null,
   "metadata": {
    "collapsed": false
   },
   "outputs": [],
   "source": [
    "production.sorensen"
   ]
  },
  {
   "cell_type": "code",
   "execution_count": null,
   "metadata": {
    "collapsed": false
   },
   "outputs": [],
   "source": [
    "attraction.sorensen"
   ]
  },
  {
   "cell_type": "code",
   "execution_count": null,
   "metadata": {
    "collapsed": false
   },
   "outputs": [],
   "source": [
    "doubly.sorensen"
   ]
  },
  {
   "cell_type": "code",
   "execution_count": null,
   "metadata": {
    "collapsed": true
   },
   "outputs": [],
   "source": []
  },
  {
   "cell_type": "code",
   "execution_count": null,
   "metadata": {
    "collapsed": true
   },
   "outputs": [],
   "source": []
  }
 ],
 "metadata": {
  "kernelspec": {
   "display_name": "Python [Root]",
   "language": "python",
   "name": "Python [Root]"
  },
  "language_info": {
   "codemirror_mode": {
    "name": "ipython",
    "version": 2
   },
   "file_extension": ".py",
   "mimetype": "text/x-python",
   "name": "python",
   "nbconvert_exporter": "python",
   "pygments_lexer": "ipython2",
   "version": "2.7.12"
  }
 },
 "nbformat": 4,
 "nbformat_minor": 0
}
