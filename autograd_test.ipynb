{
 "cells": [
  {
   "cell_type": "code",
   "execution_count": 8,
   "metadata": {
    "collapsed": false
   },
   "outputs": [
    {
     "name": "stdout",
     "output_type": "stream",
     "text": [
      "[ 0.35476854  0.25806804  0.23115129]\n",
      "[ 0.35476854  0.25806804  0.23115129]\n",
      "(1.958243558419781e-07, 4.8704197297411156e-07, 5.7569423006498255e-08)\n"
     ]
    }
   ],
   "source": [
    "austria = pd.read_csv('http://dl.dropbox.com/u/8649795/AT_Austria.csv')\n",
    "austria = austria[austria['Origin'] != austria['Destination']]\n",
    "f = np.reshape(austria['Data'].values, (-1,1))\n",
    "o = austria['Origin'].values\n",
    "d = austria['Destination'].values\n",
    "dij = np.reshape(austria['Dij'].values, (-1,1))\n",
    "o_vars = np.reshape(austria['Oi2007'].values, (-1,1))\n",
    "d_vars = np.reshape(austria['Dj2007'].values, (-1,1))\n",
    "dij = np.reshape(austria['Dij'].values, (-1,1))\n",
    "o_vars = np.reshape(austria['Oi2007'].values, (-1,1))\n",
    "d_vars = np.reshape(austria['Dj2007'].values, (-1,1))\n",
    "\n",
    "def newton(f, x0):\n",
    "    # wrap scipy.optimize.newton with our automatic derivatives\n",
    "    params = scipy.optimize.fsolve(f, x0)\n",
    "    return params\n",
    "\n",
    "def poiss_loglike(mu, sig, ep, x, inputs):\n",
    "    a,b,c = inputs[:,0], inputs[:,1], inputs[:,2]\n",
    "    predict = sig*a + ep*b + mu*c\n",
    "    predict = np.reshape(predict, (-1,1))\n",
    "    return -np.sum(x*np.log(predict)-predict)\n",
    "\n",
    "#def loglike(mu, k, x, inputs):\n",
    "    #return np.sum(poiss_loglike(mu, k, x, inputs))\n",
    "\n",
    "\n",
    "def fit_maxlike(x, inputs, mu_guess, o_guess, d_guess):\n",
    "    prime = lambda p: multigrad(poiss_loglike, argnums=[0,1,2])(p[0], p[1], p[2], x, inputs)\n",
    "    params = newton(prime, (mu_guess, o_guess, d_guess))\n",
    "    return params\n",
    "\n",
    "\n",
    "if __name__ == \"__main__\":\n",
    "    \n",
    "    x=np.log(f)\n",
    "    inputs = np.hstack((np.log(o_vars), np.log(d_vars), np.log(dij)))\n",
    "    params = fit_maxlike(x, inputs, mu_guess=0.0, o_guess=1.0, d_guess=1.0)\n",
    "    print(params)\n",
    "    params = fit_maxlike(x, inputs, mu_guess=-1.14993102, o_guess=0.69084953, d_guess=0.68523832)\n",
    "    print(params)\n",
    "    \n",
    "    prime = lambda p: multigrad(poiss_loglike, argnums=[0,1,2])(p[0], p[1], p[2], x, inputs)\n",
    "    print(prime(params))\n",
    "\n",
    "\n"
   ]
  },
  {
   "cell_type": "code",
   "execution_count": 6,
   "metadata": {
    "collapsed": false
   },
   "outputs": [
    {
     "data": {
      "text/plain": [
       "array([[ 1131],\n",
       "       [ 1887],\n",
       "       [   69],\n",
       "       [  738],\n",
       "       [   98],\n",
       "       [   31],\n",
       "       [   43],\n",
       "       [   19],\n",
       "       [ 1633],\n",
       "       [14055],\n",
       "       [  416],\n",
       "       [ 1276],\n",
       "       [ 1850],\n",
       "       [  388],\n",
       "       [  303],\n",
       "       [  159],\n",
       "       [ 2301],\n",
       "       [20164],\n",
       "       [ 1080],\n",
       "       [ 1831],\n",
       "       [ 1943],\n",
       "       [  742],\n",
       "       [  674],\n",
       "       [  407],\n",
       "       [   85],\n",
       "       [  379],\n",
       "       [ 1597],\n",
       "       [ 1608],\n",
       "       [  328],\n",
       "       [  317],\n",
       "       [  469],\n",
       "       [  114],\n",
       "       [  762],\n",
       "       [ 1110],\n",
       "       [ 2973],\n",
       "       [ 1252],\n",
       "       [ 1081],\n",
       "       [  622],\n",
       "       [  425],\n",
       "       [  262],\n",
       "       [  196],\n",
       "       [ 2027],\n",
       "       [ 3498],\n",
       "       [  346],\n",
       "       [ 1332],\n",
       "       [ 2144],\n",
       "       [  821],\n",
       "       [  274],\n",
       "       [   49],\n",
       "       [  378],\n",
       "       [ 1349],\n",
       "       [  310],\n",
       "       [  851],\n",
       "       [ 2117],\n",
       "       [  630],\n",
       "       [  106],\n",
       "       [   87],\n",
       "       [  424],\n",
       "       [  978],\n",
       "       [  490],\n",
       "       [  670],\n",
       "       [  577],\n",
       "       [  546],\n",
       "       [  569],\n",
       "       [   33],\n",
       "       [  128],\n",
       "       [  643],\n",
       "       [  154],\n",
       "       [  328],\n",
       "       [  199],\n",
       "       [  112],\n",
       "       [  587]])"
      ]
     },
     "execution_count": 6,
     "metadata": {},
     "output_type": "execute_result"
    }
   ],
   "source": []
  },
  {
   "cell_type": "code",
   "execution_count": null,
   "metadata": {
    "collapsed": true
   },
   "outputs": [],
   "source": []
  }
 ],
 "metadata": {
  "kernelspec": {
   "display_name": "Python 2",
   "language": "python",
   "name": "python2"
  },
  "language_info": {
   "codemirror_mode": {
    "name": "ipython",
    "version": 2
   },
   "file_extension": ".py",
   "mimetype": "text/x-python",
   "name": "python",
   "nbconvert_exporter": "python",
   "pygments_lexer": "ipython2",
   "version": "2.7.9"
  }
 },
 "nbformat": 4,
 "nbformat_minor": 0
}
