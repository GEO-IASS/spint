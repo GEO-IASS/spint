{
 "cells": [
  {
   "cell_type": "code",
   "execution_count": 1,
   "metadata": {
    "collapsed": false
   },
   "outputs": [
    {
     "name": "stdout",
     "output_type": "stream",
     "text": [
      "Populating the interactive namespace from numpy and matplotlib\n"
     ]
    }
   ],
   "source": [
    "import numpy as np\n",
    "import pandas as pd\n",
    "from gravity import Gravity, Production, Attraction, Doubly, BaseGravity\n",
    "from entropy import Unconstrained, ProductionConstrained, AttractionConstrained, DoublyConstrained\n",
    "import statsmodels.formula.api as smf\n",
    "from statsmodels.api import families\n",
    "import matplotlib.pyplot as plt\n",
    "%pylab inline\n",
    "\n",
    "import time                                                \n",
    "\n",
    "def timeit(method):\n",
    "\n",
    "    def timed(*args, **kw):\n",
    "        ts = time.time()\n",
    "        result = method(*args, **kw)\n",
    "        te = time.time()\n",
    "        elapsed = te-ts\n",
    "\n",
    "        #print '%2.8f sec' % \\\n",
    "              #(elapsed)\n",
    "        return result, elapsed\n",
    "\n",
    "    return timed"
   ]
  },
  {
   "cell_type": "code",
   "execution_count": 2,
   "metadata": {
    "collapsed": false
   },
   "outputs": [],
   "source": [
    "@timeit\n",
    "def gravity(f ,o, d, o_vars, d_vars, dij, cost='exp', framework='glm'):\n",
    "    results = Gravity(f, o_vars, d_vars, dij, cost, framework=framework)\n",
    "    return results\n",
    "    \n",
    "@timeit    \n",
    "def production(f ,o, d, o_vars, d_vars, dij, cost='exp', framework='glm'):\n",
    "    results = Production(f, o, d_vars, dij, 'exp', framework=framework)\n",
    "    return results\n",
    "\n",
    "@timeit    \n",
    "def attraction(f ,o, d, o_vars, d_vars, dij, cost='exp', framework='glm'):\n",
    "    results = Attraction(f, d, o_vars, dij, 'exp', framework=framework)\n",
    "    return results\n",
    "\n",
    "@timeit    \n",
    "def doubly(f ,o, d, o_vars, d_vars, dij, cost='exp', framework='glm'):\n",
    "    results = Doubly(f, o, d, dij, 'exp', framework=framework)\n",
    "    return results\n",
    "\n"
   ]
  },
  {
   "cell_type": "code",
   "execution_count": 3,
   "metadata": {
    "collapsed": false
   },
   "outputs": [],
   "source": [
    "def sim_data(n):\n",
    "    o = np.tile(np.arange(n),n)\n",
    "    d = np.repeat(np.arange(n),n)\n",
    "    loc_size = np.random.randint(25000,500000, n)\n",
    "    o_vars = np.tile(loc_size, n)\n",
    "    d_vars = np.repeat(loc_size, n)\n",
    "    dij = np.random.exponential(2500, n**2)\n",
    "    f = o_vars**.3*d_vars**.4*np.exp(dij*-.00005)\n",
    "    o = np.reshape(o, (-1,1))\n",
    "    d = np.reshape(d, (-1,1))\n",
    "    o_vars = np.reshape(o_vars, (-1,1))\n",
    "    d_vars = np.reshape(d_vars, (-1,1))\n",
    "    dij = np.reshape(dij, (-1,1))\n",
    "    f = np.reshape(f, (-1,1))\n",
    "    f = f.astype(np.int64)\n",
    "    return f, o, d, o_vars, d_vars, dij\n"
   ]
  },
  {
   "cell_type": "code",
   "execution_count": 4,
   "metadata": {
    "collapsed": false
   },
   "outputs": [],
   "source": [
    "def loop(func, start, stop, step, framework='glm'):\n",
    "    results = []\n",
    "    for n in np.arange(start, stop, step):\n",
    "        f, o, d, o_vars, d_vars, dij = sim_data(n)\n",
    "        out, elapsed = func(f, o, d, o_vars, d_vars, dij, 'exp', framework=framework)\n",
    "        print out.params[-2:]\n",
    "        results.append(elapsed)\n",
    "    return results\n",
    "    \n"
   ]
  },
  {
   "cell_type": "code",
   "execution_count": 6,
   "metadata": {
    "collapsed": false
   },
   "outputs": [
    {
     "name": "stdout",
     "output_type": "stream",
     "text": [
      "[  4.00003986e-01  -5.00062344e-05]\n",
      "[  4.00000711e-01  -5.00059325e-05]\n",
      "[  4.00001658e-01  -5.00061814e-05]\n",
      "[  4.00001436e-01  -5.00056294e-05]\n",
      "done grav\n",
      "[  4.00052393e-01  -5.00055341e-05]\n",
      "[  4.00047276e-01  -5.00051040e-05]\n",
      "[  4.00048658e-01  -5.00059538e-05]\n",
      "[  4.00048379e-01  -5.00055060e-05]\n",
      "done prod\n",
      "[  3.00036436e-01  -5.00048422e-05]\n",
      "[  3.00034506e-01  -5.00050569e-05]\n",
      "[  3.00034662e-01  -5.00057481e-05]\n",
      "[  3.00033724e-01  -5.00053687e-05]\n",
      "done att\n",
      "[  8.75099647e+00  -5.00049372e-05]\n",
      "[  8.73882480e+00  -5.00055008e-05]\n",
      "[  8.94907167e+00  -5.00053340e-05]\n",
      "[  7.73702314e+00  -5.00054592e-05]\n",
      "done doub\n"
     ]
    }
   ],
   "source": [
    "glm_grav = loop(gravity, 50, 250, 50)\n",
    "glm_prod = loop(production, 50, 250, 50)\n",
    "glm_att = loop(attraction, 50, 250, 50)\n",
    "glm_doub = loop(doubly, 50, 250, 50)"
   ]
  },
  {
   "cell_type": "code",
   "execution_count": 24,
   "metadata": {
    "collapsed": false
   },
   "outputs": [
    {
     "name": "stdout",
     "output_type": "stream",
     "text": [
      "[  3.99999234e-01  -5.00062191e-05]\n",
      "[  4.00001076e-01  -5.00062492e-05]\n",
      "[  4.00001389e-01  -5.00057222e-05]\n",
      "[  4.00000984e-01  -5.00059887e-05]\n",
      "done grav\n",
      "[  4.00048435e-01  -5.00066802e-05]\n",
      "[  4.00041509e-01  -5.00050816e-05]\n",
      "[  4.00046297e-01  -5.00055228e-05]\n",
      "[  4.00047581e-01  -5.00056450e-05]\n",
      "done prod\n",
      "[  3.00034888e-01  -5.00057684e-05]\n",
      "[  3.00030868e-01  -5.00052200e-05]\n",
      "[  3.00034843e-01  -5.00052973e-05]\n",
      "[  3.00033373e-01  -5.00056172e-05]\n",
      "done att\n",
      "[  8.43635482e+00  -5.00059845e-05]\n",
      "[  9.10470367e+00  -5.00050012e-05]\n",
      "[  8.89461190e+00  -5.00056690e-05]\n",
      "[  8.15451280e+00  -5.00058664e-05]\n",
      "done doub\n"
     ]
    }
   ],
   "source": [
    "smglm_grav = loop(gravity, 50, 250, 50, framework='sm_glm')\n",
    "smglm_prod = loop(production, 50, 250, 50, framework='sm_glm')\n",
    "smglm_att = loop(attraction, 50, 250, 50, framework='sm_glm')\n",
    "smglm_doub = loop(doubly, 50, 250, 50, framework='sm_glm')"
   ]
  },
  {
   "cell_type": "code",
   "execution_count": 28,
   "metadata": {
    "collapsed": false
   },
   "outputs": [],
   "source": [
    "x = np.arange(50, 250, 50)"
   ]
  },
  {
   "cell_type": "code",
   "execution_count": 35,
   "metadata": {
    "collapsed": false
   },
   "outputs": [
    {
     "data": {
      "text/plain": [
       "[<matplotlib.lines.Line2D at 0x10d264390>,\n",
       " <matplotlib.lines.Line2D at 0x10ccc2d90>,\n",
       " <matplotlib.lines.Line2D at 0x10d75fc50>,\n",
       " <matplotlib.lines.Line2D at 0x10d89f910>]"
      ]
     },
     "execution_count": 35,
     "metadata": {},
     "output_type": "execute_result"
    },
    {
     "data": {
      "image/png": "[encoded data removed]",
      "text/plain": [
       "<matplotlib.figure.Figure at 0x10d847650>"
      ]
     },
     "metadata": {},
     "output_type": "display_data"
    }
   ],
   "source": [
    "plt.plot(x, glm_grav, x, glm_prod, x, glm_att, x, glm_doub)"
   ]
  },
  {
   "cell_type": "code",
   "execution_count": 36,
   "metadata": {
    "collapsed": false
   },
   "outputs": [
    {
     "data": {
      "text/plain": [
       "[<matplotlib.lines.Line2D at 0x10db8c110>,\n",
       " <matplotlib.lines.Line2D at 0x10d83aed0>,\n",
       " <matplotlib.lines.Line2D at 0x10db8ca10>,\n",
       " <matplotlib.lines.Line2D at 0x10db87090>]"
      ]
     },
     "execution_count": 36,
     "metadata": {},
     "output_type": "execute_result"
    },
    {
     "data": {
      "image/png": "[encoded data removed]",
      "text/plain": [
       "<matplotlib.figure.Figure at 0x10d809350>"
      ]
     },
     "metadata": {},
     "output_type": "display_data"
    }
   ],
   "source": [
    "plt.plot(x, smglm_grav, x, smglm_prod, x, smglm_att, x, smglm_doub)"
   ]
  },
  {
   "cell_type": "code",
   "execution_count": null,
   "metadata": {
    "collapsed": true
   },
   "outputs": [],
   "source": []
  },
  {
   "cell_type": "code",
   "execution_count": null,
   "metadata": {
    "collapsed": true
   },
   "outputs": [],
   "source": []
  }
 ],
 "metadata": {
  "kernelspec": {
   "display_name": "Python 2",
   "language": "python",
   "name": "python2"
  },
  "language_info": {
   "codemirror_mode": {
    "name": "ipython",
    "version": 2
   },
   "file_extension": ".py",
   "mimetype": "text/x-python",
   "name": "python",
   "nbconvert_exporter": "python",
   "pygments_lexer": "ipython2",
   "version": "2.7.9"
  }
 },
 "nbformat": 4,
 "nbformat_minor": 0
}
