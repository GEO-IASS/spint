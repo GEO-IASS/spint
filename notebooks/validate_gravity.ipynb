{
 "cells": [
  {
   "cell_type": "code",
   "execution_count": 1,
   "metadata": {
    "collapsed": false
   },
   "outputs": [],
   "source": [
    "import numpy as np\n",
    "import pandas as pd\n",
    "import os\n",
    "os.chdir('../')\n",
    "from gravity import Gravity, Production, Attraction, Doubly, BaseGravity\n",
    "import statsmodels.formula.api as smf\n",
    "from statsmodels.api import families\n",
    "\n"
   ]
  },
  {
   "cell_type": "code",
   "execution_count": 2,
   "metadata": {
    "collapsed": true
   },
   "outputs": [],
   "source": [
    "austria = pd.read_csv('http://dl.dropbox.com/u/8649795/AT_Austria.csv')\n",
    "austria = austria[austria['Origin'] != austria['Destination']]\n",
    "f = austria['Data'].values\n",
    "o = austria['Origin'].values\n",
    "d = austria['Destination'].values\n",
    "dij = austria['Dij'].values\n",
    "o_vars = austria['Oi2007'].values\n",
    "d_vars = austria['Dj2007'].values"
   ]
  },
  {
   "cell_type": "code",
   "execution_count": 3,
   "metadata": {
    "collapsed": false
   },
   "outputs": [
    {
     "name": "stdout",
     "output_type": "stream",
     "text": [
      "[ 0.44051324  0.5144978  -0.00976746]\n",
      "[ 0.44051324  0.5144978  -0.00976746]\n"
     ]
    }
   ],
   "source": [
    "gravity = Gravity(f, o_vars, d_vars, dij, 'exp', framework='glm')\n",
    "print gravity.params\n",
    "\n",
    "gravity = smf.glm('Data~np.log(Oi2007)+np.log(Dj2007)+Dij-1', family=families.Poisson(), data=austria).fit()\n",
    "print gravity.params.values"
   ]
  },
  {
   "cell_type": "code",
   "execution_count": 4,
   "metadata": {
    "collapsed": false,
    "scrolled": false
   },
   "outputs": [
    {
     "name": "stdout",
     "output_type": "stream",
     "text": [
      "[-1.11700938 -0.51400641 -0.42761955 -0.23320154 -0.0922097  -0.00727113\n",
      "  0.03771866  0.09225167  0.5696138   0.89278717  1.03487752]\n",
      "[-1.11700938 -0.51400641 -0.42761955 -0.23320154 -0.0922097  -0.00727113\n",
      "  0.03771866  0.09225166  0.56961379  0.89278717  1.03487751]\n"
     ]
    }
   ],
   "source": [
    "production = Production(f, o, d_vars, dij, 'exp', framework='glm')\n",
    "print np.sort(production.params)\n",
    "\n",
    "gravity = smf.glm('Data~Origin+np.log(Dj2007)+Dij-1', family=families.Poisson(), data=austria).fit()\n",
    "print np.sort(gravity.params.values)"
   ]
  },
  {
   "cell_type": "code",
   "execution_count": 5,
   "metadata": {
    "collapsed": false,
    "scrolled": false
   },
   "outputs": [
    {
     "name": "stdout",
     "output_type": "stream",
     "text": [
      "[-0.88439723  0.73740882  1.04332355 -0.75977722 -0.26060911 -0.1879365\n",
      " -0.67530313 -0.19871953 -0.39900098  0.89235874 -0.00693755]\n",
      "[-0.88439723  0.73740882  1.04332355 -0.75977722 -0.26060911 -0.1879365\n",
      " -0.67530313 -0.19871953 -0.39900099  0.89235874 -0.00693755]\n"
     ]
    }
   ],
   "source": [
    "attraction = Attraction(f, d, o_vars, dij, 'exp', framework='glm')\n",
    "print attraction.params\n",
    "\n",
    "gravity = smf.glm('Data~np.log(Oi2007)+Destination + Dij-1', family=families.Poisson(), data=austria).fit()\n",
    "print gravity.params.values"
   ]
  },
  {
   "cell_type": "code",
   "execution_count": 8,
   "metadata": {
    "collapsed": false
   },
   "outputs": [
    {
     "name": "stdout",
     "output_type": "stream",
     "text": [
      "[-0.00791533]\n",
      "[-0.00791533]\n"
     ]
    }
   ],
   "source": [
    "doubly = Doubly(f, o, d, dij, 'exp', framework='glm')\n",
    "print doubly.params[-1:]\n",
    "\n",
    "gravity = smf.glm('Data~Origin+Destination+Dij-1', family=families.Poisson(), data=austria).fit()\n",
    "print gravity.params.values[-1:]"
   ]
  },
  {
   "cell_type": "code",
   "execution_count": null,
   "metadata": {
    "collapsed": true
   },
   "outputs": [],
   "source": []
  }
 ],
 "metadata": {
  "kernelspec": {
   "display_name": "Python 2",
   "language": "python",
   "name": "python2"
  },
  "language_info": {
   "codemirror_mode": {
    "name": "ipython",
    "version": 2
   },
   "file_extension": ".py",
   "mimetype": "text/x-python",
   "name": "python",
   "nbconvert_exporter": "python",
   "pygments_lexer": "ipython2",
   "version": "2.7.9"
  }
 },
 "nbformat": 4,
 "nbformat_minor": 0
}
