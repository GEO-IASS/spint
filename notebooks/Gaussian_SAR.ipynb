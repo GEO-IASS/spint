{
 "cells": [
  {
   "cell_type": "code",
   "execution_count": 54,
   "metadata": {
    "collapsed": false
   },
   "outputs": [],
   "source": [
    "import numpy as np\n",
    "import pandas as pd\n",
    "import os\n",
    "os.chdir('/Users/toshan/dev/pysal/pysal/contrib/spint')\n",
    "from gravity import Gravity, Production, Attraction, Doubly, BaseGravity\n",
    "import statsmodels.formula.api as smf\n",
    "from statsmodels.api import families\n",
    "import pysal.spreg.ml_lag as ml_lag\n",
    "import pysal\n",
    "\n",
    "os.chdir('/Users/toshan/dev/pysal/pysal/weights')\n",
    "from spintW import ODW\n",
    "import numdifftools as nd"
   ]
  },
  {
   "cell_type": "code",
   "execution_count": 233,
   "metadata": {
    "collapsed": false
   },
   "outputs": [],
   "source": [
    "austria = pd.read_csv('http://dl.dropbox.com/u/8649795/AT_Austria.csv')\n",
    "#austria = austria[austria['Origin'] != austria['Destination']]\n",
    "f = austria['Data'].values\n",
    "o = austria['Origin'].values\n",
    "d = austria['Destination'].values\n",
    "dij = austria['Dij'].values\n",
    "o_vars = austria['Oi2007'].values\n",
    "d_vars = austria['Dj2007'].values\n",
    "\n",
    "o = pysal.weights.lat2W(3,3)\n",
    "d = pysal.weights.lat2W(3,3, rook=False)\n",
    "ODw = ODW(o,d)\n",
    "\n",
    "Y = f.reshape((-1,1))\n",
    "X = np.hstack([o_vars.reshape((-1,1)), d_vars.reshape((-1,1)), dij.reshape((-1,1))])"
   ]
  },
  {
   "cell_type": "code",
   "execution_count": 234,
   "metadata": {
    "collapsed": false
   },
   "outputs": [],
   "source": [
    "o = pysal.weights.lat2W(3,3)\n",
    "d = pysal.weights.lat2W(3,3, rook=False)\n",
    "ODw = ODW(o,d)"
   ]
  },
  {
   "cell_type": "code",
   "execution_count": 235,
   "metadata": {
    "collapsed": false
   },
   "outputs": [],
   "source": [
    "Y = f.reshape((-1,1))\n",
    "X = np.hstack([o_vars.reshape((-1,1)), d_vars.reshape((-1,1)), dij.reshape((-1,1))])"
   ]
  },
  {
   "cell_type": "code",
   "execution_count": 122,
   "metadata": {
    "collapsed": false
   },
   "outputs": [
    {
     "name": "stdout",
     "output_type": "stream",
     "text": [
      "[[ 0.48660564]]\n"
     ]
    }
   ],
   "source": [
    "model = ML_Lag(y, x, ODw)"
   ]
  },
  {
   "cell_type": "code",
   "execution_count": 123,
   "metadata": {
    "collapsed": false
   },
   "outputs": [
    {
     "data": {
      "text/plain": [
       "array([[ -6.30311224e+02],\n",
       "       [  8.64955926e-02],\n",
       "       [  9.20006448e-02],\n",
       "       [ -3.22943398e+00],\n",
       "       [  4.86605639e-01]])"
      ]
     },
     "execution_count": 123,
     "metadata": {},
     "output_type": "execute_result"
    }
   ],
   "source": [
    "model.betas"
   ]
  },
  {
   "cell_type": "code",
   "execution_count": 106,
   "metadata": {
    "collapsed": false
   },
   "outputs": [
    {
     "data": {
      "text/plain": [
       "(0.48660563872891355, 4877850.3554928079)"
      ]
     },
     "execution_count": 106,
     "metadata": {},
     "output_type": "execute_result"
    }
   ],
   "source": [
    "model.rho, model.sig2"
   ]
  },
  {
   "cell_type": "code",
   "execution_count": 74,
   "metadata": {
    "collapsed": false
   },
   "outputs": [],
   "source": [
    "def m_inverse_prod(w, data, scalar, post_multiply=False, inv_method=\"power_exp\", threshold=0.0000000001, max_iterations=None):\n",
    "    \"\"\" \n",
    "\n",
    "    Parameters\n",
    "    ----------\n",
    "\n",
    "    w               : Pysal W object\n",
    "                      nxn Pysal spatial weights object \n",
    "\n",
    "    data            : Numpy array\n",
    "                      nx1 vector of data\n",
    "\n",
    "    scalar          : float\n",
    "                      Scalar value (typically rho or lambda)\n",
    "\n",
    "    post_multiply   : boolean\n",
    "                      If True then post-multiplies the data vector by the\n",
    "                      inverse of the spatial filter, if false then\n",
    "                      pre-multiplies.\n",
    "    \n",
    "    threshold       : float\n",
    "                      Test value to stop the iterations. Test is against\n",
    "                      sqrt(increment' * increment), where increment is a\n",
    "                      vector representing the contribution from each\n",
    "                      iteration.\n",
    "\n",
    "    max_iterations  : integer\n",
    "                      Maximum number of iterations for the expansion.   \n",
    "\n",
    "    Examples\n",
    "    --------\n",
    "    \"\"\"\n",
    "    matrix = la.inv(np.eye(81))\n",
    "    try:\n",
    "        for i in range(len(w)):\n",
    "            matrix -=  (scalar[i] * w[i].full()[0])\n",
    "    except:\n",
    "        for i in range(len(w)):\n",
    "            matrix -= (scalar[i] * w[i])\n",
    "    if post_multiply:\n",
    "        inv_prod = spdot(data.T, np.asarray(matrix))\n",
    "    else:\n",
    "        inv_prod = spdot(np.asarray(matrix), data)\n",
    "    return inv_prod\n",
    "\n",
    "\n",
    "\n",
    "\n",
    "import numpy as np\n",
    "import numpy.linalg as la\n",
    "from scipy import sparse as sp\n",
    "from scipy.sparse.linalg import splu as SuperLU\n",
    "import pysal as ps\n",
    "from pysal.spreg.utils import RegressionPropsY, RegressionPropsVM, inverse_prod, spdot\n",
    "import pysal.spreg.diagnostics as DIAG\n",
    "import pysal.spreg.user_output as USER\n",
    "import pysal.spreg.summary_output as SUMMARY\n",
    "from pysal.spreg.w_utils import symmetrize\n",
    "try:\n",
    "    from scipy.optimize import minimize_scalar\n",
    "    from scipy.optimize import minimize\n",
    "    minimize_scalar_available = True\n",
    "except ImportError:\n",
    "    minimize_scalar_available = False\n",
    "\n",
    "__all__ = [\"ML_Lag\"]\n",
    "\n",
    "\n",
    "class BaseML_Lag(RegressionPropsY, RegressionPropsVM):\n",
    "\n",
    "    \"\"\"\n",
    "    ML estimation of the spatial lag model (note no consistency\n",
    "    checks, diagnostics or constants added); Anselin (1988) [Anselin1988]_\n",
    "    Parameters\n",
    "    ----------\n",
    "    y            : array\n",
    "                   nx1 array for dependent variable\n",
    "    x            : array\n",
    "                   Two dimensional array with n rows and one column for each\n",
    "                   independent (exogenous) variable, excluding the constant\n",
    "    w            : pysal W object\n",
    "                   Spatial weights object\n",
    "    method       : string\n",
    "                   if 'full', brute force calculation (full matrix expressions)\n",
    "                   if 'ord', Ord eigenvalue method\n",
    "                   if 'LU', LU sparse matrix decomposition\n",
    "    epsilon      : float\n",
    "                   tolerance criterion in mimimize_scalar function and inverse_product\n",
    "    Attributes\n",
    "    ----------\n",
    "    betas        : array\n",
    "                   (k+1)x1 array of estimated coefficients (rho first)\n",
    "    rho          : float\n",
    "                   estimate of spatial autoregressive coefficient\n",
    "    u            : array\n",
    "                   nx1 array of residuals\n",
    "    predy        : array\n",
    "                   nx1 array of predicted y values\n",
    "    n            : integer\n",
    "                   Number of observations\n",
    "    k            : integer\n",
    "                   Number of variables for which coefficients are estimated\n",
    "                   (including the constant, excluding the rho)\n",
    "    y            : array\n",
    "                   nx1 array for dependent variable\n",
    "    x            : array\n",
    "                   Two dimensional array with n rows and one column for each\n",
    "                   independent (exogenous) variable, including the constant\n",
    "    method       : string\n",
    "                   log Jacobian method\n",
    "                   if 'full': brute force (full matrix computations)\n",
    "                   if 'ord' : Ord eigenvalue method\n",
    "    epsilon      : float\n",
    "                   tolerance criterion used in minimize_scalar function and inverse_product\n",
    "    mean_y       : float\n",
    "                   Mean of dependent variable\n",
    "    std_y        : float\n",
    "                   Standard deviation of dependent variable\n",
    "    vm           : array\n",
    "                   Variance covariance matrix (k+1 x k+1)\n",
    "    vm1          : array\n",
    "                   Variance covariance matrix (k+2 x k+2) includes sigma2\n",
    "    sig2         : float\n",
    "                   Sigma squared used in computations\n",
    "    logll        : float\n",
    "                   maximized log-likelihood (including constant terms)\n",
    "    predy_e      : array\n",
    "                   predicted values from reduced form\n",
    "    e_pred       : array\n",
    "                   prediction errors using reduced form predicted values\n",
    "    Examples\n",
    "    --------\n",
    "    >>> import numpy as np\n",
    "    >>> import pysal as ps\n",
    "    >>> db =  ps.open(ps.examples.get_path(\"baltim.dbf\"),'r')\n",
    "    >>> ds_name = \"baltim.dbf\"\n",
    "    >>> y_name = \"PRICE\"\n",
    "    >>> y = np.array(db.by_col(y_name)).T\n",
    "    >>> y.shape = (len(y),1)\n",
    "    >>> x_names = [\"NROOM\",\"NBATH\",\"PATIO\",\"FIREPL\",\"AC\",\"GAR\",\"AGE\",\"LOTSZ\",\"SQFT\"]\n",
    "    >>> x = np.array([db.by_col(var) for var in x_names]).T\n",
    "    >>> x = np.hstack((np.ones((len(y),1)),x))\n",
    "    >>> ww = ps.open(ps.examples.get_path(\"baltim_q.gal\"))\n",
    "    >>> w = ww.read()\n",
    "    >>> ww.close()\n",
    "    >>> w.transform = 'r'\n",
    "    >>> w_name = \"baltim_q.gal\"\n",
    "    >>> mllag = BaseML_Lag(y,x,w,method='ord') #doctest: +SKIP\n",
    "    >>> \"{0:.6f}\".format(mllag.rho) #doctest: +SKIP\n",
    "    '0.425885'\n",
    "    >>> np.around(mllag.betas, decimals=4) #doctest: +SKIP\n",
    "    array([[ 4.3675],\n",
    "           [ 0.7502],\n",
    "           [ 5.6116],\n",
    "           [ 7.0497],\n",
    "           [ 7.7246],\n",
    "           [ 6.1231],\n",
    "           [ 4.6375],\n",
    "           [-0.1107],\n",
    "           [ 0.0679],\n",
    "           [ 0.0794],\n",
    "           [ 0.4259]])\n",
    "    >>> \"{0:.6f}\".format(mllag.mean_y) #doctest: +SKIP\n",
    "    '44.307180'\n",
    "    >>> \"{0:.6f}\".format(mllag.std_y) #doctest: +SKIP\n",
    "    '23.606077'\n",
    "    >>> np.around(np.diag(mllag.vm1), decimals=4) #doctest: +SKIP\n",
    "    array([  23.8716,    1.1222,    3.0593,    7.3416,    5.6695,    5.4698,\n",
    "              2.8684,    0.0026,    0.0002,    0.0266,    0.0032,  220.1292])\n",
    "    >>> np.around(np.diag(mllag.vm), decimals=4) #doctest: +SKIP\n",
    "    array([ 23.8716,   1.1222,   3.0593,   7.3416,   5.6695,   5.4698,\n",
    "             2.8684,   0.0026,   0.0002,   0.0266,   0.0032])\n",
    "    >>> \"{0:.6f}\".format(mllag.sig2) #doctest: +SKIP\n",
    "    '151.458698'\n",
    "    >>> \"{0:.6f}\".format(mllag.logll) #doctest: +SKIP\n",
    "    '-832.937174'\n",
    "    >>> mllag = BaseML_Lag(y,x,w) #doctest: +SKIP\n",
    "    >>> \"{0:.6f}\".format(mllag.rho) #doctest: +SKIP\n",
    "    '0.425885'\n",
    "    >>> np.around(mllag.betas, decimals=4) #doctest: +SKIP\n",
    "    array([[ 4.3675],\n",
    "           [ 0.7502],\n",
    "           [ 5.6116],\n",
    "           [ 7.0497],\n",
    "           [ 7.7246],\n",
    "           [ 6.1231],\n",
    "           [ 4.6375],\n",
    "           [-0.1107],\n",
    "           [ 0.0679],\n",
    "           [ 0.0794],\n",
    "           [ 0.4259]])\n",
    "    >>> \"{0:.6f}\".format(mllag.mean_y) #doctest: +SKIP\n",
    "    '44.307180'\n",
    "    >>> \"{0:.6f}\".format(mllag.std_y) #doctest: +SKIP\n",
    "    '23.606077'\n",
    "    >>> np.around(np.diag(mllag.vm1), decimals=4) #doctest: +SKIP\n",
    "    array([  23.8716,    1.1222,    3.0593,    7.3416,    5.6695,    5.4698,\n",
    "              2.8684,    0.0026,    0.0002,    0.0266,    0.0032,  220.1292])\n",
    "    >>> np.around(np.diag(mllag.vm), decimals=4) #doctest: +SKIP\n",
    "    array([ 23.8716,   1.1222,   3.0593,   7.3416,   5.6695,   5.4698,\n",
    "             2.8684,   0.0026,   0.0002,   0.0266,   0.0032])\n",
    "    >>> \"{0:.6f}\".format(mllag.sig2) #doctest: +SKIP\n",
    "    '151.458698'\n",
    "    >>> \"{0:.6f}\".format(mllag.logll) #doctest: +SKIP\n",
    "    '-832.937174'\n",
    "    \"\"\"\n",
    "\n",
    "    def __init__(self, y, x, wo, wd, ww, method='full', epsilon=0.0000001):\n",
    "        # set up main regression variables and spatial filters\n",
    "        self.y = y\n",
    "        self.x = x\n",
    "        self.n, self.k = self.x.shape\n",
    "        self.method = method\n",
    "        self.epsilon = epsilon\n",
    "        #W = w.full()[0]\n",
    "        #Wsp = w.sparse\n",
    "        oylag = ps.lag_spatial(wo, y)\n",
    "        dylag = ps.lag_spatial(wd, y)\n",
    "        wylag = ps.lag_spatial(ww, y)\n",
    "        # b0, b1, e0 and e1\n",
    "        xtx = spdot(self.x.T, self.x)\n",
    "        xtxi = la.inv(xtx)\n",
    "        xty = spdot(self.x.T, self.y)\n",
    "        xtylo = spdot(self.x.T, oylag)\n",
    "        xtyld = spdot(self.x.T, dylag)\n",
    "        xtylw = spdot(self.x.T, wylag)\n",
    "        b0 = np.dot(xtxi, xty)\n",
    "        b1 = np.dot(xtxi, xtylo)\n",
    "        b2 = np.dot(xtxi, xtyld)\n",
    "        b3 = np.dot(xtxi, xtylw)\n",
    "        e0 = self.y - spdot(x, b0)\n",
    "        e1 = oylag - spdot(x, b1)\n",
    "        e2 = dylag - spdot(x, b2)\n",
    "        e3 = wylag - spdot(x, b3)\n",
    "        methodML = method.upper()\n",
    "        # call minimizer using concentrated log-likelihood to get rho\n",
    "        if methodML in ['FULL', 'LU', 'ORD']:\n",
    "            if methodML == 'FULL':\n",
    "                Wo = wo.full()[0]     # moved here\n",
    "                Wd = wd.full()[0]\n",
    "                Ww = ww.full()[0]\n",
    "                x0 = np.array([0.0, 0.0, 0.0])\n",
    "                bounds = [(-1.0, 1.0), (-1.0, 1.0), (-1.0, 1.0)]\n",
    "                res = minimize(lag_c_loglik, x0 , bounds=bounds,\n",
    "                                      args=(\n",
    "                                          self.n, e0, e1, e2, e3, Wo, Wd, Ww),\n",
    "                                      tol=epsilon)\n",
    "            elif methodML == 'LU':\n",
    "                I = sp.identity(w.n)\n",
    "                Wsp = w.sparse  # moved here\n",
    "                res = minimize_scalar(lag_c_loglik_sp, 0.0, bounds=(-1.0,1.0),\n",
    "                                      args=(self.n, e0, e1, I, Wsp),\n",
    "                                      method='bounded', tol=epsilon)\n",
    "            elif methodML == 'ORD':\n",
    "                # check on symmetry structure\n",
    "                if w.asymmetry(intrinsic=False) == []:\n",
    "                    ww = symmetrize(w)\n",
    "                    WW = ww.todense()\n",
    "                    evals = la.eigvalsh(WW)\n",
    "                else:\n",
    "                    W = w.full()[0]     # moved here\n",
    "                    evals = la.eigvals(W)\n",
    "                res = minimize_scalar(lag_c_loglik_ord, 0.0, bounds=(-1.0, 1.0),\n",
    "                                      args=(\n",
    "                                          self.n, e0, e1, evals), method='bounded',\n",
    "                                      tol=epsilon)\n",
    "        else:\n",
    "            # program will crash, need to catch\n",
    "            print(\"{0} is an unsupported method\".format(methodML))\n",
    "            self = None\n",
    "            return\n",
    "        \n",
    "        print res.x\n",
    "        self.o_rho, self.d_rho, self.w_rho = res.x\n",
    "\n",
    "        # compute full log-likelihood, including constants\n",
    "        ln2pi = np.log(2.0 * np.pi)\n",
    "        llik = -res.fun - self.n / 2.0 * ln2pi - self.n / 2.0\n",
    "        self.logll = llik[0][0]\n",
    "\n",
    "        # b, residuals and predicted values\n",
    "\n",
    "        b = b0 - self.o_rho * b1 - self.d_rho * b2 - self.w_rho *b3\n",
    "        self.betas = np.vstack((b, self.o_rho, self.d_rho, self.w_rho))   # rho added as last coefficient\n",
    "        self.u = e0 - self.o_rho * e1 - self.o_rho * e2 - self.w_rho * e3\n",
    "        self.predy = self.y - self.u\n",
    "        xb = spdot(x, b)\n",
    "\n",
    "        self.predy_e = m_inverse_prod(\n",
    "            [wo.sparse, wd.sparse, ww.sparse], xb, [self.o_rho, self.d_rho, self.w_rho], inv_method=\"power_exp\", threshold=epsilon)\n",
    "        self.e_pred = self.y - self.predy_e\n",
    "\n",
    "        # residual variance\n",
    "        self.sig2 = self.sig2n  # no allowance for division by n-k\n",
    "        print self.betas\n",
    "        # information matrix\n",
    "        a = -self.rho * W \n",
    "        np.fill_diagonal(a, 1.0)\n",
    "        ai = la.inv(a)\n",
    "        wai = np.dot(W, ai)\n",
    "        tr1 = np.trace(wai)\n",
    "\n",
    "        wai2 = np.dot(wai, wai)\n",
    "        tr2 = np.trace(wai2)\n",
    "\n",
    "        waiTwai = np.dot(wai.T, wai)\n",
    "        tr3 = np.trace(waiTwai)\n",
    "\n",
    "        wpredy = ps.lag_spatial(w, self.predy_e)\n",
    "        wpyTwpy = np.dot(wpredy.T, wpredy)\n",
    "        xTwpy = spdot(x.T, wpredy)\n",
    "        \n",
    "   \n",
    "\n",
    "        # order of variables is beta, rho, sigma2\n",
    "\n",
    "        v1 = np.vstack(\n",
    "            (xtx / self.sig2, xTwpy.T / self.sig2, np.zeros((1, self.k))))\n",
    "        v2 = np.vstack(\n",
    "            (xTwpy / self.sig2, tr2 + tr3 + wpyTwpy / self.sig2, tr1 / self.sig2))\n",
    "        v3 = np.vstack(\n",
    "            (np.zeros((self.k, 1)), tr1 / self.sig2, self.n / (2.0 * self.sig2 ** 2)))\n",
    "\n",
    "        v = np.hstack((v1, v2, v3))\n",
    "\n",
    "        self.vm1 = la.inv(v)  # vm1 includes variance for sigma2\n",
    "        self.vm = self.vm1[:-1, :-1]  # vm is for coefficients only\n",
    "        H = nd.Hessian(lag_c_loglik)((self.n, e0, e1, e2, e3, Wo, Wd, Ww))\n",
    "\n",
    "\n",
    "def lag_c_loglik(rho, n, e0, e1, e2, e3, Wo, Wd, Ww):\n",
    "    # concentrated log-lik for lag model, no constants, brute force\n",
    "    o_rho, d_rho, w_rho = rho\n",
    "    er = e0 - o_rho * e1 - d_rho * e2 - w_rho * e3\n",
    "    sig2 = np.dot(er.T, er) / n\n",
    "    nlsig2 = (n / 2.0) * np.log(sig2)\n",
    "    a = -o_rho * Wo + -d_rho * Wd + -w_rho * Ww\n",
    "    np.fill_diagonal(a, 1.0)\n",
    "    jacob = np.log(np.linalg.det(a))\n",
    "    # this is the negative of the concentrated log lik for minimization\n",
    "    clik = nlsig2 - jacob\n",
    "    print clik\n",
    "    return clik\n",
    "\n",
    "def lag_c_loglik_sp(rho, n, e0, e1, I, Wsp):\n",
    "    # concentrated log-lik for lag model, sparse algebra\n",
    "    if isinstance(rho, np.ndarray):\n",
    "        if rho.shape == (1,1):\n",
    "            rho = rho[0][0] #why does the interior value change?\n",
    "    er = e0 - rho * e1\n",
    "    sig2 = np.dot(er.T, er) / n\n",
    "    nlsig2 = (n / 2.0) * np.log(sig2)\n",
    "    a = I - rho * Wsp\n",
    "    LU = SuperLU(a.tocsc())\n",
    "    jacob = np.sum(np.log(np.abs(LU.U.diagonal())))\n",
    "    clike = nlsig2 - jacob\n",
    "    return clike\n",
    "\n",
    "def lag_c_loglik_ord(rho, n, e0, e1, evals):\n",
    "    # concentrated log-lik for lag model, no constants, Ord eigenvalue method\n",
    "    er = e0 - rho * e1\n",
    "    sig2 = np.dot(er.T, er) / n\n",
    "    nlsig2 = (n / 2.0) * np.log(sig2)\n",
    "    revals = rho * evals\n",
    "    jacob = np.log(1 - revals).sum()\n",
    "    if isinstance(jacob, complex):\n",
    "        jacob = jacob.real\n",
    "    # this is the negative of the concentrated log lik for minimization\n",
    "    clik = nlsig2 - jacob\n",
    "    return clik\n",
    "\n"
   ]
  },
  {
   "cell_type": "code",
   "execution_count": 75,
   "metadata": {
    "collapsed": false
   },
   "outputs": [],
   "source": [
    "model = ml_lag.BaseML_Lag(y, x, ODw)"
   ]
  },
  {
   "cell_type": "code",
   "execution_count": 76,
   "metadata": {
    "collapsed": false
   },
   "outputs": [
    {
     "data": {
      "text/plain": [
       "array([[ 0.07543438],\n",
       "       [ 0.08182455],\n",
       "       [-4.43595233],\n",
       "       [ 0.4109249 ]])"
      ]
     },
     "execution_count": 76,
     "metadata": {},
     "output_type": "execute_result"
    }
   ],
   "source": [
    "model.betas"
   ]
  },
  {
   "cell_type": "code",
   "execution_count": 77,
   "metadata": {
    "collapsed": false
   },
   "outputs": [],
   "source": [
    "import pysal.weights.spatial_lag as slag\n",
    "\n",
    "o = pysal.weights.lat2W(3,3)\n",
    "d = pysal.weights.lat2W(3,3, rook=False)\n",
    "ODw = ODW(o,d)\n",
    "ODw.transform = 'r'\n",
    "\n",
    "wo = np.kron(o.full()[0], np.identity(9))\n",
    "wo = pysal.weights.full2W(wo)\n",
    "wo.transform = 'r'\n",
    "wd = np.kron(np.identity(9), d.full()[0])\n",
    "wd = pysal.weights.full2W(wd)\n",
    "wd.transform = 'r'\n",
    "             "
   ]
  },
  {
   "cell_type": "code",
   "execution_count": 78,
   "metadata": {
    "collapsed": false
   },
   "outputs": [],
   "source": [
    "a = np.identity(81) - wo.full()[0] "
   ]
  },
  {
   "cell_type": "code",
   "execution_count": 79,
   "metadata": {
    "collapsed": false
   },
   "outputs": [],
   "source": [
    "b = np.identity(81) - wd.full()[0] "
   ]
  },
  {
   "cell_type": "code",
   "execution_count": 80,
   "metadata": {
    "collapsed": false
   },
   "outputs": [],
   "source": [
    "c = np.identity(81) - wo.full()[0] - wd.full()[0] "
   ]
  },
  {
   "cell_type": "code",
   "execution_count": 81,
   "metadata": {
    "collapsed": true
   },
   "outputs": [],
   "source": [
    "d = a - b"
   ]
  },
  {
   "cell_type": "code",
   "execution_count": 82,
   "metadata": {
    "collapsed": false
   },
   "outputs": [
    {
     "data": {
      "text/plain": [
       "array([[ 1.        , -0.33333333,  0.        , ...,  0.        ,\n",
       "         0.        ,  0.        ],\n",
       "       [-0.2       ,  1.        , -0.2       , ...,  0.        ,\n",
       "         0.        ,  0.        ],\n",
       "       [ 0.        , -0.33333333,  1.        , ...,  0.        ,\n",
       "         0.        ,  0.        ],\n",
       "       ..., \n",
       "       [ 0.        ,  0.        ,  0.        , ...,  1.        ,\n",
       "        -0.33333333,  0.        ],\n",
       "       [ 0.        ,  0.        ,  0.        , ..., -0.2       ,\n",
       "         1.        , -0.2       ],\n",
       "       [ 0.        ,  0.        ,  0.        , ...,  0.        ,\n",
       "        -0.33333333,  1.        ]])"
      ]
     },
     "execution_count": 82,
     "metadata": {},
     "output_type": "execute_result"
    }
   ],
   "source": [
    "c"
   ]
  },
  {
   "cell_type": "code",
   "execution_count": 83,
   "metadata": {
    "collapsed": false
   },
   "outputs": [
    {
     "data": {
      "text/plain": [
       "array([[ 0.        ,  0.33333333,  0.        , ...,  0.        ,\n",
       "         0.        ,  0.        ],\n",
       "       [ 0.2       ,  0.        ,  0.2       , ...,  0.        ,\n",
       "         0.        ,  0.        ],\n",
       "       [ 0.        ,  0.33333333,  0.        , ...,  0.        ,\n",
       "         0.        ,  0.        ],\n",
       "       ..., \n",
       "       [ 0.        ,  0.        ,  0.        , ...,  0.        ,\n",
       "         0.33333333,  0.        ],\n",
       "       [ 0.        ,  0.        ,  0.        , ...,  0.2       ,\n",
       "         0.        ,  0.2       ],\n",
       "       [ 0.        ,  0.        ,  0.        , ...,  0.        ,\n",
       "         0.33333333,  0.        ]])"
      ]
     },
     "execution_count": 83,
     "metadata": {},
     "output_type": "execute_result"
    }
   ],
   "source": [
    "d"
   ]
  },
  {
   "cell_type": "code",
   "execution_count": 84,
   "metadata": {
    "collapsed": false
   },
   "outputs": [
    {
     "name": "stdout",
     "output_type": "stream",
     "text": [
      "[[ 626.10223615]]\n",
      "[[ 626.10223632]]\n",
      "[[ 626.10223629]]\n",
      "[[ 626.1022361]]\n",
      "[[ nan]]\n",
      "[[ nan]]\n",
      "[[ nan]]\n",
      "[[ nan]]\n",
      "[[ nan]]\n",
      "[[ nan]]\n",
      "[[ nan]]\n",
      "[[ nan]]\n",
      "[[ nan]]\n",
      "[[ nan]]\n",
      "[[ nan]]\n",
      "[[ nan]]\n",
      "[[ nan]]\n",
      "[[ nan]]\n",
      "[[ nan]]\n",
      "[[ nan]]\n",
      "[[ nan]]\n",
      "[[ nan]]\n",
      "[[ nan]]\n",
      "[[ nan]]\n",
      "[[ nan]]\n",
      "[[ nan]]\n",
      "[[ nan]]\n",
      "[[ nan]]\n",
      "[[ nan]]\n",
      "[[ nan]]\n",
      "[[ nan]]\n",
      "[[ nan]]\n",
      "[[ nan]]\n",
      "[[ nan]]\n",
      "[[ nan]]\n",
      "[[ nan]]\n",
      "[[ nan]]\n",
      "[[ nan]]\n",
      "[[ nan]]\n",
      "[[ nan]]\n",
      "[[ nan]]\n",
      "[[ nan]]\n",
      "[[ nan]]\n",
      "[[ nan]]\n",
      "[[ nan]]\n",
      "[[ nan]]\n",
      "[[ nan]]\n",
      "[[ nan]]\n",
      "[[ nan]]\n",
      "[[ nan]]\n",
      "[[ nan]]\n",
      "[[ nan]]\n",
      "[[ nan]]\n",
      "[[ nan]]\n",
      "[[ nan]]\n",
      "[[ nan]]\n",
      "[[ nan]]\n",
      "[[ nan]]\n",
      "[[ nan]]\n",
      "[[ nan]]\n",
      "[[ nan]]\n",
      "[[ nan]]\n",
      "[[ nan]]\n",
      "[[ nan]]\n",
      "[[ nan]]\n",
      "[[ nan]]\n",
      "[[ nan]]\n",
      "[[ nan]]\n",
      "[[ nan]]\n",
      "[[ nan]]\n",
      "[[ nan]]\n",
      "[[ nan]]\n",
      "[[ nan]]\n",
      "[[ nan]]\n",
      "[[ nan]]\n",
      "[[ nan]]\n",
      "[[ nan]]\n",
      "[[ nan]]\n",
      "[[ nan]]\n",
      "[[ nan]]\n",
      "[[ nan]]\n",
      "[[ nan]]\n",
      "[[ nan]]\n",
      "[[ nan]]\n",
      "[ 0.  0.  0.]\n",
      "[[ 0.09410452]\n",
      " [ 0.0947918 ]\n",
      " [-4.17342294]\n",
      " [ 0.        ]\n",
      " [ 0.        ]\n",
      " [ 0.        ]]\n"
     ]
    },
    {
     "ename": "AttributeError",
     "evalue": "'BaseML_Lag' object has no attribute 'rho'",
     "output_type": "error",
     "traceback": [
      "\u001b[0;31m---------------------------------------------------------------------------\u001b[0m",
      "\u001b[0;31mAttributeError\u001b[0m                            Traceback (most recent call last)",
      "\u001b[0;32m<ipython-input-84-9d8c27309244>\u001b[0m in \u001b[0;36m<module>\u001b[0;34m()\u001b[0m\n\u001b[0;32m----> 1\u001b[0;31m \u001b[0mmodel\u001b[0m \u001b[0;34m=\u001b[0m \u001b[0mBaseML_Lag\u001b[0m\u001b[0;34m(\u001b[0m\u001b[0my\u001b[0m\u001b[0;34m,\u001b[0m \u001b[0mx\u001b[0m\u001b[0;34m,\u001b[0m \u001b[0mwo\u001b[0m\u001b[0;34m,\u001b[0m \u001b[0mwd\u001b[0m\u001b[0;34m,\u001b[0m \u001b[0mODw\u001b[0m\u001b[0;34m)\u001b[0m\u001b[0;34m\u001b[0m\u001b[0m\n\u001b[0m",
      "\u001b[0;32m<ipython-input-74-b8d4e8e730da>\u001b[0m in \u001b[0;36m__init__\u001b[0;34m(self, y, x, wo, wd, ww, method, epsilon)\u001b[0m\n\u001b[1;32m    295\u001b[0m         \u001b[0;32mprint\u001b[0m \u001b[0mself\u001b[0m\u001b[0;34m.\u001b[0m\u001b[0mbetas\u001b[0m\u001b[0;34m\u001b[0m\u001b[0m\n\u001b[1;32m    296\u001b[0m         \u001b[0;31m# information matrix\u001b[0m\u001b[0;34m\u001b[0m\u001b[0;34m\u001b[0m\u001b[0m\n\u001b[0;32m--> 297\u001b[0;31m         \u001b[0ma\u001b[0m \u001b[0;34m=\u001b[0m \u001b[0;34m-\u001b[0m\u001b[0mself\u001b[0m\u001b[0;34m.\u001b[0m\u001b[0mrho\u001b[0m \u001b[0;34m*\u001b[0m \u001b[0mW\u001b[0m\u001b[0;34m\u001b[0m\u001b[0m\n\u001b[0m\u001b[1;32m    298\u001b[0m         \u001b[0mnp\u001b[0m\u001b[0;34m.\u001b[0m\u001b[0mfill_diagonal\u001b[0m\u001b[0;34m(\u001b[0m\u001b[0ma\u001b[0m\u001b[0;34m,\u001b[0m \u001b[0;36m1.0\u001b[0m\u001b[0;34m)\u001b[0m\u001b[0;34m\u001b[0m\u001b[0m\n\u001b[1;32m    299\u001b[0m         \u001b[0mai\u001b[0m \u001b[0;34m=\u001b[0m \u001b[0mla\u001b[0m\u001b[0;34m.\u001b[0m\u001b[0minv\u001b[0m\u001b[0;34m(\u001b[0m\u001b[0ma\u001b[0m\u001b[0;34m)\u001b[0m\u001b[0;34m\u001b[0m\u001b[0m\n",
      "\u001b[0;31mAttributeError\u001b[0m: 'BaseML_Lag' object has no attribute 'rho'"
     ]
    }
   ],
   "source": [
    "model = BaseML_Lag(y, x, wo, wd, ODw)"
   ]
  },
  {
   "cell_type": "code",
   "execution_count": null,
   "metadata": {
    "collapsed": true
   },
   "outputs": [],
   "source": []
  },
  {
   "cell_type": "code",
   "execution_count": 783,
   "metadata": {
    "collapsed": false
   },
   "outputs": [
    {
     "ename": "TypeError",
     "evalue": "vstack() takes exactly 1 argument (0 given)",
     "output_type": "error",
     "traceback": [
      "\u001b[0;31m---------------------------------------------------------------------------\u001b[0m",
      "\u001b[0;31mTypeError\u001b[0m                                 Traceback (most recent call last)",
      "\u001b[0;32m<ipython-input-783-940c82ab0612>\u001b[0m in \u001b[0;36m<module>\u001b[0;34m()\u001b[0m\n\u001b[1;32m     15\u001b[0m \u001b[0mci\u001b[0m \u001b[0;34m=\u001b[0m \u001b[0mla\u001b[0m\u001b[0;34m.\u001b[0m\u001b[0minv\u001b[0m\u001b[0;34m(\u001b[0m\u001b[0mc\u001b[0m\u001b[0;34m)\u001b[0m\u001b[0;34m\u001b[0m\u001b[0m\n\u001b[1;32m     16\u001b[0m \u001b[0;34m\u001b[0m\u001b[0m\n\u001b[0;32m---> 17\u001b[0;31m \u001b[0mnp\u001b[0m\u001b[0;34m.\u001b[0m\u001b[0mvstack\u001b[0m\u001b[0;34m(\u001b[0m\u001b[0;34m)\u001b[0m\u001b[0;34m\u001b[0m\u001b[0m\n\u001b[0m\u001b[1;32m     18\u001b[0m \u001b[0;34m\u001b[0m\u001b[0m\n\u001b[1;32m     19\u001b[0m \u001b[0mwai\u001b[0m \u001b[0;34m=\u001b[0m \u001b[0mnp\u001b[0m\u001b[0;34m.\u001b[0m\u001b[0mdot\u001b[0m\u001b[0;34m(\u001b[0m\u001b[0mw\u001b[0m\u001b[0;34m,\u001b[0m \u001b[0mai\u001b[0m\u001b[0;34m)\u001b[0m\u001b[0;34m\u001b[0m\u001b[0m\n",
      "\u001b[0;31mTypeError\u001b[0m: vstack() takes exactly 1 argument (0 given)"
     ]
    }
   ],
   "source": [
    "Wo = wo.full()[0]\n",
    "Wd = wd.full()[0]\n",
    "Ww = ODw.full()[0]\n",
    "w = np.vstack([Wo, Wd, Ww])\n",
    "a = -.5 * Wo\n",
    "b = -.5 * Wd\n",
    "c = -.5 * Ww\n",
    "\n",
    "np.fill_diagonal(a, 1.0)\n",
    "np.fill_diagonal(b, 1.0)\n",
    "np.fill_diagonal(c, 1.0)\n",
    "\n",
    "ai = la.inv(a)\n",
    "bi = la.inv(b)\n",
    "ci = la.inv(c)\n",
    "\n",
    "np.vstack()\n",
    "\n",
    "wai = np.dot(w, ai)\n",
    "tr1 = np.trace(wai)"
   ]
  },
  {
   "cell_type": "code",
   "execution_count": null,
   "metadata": {
    "collapsed": false
   },
   "outputs": [],
   "source": [
    "import numpy as np\n",
    "from scipy.optimize import approx_fprime\n",
    "\n",
    "\n",
    "def lag_c_loglik(rho, n, e0, e1, e2, e3, Wo, Wd, Ww):\n",
    "    # concentrated log-lik for lag model, no constants, brute force\n",
    "    o_rho, d_rho, w_rho = rho\n",
    "    er = e0 - o_rho * e1 - d_rho * e2 - w_rho * e3\n",
    "    sig2 = np.dot(er.T, er) / n\n",
    "    nlsig2 = (n / 2.0) * np.log(sig2)\n",
    "    a = -o_rho * Wo + -d_rho * Wd + -w_rho * Ww\n",
    "    np.fill_diagonal(a, 1.0)\n",
    "    jacob = np.log(np.linalg.det(a))\n",
    "    # this is the negative of the concentrated log lik for minimization\n",
    "    clik = nlsig2 - jacob\n",
    "    return clik\n",
    "\n",
    "def hessian ( x0, epsilon=1.e-5, linear_approx=False, *args ):\n",
    "    \"\"\"\n",
    "    A numerical approximation to the Hessian matrix of cost function at\n",
    "    location x0 (hopefully, the minimum)\n",
    "    \"\"\"\n",
    "    # ``calculate_cost_function`` is the cost function implementation\n",
    "    # The next line calculates an approximation to the first\n",
    "    # derivative\n",
    "    f1 = approx_fprime( x0, lag_c_loglik, *args) \n",
    "\n",
    "    # This is a linear approximation. Obviously much more efficient\n",
    "    # if cost function is linear\n",
    "    if linear_approx:\n",
    "        f1 = np.matrix(f1)\n",
    "        return f1.transpose() * f1    \n",
    "    # Allocate space for the hessian\n",
    "    n = x0.shape[0]\n",
    "    hessian = np.zeros ( ( n, n ) )\n",
    "    # The next loop fill in the matrix\n",
    "    xx = x0\n",
    "    for j in xrange( n ):\n",
    "        xx0 = xx[j] # Store old value\n",
    "        xx[j] = xx0 + epsilon # Perturb with finite difference\n",
    "        # Recalculate the partial derivatives for this new point\n",
    "        f2 = approx_fprime( x0, lag_c_loglik, *args) \n",
    "        hessian[:, j] = (f2 - f1)/epsilon # scale...\n",
    "        xx[j] = xx0 # Restore initial value of x0        \n",
    "    return hessian\n",
    "\n",
    "hessian(rho, *args=n, e0, e1, e2, e3, Wo, Wd, Ww)"
   ]
  },
  {
   "cell_type": "code",
   "execution_count": 784,
   "metadata": {
    "collapsed": false
   },
   "outputs": [],
   "source": [
    "a = zip([1,2], [3,4])"
   ]
  },
  {
   "cell_type": "code",
   "execution_count": 785,
   "metadata": {
    "collapsed": false
   },
   "outputs": [
    {
     "data": {
      "text/plain": [
       "[(1, 3), (2, 4)]"
      ]
     },
     "execution_count": 785,
     "metadata": {},
     "output_type": "execute_result"
    }
   ],
   "source": [
    "a"
   ]
  },
  {
   "cell_type": "code",
   "execution_count": 786,
   "metadata": {
    "collapsed": false
   },
   "outputs": [
    {
     "data": {
      "text/plain": [
       "[(1, 2), (3, 4)]"
      ]
     },
     "execution_count": 786,
     "metadata": {},
     "output_type": "execute_result"
    }
   ],
   "source": [
    "zip(*a)"
   ]
  },
  {
   "cell_type": "code",
   "execution_count": 1040,
   "metadata": {
    "collapsed": true
   },
   "outputs": [],
   "source": [
    "import pysal.weights.spatial_lag as slag\n",
    "\n",
    "o = pysal.weights.lat2W(3,3)\n",
    "d = pysal.weights.lat2W(3,3)\n",
    "\n",
    "wo = np.kron(o.full()[0], np.identity(9))\n",
    "wo = pysal.weights.full2W(wo)\n",
    "wd = np.kron(np.identity(9), d.full()[0])\n",
    "wd = pysal.weights.full2W(wd)\n",
    "\n",
    "ODw = ODW(o,d)\n",
    "\n",
    "o_rho = 0\n",
    "d_rho = 0\n",
    "w_rho = 0\n",
    "\n",
    "ar = np.linalg.inv(np.identity(81) - o_rho*wo.full()[0] + d_rho*wd.full()[0] - w_rho*ODw.full()[0])"
   ]
  },
  {
   "cell_type": "code",
   "execution_count": 808,
   "metadata": {
    "collapsed": false
   },
   "outputs": [],
   "source": [
    "betas = np.vstack([5,2,3,-.5])\n",
    "X = np.hstack([np.ones((81,1)), x])\n",
    "\n",
    "XB = np.dot(X,betas)"
   ]
  },
  {
   "cell_type": "code",
   "execution_count": 809,
   "metadata": {
    "collapsed": false
   },
   "outputs": [],
   "source": [
    "y = np.dot(ar,XB) * (XB + np.random.normal(0,500, (81,1)))"
   ]
  },
  {
   "cell_type": "code",
   "execution_count": 810,
   "metadata": {
    "collapsed": false
   },
   "outputs": [
    {
     "data": {
      "text/plain": [
       "(81, 1)"
      ]
     },
     "execution_count": 810,
     "metadata": {},
     "output_type": "execute_result"
    }
   ],
   "source": [
    "y.shape"
   ]
  },
  {
   "cell_type": "code",
   "execution_count": 811,
   "metadata": {
    "collapsed": false
   },
   "outputs": [
    {
     "data": {
      "text/plain": [
       "array([[  6.37093741e+08],\n",
       "       [  8.16525403e+09],\n",
       "       [  8.97635629e+09],\n",
       "       [  4.68214332e+08],\n",
       "       [  1.25760644e+09],\n",
       "       [  1.16570361e+09],\n",
       "       [  5.29762196e+08],\n",
       "       [  4.07096567e+08],\n",
       "       [  2.14117475e+08],\n",
       "       [  3.52280616e+09],\n",
       "       [  1.54191879e+10],\n",
       "       [  1.67152814e+10],\n",
       "       [  3.15852297e+09],\n",
       "       [  4.90947839e+09],\n",
       "       [  4.68781830e+09],\n",
       "       [  3.35252418e+09],\n",
       "       [  2.95551179e+09],\n",
       "       [  2.39754416e+09],\n",
       "       [  5.97181522e+09],\n",
       "       [  2.03924950e+10],\n",
       "       [  2.15978863e+10],\n",
       "       [  5.47061949e+09],\n",
       "       [  7.77132692e+09],\n",
       "       [  7.50099143e+09],\n",
       "       [  5.75724304e+09],\n",
       "       [  5.21073016e+09],\n",
       "       [  4.46833206e+09],\n",
       "       [  6.81231632e+08],\n",
       "       [  8.40364515e+09],\n",
       "       [  9.21870664e+09],\n",
       "       [  5.26497967e+08],\n",
       "       [  1.39392007e+09],\n",
       "       [  1.25879357e+09],\n",
       "       [  6.11584616e+08],\n",
       "       [  4.70339906e+08],\n",
       "       [  2.66015239e+08],\n",
       "       [  1.14166987e+09],\n",
       "       [  9.88033832e+09],\n",
       "       [  1.07390056e+10],\n",
       "       [  9.04913430e+08],\n",
       "       [  2.01879556e+09],\n",
       "       [  1.88850985e+09],\n",
       "       [  1.06063642e+09],\n",
       "       [  8.35270498e+08],\n",
       "       [  5.57906768e+08],\n",
       "       [  1.49506006e+09],\n",
       "       [  1.08155817e+10],\n",
       "       [  1.17780173e+10],\n",
       "       [  1.27629744e+09],\n",
       "       [  2.51817155e+09],\n",
       "       [  2.31635983e+09],\n",
       "       [  1.42062672e+09],\n",
       "       [  1.18858116e+09],\n",
       "       [  8.21670794e+08],\n",
       "       [  8.12438819e+08],\n",
       "       [  8.64144921e+09],\n",
       "       [  9.62846528e+09],\n",
       "       [  6.52532260e+08],\n",
       "       [  1.57448214e+09],\n",
       "       [  1.45506087e+09],\n",
       "       [  7.34834529e+08],\n",
       "       [  5.77404601e+08],\n",
       "       [  3.21289841e+08],\n",
       "       [  6.44944040e+08],\n",
       "       [  8.16896501e+09],\n",
       "       [  8.98107561e+09],\n",
       "       [  4.86949084e+08],\n",
       "       [  1.30109957e+09],\n",
       "       [  1.20323082e+09],\n",
       "       [  5.68206091e+08],\n",
       "       [  4.18008269e+08],\n",
       "       [  2.37798738e+08],\n",
       "       [  4.35126287e+08],\n",
       "       [  7.39043341e+09],\n",
       "       [  8.17181238e+09],\n",
       "       [  3.05686835e+08],\n",
       "       [  9.98725521e+08],\n",
       "       [  9.10473216e+08],\n",
       "       [  3.62901865e+08],\n",
       "       [  2.58667270e+08],\n",
       "       [  1.17770905e+08]])"
      ]
     },
     "execution_count": 811,
     "metadata": {},
     "output_type": "execute_result"
    }
   ],
   "source": [
    "y"
   ]
  },
  {
   "cell_type": "code",
   "execution_count": 812,
   "metadata": {
    "collapsed": false
   },
   "outputs": [
    {
     "name": "stdout",
     "output_type": "stream",
     "text": [
      "[[ 1686.39964026]]\n",
      "[[ 1686.39964004]]\n",
      "[[ 1686.39964063]]\n",
      "[[ 1686.39964041]]\n",
      "[[ 1853.56189284]]\n",
      "[[ 1846.17328289]]\n",
      "[[ 1846.17448887]]\n",
      "[[ 1834.6697142]]\n",
      "[[ nan]]\n",
      "[[ nan]]\n",
      "[[ nan]]\n",
      "[[ nan]]\n",
      "[[ nan]]\n",
      "[[ nan]]\n",
      "[[ nan]]\n",
      "[[ nan]]\n",
      "[[ nan]]\n",
      "[[ nan]]\n",
      "[[ nan]]\n",
      "[[ nan]]\n",
      "[[ nan]]\n",
      "[[ nan]]\n",
      "[[ nan]]\n",
      "[[ nan]]\n",
      "[[ nan]]\n",
      "[[ nan]]\n",
      "[[ nan]]\n",
      "[[ nan]]\n",
      "[[ nan]]\n",
      "[[ nan]]\n",
      "[[ nan]]\n",
      "[[ nan]]\n",
      "[[ nan]]\n",
      "[[ nan]]\n",
      "[[ nan]]\n",
      "[[ nan]]\n",
      "[[ nan]]\n",
      "[[ nan]]\n",
      "[[ nan]]\n",
      "[[ nan]]\n",
      "[[ nan]]\n",
      "[[ nan]]\n",
      "[[ nan]]\n",
      "[[ nan]]\n",
      "[[ nan]]\n",
      "[[ nan]]\n",
      "[[ nan]]\n",
      "[[ nan]]\n",
      "[[ nan]]\n",
      "[[ nan]]\n",
      "[[ nan]]\n",
      "[[ nan]]\n",
      "[[ nan]]\n",
      "[[ nan]]\n",
      "[[ nan]]\n",
      "[[ nan]]\n",
      "[[ nan]]\n",
      "[[ nan]]\n",
      "[[ nan]]\n",
      "[[ nan]]\n",
      "[[ nan]]\n",
      "[[ nan]]\n",
      "[[ nan]]\n",
      "[[ nan]]\n",
      "[[ nan]]\n",
      "[[ nan]]\n",
      "[[ nan]]\n",
      "[[ nan]]\n",
      "[[ nan]]\n",
      "[[ nan]]\n",
      "[[ nan]]\n",
      "[[ nan]]\n",
      "[[ nan]]\n",
      "[[ nan]]\n",
      "[[ nan]]\n",
      "[[ nan]]\n",
      "[[ nan]]\n",
      "[[ nan]]\n",
      "[[ nan]]\n",
      "[[ nan]]\n",
      "[[ nan]]\n",
      "[[ nan]]\n",
      "[[ nan]]\n",
      "[[ nan]]\n",
      "[ 0.  0.  0.]\n",
      "[[ -2.69186729e+09]\n",
      " [  2.52062693e+05]\n",
      " [  4.13341347e+05]\n",
      " [ -2.02588808e+06]\n",
      " [  0.00000000e+00]\n",
      " [  0.00000000e+00]\n",
      " [  0.00000000e+00]]\n"
     ]
    },
    {
     "ename": "AttributeError",
     "evalue": "'BaseML_Lag' object has no attribute 'rho'",
     "output_type": "error",
     "traceback": [
      "\u001b[0;31m---------------------------------------------------------------------------\u001b[0m",
      "\u001b[0;31mAttributeError\u001b[0m                            Traceback (most recent call last)",
      "\u001b[0;32m<ipython-input-812-b7510222b3b9>\u001b[0m in \u001b[0;36m<module>\u001b[0;34m()\u001b[0m\n\u001b[0;32m----> 1\u001b[0;31m \u001b[0mmodel\u001b[0m \u001b[0;34m=\u001b[0m \u001b[0mBaseML_Lag\u001b[0m\u001b[0;34m(\u001b[0m\u001b[0my\u001b[0m\u001b[0;34m,\u001b[0m \u001b[0mX\u001b[0m\u001b[0;34m,\u001b[0m \u001b[0mwo\u001b[0m\u001b[0;34m,\u001b[0m \u001b[0mwd\u001b[0m\u001b[0;34m,\u001b[0m \u001b[0mODw\u001b[0m\u001b[0;34m)\u001b[0m\u001b[0;34m\u001b[0m\u001b[0m\n\u001b[0m",
      "\u001b[0;32m<ipython-input-779-9950d342273b>\u001b[0m in \u001b[0;36m__init__\u001b[0;34m(self, y, x, wo, wd, ww, method, epsilon)\u001b[0m\n\u001b[1;32m    295\u001b[0m         \u001b[0;32mprint\u001b[0m \u001b[0mself\u001b[0m\u001b[0;34m.\u001b[0m\u001b[0mbetas\u001b[0m\u001b[0;34m\u001b[0m\u001b[0m\n\u001b[1;32m    296\u001b[0m         \u001b[0;31m# information matrix\u001b[0m\u001b[0;34m\u001b[0m\u001b[0;34m\u001b[0m\u001b[0m\n\u001b[0;32m--> 297\u001b[0;31m         \u001b[0ma\u001b[0m \u001b[0;34m=\u001b[0m \u001b[0;34m-\u001b[0m\u001b[0mself\u001b[0m\u001b[0;34m.\u001b[0m\u001b[0mrho\u001b[0m \u001b[0;34m*\u001b[0m \u001b[0mW\u001b[0m\u001b[0;34m\u001b[0m\u001b[0m\n\u001b[0m\u001b[1;32m    298\u001b[0m         \u001b[0mnp\u001b[0m\u001b[0;34m.\u001b[0m\u001b[0mfill_diagonal\u001b[0m\u001b[0;34m(\u001b[0m\u001b[0ma\u001b[0m\u001b[0;34m,\u001b[0m \u001b[0;36m1.0\u001b[0m\u001b[0;34m)\u001b[0m\u001b[0;34m\u001b[0m\u001b[0m\n\u001b[1;32m    299\u001b[0m         \u001b[0mai\u001b[0m \u001b[0;34m=\u001b[0m \u001b[0mla\u001b[0m\u001b[0;34m.\u001b[0m\u001b[0minv\u001b[0m\u001b[0;34m(\u001b[0m\u001b[0ma\u001b[0m\u001b[0;34m)\u001b[0m\u001b[0;34m\u001b[0m\u001b[0m\n",
      "\u001b[0;31mAttributeError\u001b[0m: 'BaseML_Lag' object has no attribute 'rho'"
     ]
    }
   ],
   "source": [
    "model = BaseML_Lag(y, X, wo, wd, ODw)"
   ]
  },
  {
   "cell_type": "code",
   "execution_count": 813,
   "metadata": {
    "collapsed": false
   },
   "outputs": [
    {
     "ename": "TypeError",
     "evalue": "'module' object is not callable",
     "output_type": "error",
     "traceback": [
      "\u001b[0;31m---------------------------------------------------------------------------\u001b[0m",
      "\u001b[0;31mTypeError\u001b[0m                                 Traceback (most recent call last)",
      "\u001b[0;32m<ipython-input-813-9abb79a01dd1>\u001b[0m in \u001b[0;36m<module>\u001b[0;34m()\u001b[0m\n\u001b[0;32m----> 1\u001b[0;31m \u001b[0mslag1\u001b[0m \u001b[0;34m=\u001b[0m \u001b[0mslag\u001b[0m\u001b[0;34m(\u001b[0m\u001b[0;34m)\u001b[0m\u001b[0;34m\u001b[0m\u001b[0m\n\u001b[0m",
      "\u001b[0;31mTypeError\u001b[0m: 'module' object is not callable"
     ]
    }
   ],
   "source": [
    "slag1 = slag()"
   ]
  },
  {
   "cell_type": "code",
   "execution_count": 700,
   "metadata": {
    "collapsed": false
   },
   "outputs": [
    {
     "ename": "ValueError",
     "evalue": "operands could not be broadcast together with shapes (81,81) (81,3) ",
     "output_type": "error",
     "traceback": [
      "\u001b[0;31m---------------------------------------------------------------------------\u001b[0m",
      "\u001b[0;31mValueError\u001b[0m                                Traceback (most recent call last)",
      "\u001b[0;32m<ipython-input-700-41c578b9d0e2>\u001b[0m in \u001b[0;36m<module>\u001b[0;34m()\u001b[0m\n\u001b[0;32m----> 1\u001b[0;31m \u001b[0my\u001b[0m \u001b[0;34m=\u001b[0m \u001b[0mo_rho\u001b[0m\u001b[0;34m*\u001b[0m\u001b[0mwo\u001b[0m\u001b[0;34m.\u001b[0m\u001b[0mfull\u001b[0m\u001b[0;34m(\u001b[0m\u001b[0;34m)\u001b[0m\u001b[0;34m[\u001b[0m\u001b[0;36m0\u001b[0m\u001b[0;34m]\u001b[0m \u001b[0;34m+\u001b[0m \u001b[0md_rho\u001b[0m\u001b[0;34m*\u001b[0m\u001b[0mwd\u001b[0m\u001b[0;34m.\u001b[0m\u001b[0mfull\u001b[0m\u001b[0;34m(\u001b[0m\u001b[0;34m)\u001b[0m\u001b[0;34m[\u001b[0m\u001b[0;36m0\u001b[0m\u001b[0;34m]\u001b[0m \u001b[0;34m+\u001b[0m \u001b[0mw_rho\u001b[0m\u001b[0;34m*\u001b[0m\u001b[0mODw\u001b[0m\u001b[0;34m.\u001b[0m\u001b[0mfull\u001b[0m\u001b[0;34m(\u001b[0m\u001b[0;34m)\u001b[0m\u001b[0;34m[\u001b[0m\u001b[0;36m0\u001b[0m\u001b[0;34m]\u001b[0m \u001b[0;34m+\u001b[0m \u001b[0;36m75\u001b[0m \u001b[0;34m+\u001b[0m \u001b[0;34m(\u001b[0m\u001b[0mx\u001b[0m\u001b[0;34m*\u001b[0m\u001b[0mbetas\u001b[0m\u001b[0;34m.\u001b[0m\u001b[0mT\u001b[0m\u001b[0;34m)\u001b[0m \u001b[0;34m+\u001b[0m \u001b[0mnp\u001b[0m\u001b[0;34m.\u001b[0m\u001b[0mrandom\u001b[0m\u001b[0;34m.\u001b[0m\u001b[0mnormal\u001b[0m\u001b[0;34m(\u001b[0m\u001b[0;36m0\u001b[0m\u001b[0;34m,\u001b[0m\u001b[0;36m50\u001b[0m\u001b[0;34m,\u001b[0m \u001b[0;34m(\u001b[0m\u001b[0;36m81\u001b[0m\u001b[0;34m,\u001b[0m\u001b[0;36m1\u001b[0m\u001b[0;34m)\u001b[0m\u001b[0;34m)\u001b[0m\u001b[0;34m\u001b[0m\u001b[0m\n\u001b[0m",
      "\u001b[0;31mValueError\u001b[0m: operands could not be broadcast together with shapes (81,81) (81,3) "
     ]
    }
   ],
   "source": [
    "y = o_rho*wo.full()[0] + d_rho*wd.full()[0] + w_rho*ODw.full()[0] + 75 + (x*betas.T) + np.random.normal(0,50, (81,1))"
   ]
  },
  {
   "cell_type": "code",
   "execution_count": 695,
   "metadata": {
    "collapsed": false
   },
   "outputs": [
    {
     "data": {
      "text/plain": [
       "array([[  8.64000000e+003,   1.63560000e+004,  -5.00000000e-301],\n",
       "       [  8.64000000e+003,   8.15070000e+004,  -5.15009225e+001],\n",
       "       [  8.64000000e+003,   8.61300000e+004,  -4.21023330e+001],\n",
       "       [  8.64000000e+003,   1.30620000e+004,  -1.10405967e+002],\n",
       "       [  8.64000000e+003,   2.72070000e+004,  -6.60037400e+001],\n",
       "       [  8.64000000e+003,   2.57310000e+004,  -1.07255907e+002],\n",
       "       [  8.64000000e+003,   1.48890000e+004,  -1.23466652e+002],\n",
       "       [  8.64000000e+003,   1.17690000e+004,  -1.95428055e+002],\n",
       "       [  8.64000000e+003,   6.07800000e+003,  -2.52544769e+002],\n",
       "       [  4.29560000e+004,   1.63560000e+004,  -5.15009225e+001],\n",
       "       [  4.29560000e+004,   8.15070000e+004,  -5.00000000e-301],\n",
       "       [  4.29560000e+004,   8.61300000e+004,  -2.28981360e+001],\n",
       "       [  4.29560000e+004,   1.30620000e+004,  -1.08497370e+002],\n",
       "       [  4.29560000e+004,   2.72070000e+004,  -6.49390860e+001],\n",
       "       [  4.29560000e+004,   2.57310000e+004,  -7.03533355e+001],\n",
       "       [  4.29560000e+004,   1.48890000e+004,  -1.00616178e+002],\n",
       "       [  4.29560000e+004,   1.17690000e+004,  -1.71750375e+002],\n",
       "       [  4.29560000e+004,   6.07800000e+003,  -2.26757797e+002],\n",
       "       [  6.10000000e+004,   1.63560000e+004,  -4.21023330e+001],\n",
       "       [  6.10000000e+004,   8.15070000e+004,  -2.28981360e+001],\n",
       "       [  6.10000000e+004,   8.61300000e+004,  -5.00000000e-301],\n",
       "       [  6.10000000e+004,   1.30620000e+004,  -1.24966437e+002],\n",
       "       [  6.10000000e+004,   2.72070000e+004,  -7.93153305e+001],\n",
       "       [  6.10000000e+004,   2.57310000e+004,  -9.32103690e+001],\n",
       "       [  6.10000000e+004,   1.48890000e+004,  -1.22054152e+002],\n",
       "       [  6.10000000e+004,   1.17690000e+004,  -1.93808880e+002],\n",
       "       [  6.10000000e+004,   6.07800000e+003,  -2.49203576e+002],\n",
       "       [  1.00240000e+004,   1.63560000e+004,  -1.10405967e+002],\n",
       "       [  1.00240000e+004,   8.15070000e+004,  -1.08497370e+002],\n",
       "       [  1.00240000e+004,   8.61300000e+004,  -1.24966437e+002],\n",
       "       [  1.00240000e+004,   1.30620000e+004,  -5.00000000e-301],\n",
       "       [  1.00240000e+004,   2.72070000e+004,  -4.62039790e+001],\n",
       "       [  1.00240000e+004,   2.57310000e+004,  -7.58885785e+001],\n",
       "       [  1.00240000e+004,   1.48890000e+004,  -4.64472040e+001],\n",
       "       [  1.00240000e+004,   1.17690000e+004,  -9.74258345e+001],\n",
       "       [  1.00240000e+004,   6.07800000e+003,  -1.53052912e+002],\n",
       "       [  1.76220000e+004,   1.63560000e+004,  -6.60037400e+001],\n",
       "       [  1.76220000e+004,   8.15070000e+004,  -6.49390860e+001],\n",
       "       [  1.76220000e+004,   8.61300000e+004,  -7.93153305e+001],\n",
       "       [  1.76220000e+004,   1.30620000e+004,  -4.62039790e+001],\n",
       "       [  1.76220000e+004,   2.72070000e+004,  -5.00000000e-301],\n",
       "       [  1.76220000e+004,   2.57310000e+004,  -6.22815480e+001],\n",
       "       [  1.76220000e+004,   1.48890000e+004,  -6.12167620e+001],\n",
       "       [  1.76220000e+004,   1.17690000e+004,  -1.30946891e+002],\n",
       "       [  1.76220000e+004,   6.07800000e+003,  -1.88173335e+002],\n",
       "       [  2.26980000e+004,   1.63560000e+004,  -1.07255907e+002],\n",
       "       [  2.26980000e+004,   8.15070000e+004,  -7.03533355e+001],\n",
       "       [  2.26980000e+004,   8.61300000e+004,  -9.32103690e+001],\n",
       "       [  2.26980000e+004,   1.30620000e+004,  -7.58885785e+001],\n",
       "       [  2.26980000e+004,   2.72070000e+004,  -6.22815480e+001],\n",
       "       [  2.26980000e+004,   2.57310000e+004,  -5.00000000e-301],\n",
       "       [  2.26980000e+004,   1.48890000e+004,  -4.08768260e+001],\n",
       "       [  2.26980000e+004,   1.17690000e+004,  -1.04228192e+002],\n",
       "       [  2.26980000e+004,   6.07800000e+003,  -1.57396600e+002],\n",
       "       [  1.20420000e+004,   1.63560000e+004,  -1.23466652e+002],\n",
       "       [  1.20420000e+004,   8.15070000e+004,  -1.00616178e+002],\n",
       "       [  1.20420000e+004,   8.61300000e+004,  -1.22054152e+002],\n",
       "       [  1.20420000e+004,   1.30620000e+004,  -4.64472040e+001],\n",
       "       [  1.20420000e+004,   2.72070000e+004,  -6.12167620e+001],\n",
       "       [  1.20420000e+004,   2.57310000e+004,  -4.08768260e+001],\n",
       "       [  1.20420000e+004,   1.48890000e+004,  -5.00000000e-301],\n",
       "       [  1.20420000e+004,   1.17690000e+004,  -7.25382360e+001],\n",
       "       [  1.20420000e+004,   6.07800000e+003,  -1.29295599e+002],\n",
       "       [  8.95400000e+003,   1.63560000e+004,  -1.95428055e+002],\n",
       "       [  8.95400000e+003,   8.15070000e+004,  -1.71750375e+002],\n",
       "       [  8.95400000e+003,   8.61300000e+004,  -1.93808880e+002],\n",
       "       [  8.95400000e+003,   1.30620000e+004,  -9.74258345e+001],\n",
       "       [  8.95400000e+003,   2.72070000e+004,  -1.30946891e+002],\n",
       "       [  8.95400000e+003,   2.57310000e+004,  -1.04228192e+002],\n",
       "       [  8.95400000e+003,   1.48890000e+004,  -7.25382360e+001],\n",
       "       [  8.95400000e+003,   1.17690000e+004,  -5.00000000e-301],\n",
       "       [  8.95400000e+003,   6.07800000e+003,  -5.72316250e+001],\n",
       "       [  4.55000000e+003,   1.63560000e+004,  -2.52544769e+002],\n",
       "       [  4.55000000e+003,   8.15070000e+004,  -2.26757797e+002],\n",
       "       [  4.55000000e+003,   8.61300000e+004,  -2.49203576e+002],\n",
       "       [  4.55000000e+003,   1.30620000e+004,  -1.53052912e+002],\n",
       "       [  4.55000000e+003,   2.72070000e+004,  -1.88173335e+002],\n",
       "       [  4.55000000e+003,   2.57310000e+004,  -1.57396600e+002],\n",
       "       [  4.55000000e+003,   1.48890000e+004,  -1.29295599e+002],\n",
       "       [  4.55000000e+003,   1.17690000e+004,  -5.72316250e+001],\n",
       "       [  4.55000000e+003,   6.07800000e+003,  -5.00000000e-301]])"
      ]
     },
     "execution_count": 695,
     "metadata": {},
     "output_type": "execute_result"
    }
   ],
   "source": [
    "x*betas.T"
   ]
  },
  {
   "cell_type": "code",
   "execution_count": 913,
   "metadata": {
    "collapsed": false
   },
   "outputs": [],
   "source": [
    "o_vars = np.random.randint(100,1000, (625,1))\n",
    "d_vars = np.random.randint(100,1000, (625,1))\n",
    "dij = np.random.randint(10,100, (625,1))\n",
    "X = np.hstack([o_vars, d_vars, dij])\n",
    "betas = np.vstack([2,3,5])"
   ]
  },
  {
   "cell_type": "code",
   "execution_count": 1020,
   "metadata": {
    "collapsed": false
   },
   "outputs": [],
   "source": [
    "betas = np.vstack([.1,.1,-5])\n",
    "XB = np.dot(x,betas)"
   ]
  },
  {
   "cell_type": "code",
   "execution_count": 924,
   "metadata": {
    "collapsed": false
   },
   "outputs": [],
   "source": [
    "\n"
   ]
  },
  {
   "cell_type": "code",
   "execution_count": 1009,
   "metadata": {
    "collapsed": false
   },
   "outputs": [
    {
     "name": "stdout",
     "output_type": "stream",
     "text": [
      "[[ 551.28530422]]\n",
      "[[ 551.28530628]]\n",
      "[[ 551.28530629]]\n",
      "[[ 551.28530343]]\n",
      "[[ nan]]\n",
      "[[ nan]]\n",
      "[[ nan]]\n",
      "[[ nan]]\n",
      "[[ nan]]\n",
      "[[ nan]]\n",
      "[[ nan]]\n",
      "[[ nan]]\n",
      "[[ nan]]\n",
      "[[ nan]]\n",
      "[[ nan]]\n",
      "[[ nan]]\n",
      "[[ nan]]\n",
      "[[ nan]]\n",
      "[[ nan]]\n",
      "[[ nan]]\n",
      "[[ nan]]\n",
      "[[ nan]]\n",
      "[[ nan]]\n",
      "[[ nan]]\n",
      "[[ nan]]\n",
      "[[ nan]]\n",
      "[[ nan]]\n",
      "[[ nan]]\n",
      "[[ nan]]\n",
      "[[ nan]]\n",
      "[[ nan]]\n",
      "[[ nan]]\n",
      "[[ nan]]\n",
      "[[ nan]]\n",
      "[[ nan]]\n",
      "[[ nan]]\n",
      "[[ nan]]\n",
      "[[ nan]]\n",
      "[[ nan]]\n",
      "[[ nan]]\n",
      "[[ nan]]\n",
      "[[ nan]]\n",
      "[[ nan]]\n",
      "[[ nan]]\n",
      "[[ nan]]\n",
      "[[ nan]]\n",
      "[[ nan]]\n",
      "[[ nan]]\n",
      "[[ nan]]\n",
      "[[ nan]]\n",
      "[[ nan]]\n",
      "[[ nan]]\n",
      "[[ nan]]\n",
      "[[ nan]]\n",
      "[[ nan]]\n",
      "[[ nan]]\n",
      "[[ nan]]\n",
      "[[ nan]]\n",
      "[[ nan]]\n",
      "[[ nan]]\n",
      "[[ nan]]\n",
      "[[ nan]]\n",
      "[[ nan]]\n",
      "[[ nan]]\n",
      "[[ nan]]\n",
      "[[ nan]]\n",
      "[[ nan]]\n",
      "[[ nan]]\n",
      "[[ nan]]\n",
      "[[ nan]]\n",
      "[[ nan]]\n",
      "[[ nan]]\n",
      "[[ nan]]\n",
      "[[ nan]]\n",
      "[[ nan]]\n",
      "[[ nan]]\n",
      "[[ nan]]\n",
      "[[ nan]]\n",
      "[[ nan]]\n",
      "[[ nan]]\n",
      "[[ nan]]\n",
      "[[ nan]]\n",
      "[[ nan]]\n",
      "[[ nan]]\n",
      "[ 0.  0.  0.]\n",
      "[[ 0.08656192]\n",
      " [ 0.08730784]\n",
      " [-3.80003764]\n",
      " [ 0.        ]\n",
      " [ 0.        ]\n",
      " [ 0.        ]]\n"
     ]
    },
    {
     "ename": "AttributeError",
     "evalue": "'BaseML_Lag' object has no attribute 'rho'",
     "output_type": "error",
     "traceback": [
      "\u001b[0;31m---------------------------------------------------------------------------\u001b[0m",
      "\u001b[0;31mAttributeError\u001b[0m                            Traceback (most recent call last)",
      "\u001b[0;32m<ipython-input-1009-201fd112b71b>\u001b[0m in \u001b[0;36m<module>\u001b[0;34m()\u001b[0m\n\u001b[1;32m     24\u001b[0m \u001b[0;34m\u001b[0m\u001b[0m\n\u001b[1;32m     25\u001b[0m \u001b[0;34m\u001b[0m\u001b[0m\n\u001b[0;32m---> 26\u001b[0;31m \u001b[0mmodel\u001b[0m \u001b[0;34m=\u001b[0m \u001b[0mBaseML_Lag\u001b[0m\u001b[0;34m(\u001b[0m\u001b[0my\u001b[0m\u001b[0;34m,\u001b[0m \u001b[0mx\u001b[0m\u001b[0;34m,\u001b[0m \u001b[0mwo\u001b[0m\u001b[0;34m,\u001b[0m \u001b[0mwd\u001b[0m\u001b[0;34m,\u001b[0m \u001b[0mODw\u001b[0m\u001b[0;34m)\u001b[0m\u001b[0;34m\u001b[0m\u001b[0m\n\u001b[0m",
      "\u001b[0;32m<ipython-input-997-f96e6bf0bf82>\u001b[0m in \u001b[0;36m__init__\u001b[0;34m(self, y, x, wo, wd, ww, method, epsilon)\u001b[0m\n\u001b[1;32m    295\u001b[0m         \u001b[0;32mprint\u001b[0m \u001b[0mself\u001b[0m\u001b[0;34m.\u001b[0m\u001b[0mbetas\u001b[0m\u001b[0;34m\u001b[0m\u001b[0m\n\u001b[1;32m    296\u001b[0m         \u001b[0;31m# information matrix\u001b[0m\u001b[0;34m\u001b[0m\u001b[0;34m\u001b[0m\u001b[0m\n\u001b[0;32m--> 297\u001b[0;31m         \u001b[0ma\u001b[0m \u001b[0;34m=\u001b[0m \u001b[0;34m-\u001b[0m\u001b[0mself\u001b[0m\u001b[0;34m.\u001b[0m\u001b[0mrho\u001b[0m \u001b[0;34m*\u001b[0m \u001b[0mW\u001b[0m\u001b[0;34m\u001b[0m\u001b[0m\n\u001b[0m\u001b[1;32m    298\u001b[0m         \u001b[0mnp\u001b[0m\u001b[0;34m.\u001b[0m\u001b[0mfill_diagonal\u001b[0m\u001b[0;34m(\u001b[0m\u001b[0ma\u001b[0m\u001b[0;34m,\u001b[0m \u001b[0;36m1.0\u001b[0m\u001b[0;34m)\u001b[0m\u001b[0;34m\u001b[0m\u001b[0m\n\u001b[1;32m    299\u001b[0m         \u001b[0mai\u001b[0m \u001b[0;34m=\u001b[0m \u001b[0mla\u001b[0m\u001b[0;34m.\u001b[0m\u001b[0minv\u001b[0m\u001b[0;34m(\u001b[0m\u001b[0ma\u001b[0m\u001b[0;34m)\u001b[0m\u001b[0;34m\u001b[0m\u001b[0m\n",
      "\u001b[0;31mAttributeError\u001b[0m: 'BaseML_Lag' object has no attribute 'rho'"
     ]
    }
   ],
   "source": [
    "import pysal.weights.spatial_lag as slag\n",
    "\n",
    "o = pysal.weights.lat2W(3,3)\n",
    "d = pysal.weights.lat2W(3,3)\n",
    "\n",
    "wo = np.kron(o.full()[0], np.identity(9))\n",
    "wo = pysal.weights.full2W(wo)\n",
    "wd = np.kron(np.identity(9), d.full()[0])\n",
    "wd = pysal.weights.full2W(wd)\n",
    "\n",
    "ODw = ODW(o,d)\n",
    "\n",
    "o_rho = -.1\n",
    "d_rho = -.1\n",
    "w_rho = .5\n",
    "\n",
    "ar = np.linalg.inv(np.identity(81) - o_rho*wo.full()[0] - d_rho*wd.full()[0] - w_rho*ODw.full()[0])\n",
    "\n",
    "betas = np.vstack([.1,.1,-5])\n",
    "XB = np.dot(x,betas)\n",
    "\n",
    "y = np.dot(ar ,(XB.reshape((-1,1)) + np.random.normal(0,50, (81,1))))\n",
    "\n",
    "\n",
    "\n",
    "model = BaseML_Lag(y, x, wo, wd, ODw)"
   ]
  },
  {
   "cell_type": "code",
   "execution_count": 990,
   "metadata": {
    "collapsed": false
   },
   "outputs": [
    {
     "data": {
      "text/plain": [
       "(81, 1)"
      ]
     },
     "execution_count": 990,
     "metadata": {},
     "output_type": "execute_result"
    }
   ],
   "source": [
    "y.shape"
   ]
  },
  {
   "cell_type": "code",
   "execution_count": 985,
   "metadata": {
    "collapsed": false
   },
   "outputs": [
    {
     "data": {
      "text/plain": [
       "array([[ 1176.77835764],\n",
       "       [ 2327.28616379],\n",
       "       [ 2773.79835613],\n",
       "       [ -188.07774066],\n",
       "       [  782.63712525],\n",
       "       [  230.92912647],\n",
       "       [ -143.52604269],\n",
       "       [ -716.0031344 ],\n",
       "       [-1516.23393291],\n",
       "       [ 1940.80283463],\n",
       "       [ 3805.32781305],\n",
       "       [ 3907.46513873],\n",
       "       [ 1121.57415529],\n",
       "       [ 1144.77202716],\n",
       "       [ 1739.01574574],\n",
       "       [ 1471.8807629 ],\n",
       "       [  527.9996231 ],\n",
       "       [  321.30460011],\n",
       "       [ 2938.1903554 ],\n",
       "       [ 4401.81465504],\n",
       "       [ 5321.37766243],\n",
       "       [ 1485.6195754 ],\n",
       "       [ 1715.00253399],\n",
       "       [ 2082.30785041],\n",
       "       [ 1988.47088777],\n",
       "       [ 1092.59112419],\n",
       "       [  822.93037061],\n",
       "       [   11.55695528],\n",
       "       [ 1594.02456514],\n",
       "       [ 1694.41684272],\n",
       "       [ 1058.41565794],\n",
       "       [  506.3272004 ],\n",
       "       [  392.72624321],\n",
       "       [  402.58359362],\n",
       "       [  -61.93500499],\n",
       "       [ -392.95690462],\n",
       "       [  730.52433536],\n",
       "       [ 2010.63477333],\n",
       "       [ 2342.07291894],\n",
       "       [  568.54570922],\n",
       "       [ 1513.78167436],\n",
       "       [  720.45576487],\n",
       "       [  595.08881668],\n",
       "       [ -136.7486232 ],\n",
       "       [ -700.06824937],\n",
       "       [  663.55448335],\n",
       "       [ 2339.23355566],\n",
       "       [ 2467.48754551],\n",
       "       [  672.71636709],\n",
       "       [  754.86650301],\n",
       "       [ 1901.66738925],\n",
       "       [ 1180.44962196],\n",
       "       [  175.06487986],\n",
       "       [ -260.21878556],\n",
       "       [   10.97955328],\n",
       "       [ 1843.34362638],\n",
       "       [ 1879.79039016],\n",
       "       [  289.02434078],\n",
       "       [  638.47087965],\n",
       "       [  861.72504764],\n",
       "       [ 1169.07508385],\n",
       "       [   89.04410483],\n",
       "       [ -452.47863075],\n",
       "       [ -566.03217975],\n",
       "       [ 1080.52052952],\n",
       "       [ 1183.40651972],\n",
       "       [   21.74713284],\n",
       "       [ -215.62482792],\n",
       "       [  278.44541003],\n",
       "       [  117.38054969],\n",
       "       [  935.102381  ],\n",
       "       [   85.58369538],\n",
       "       [-1505.88728631],\n",
       "       [  991.02854612],\n",
       "       [  804.56191599],\n",
       "       [ -547.87013252],\n",
       "       [ -410.64655534],\n",
       "       [ -557.46374223],\n",
       "       [ -340.51280891],\n",
       "       [  290.0856242 ],\n",
       "       [  924.40676576]])"
      ]
     },
     "execution_count": 985,
     "metadata": {},
     "output_type": "execute_result"
    }
   ],
   "source": [
    "y"
   ]
  },
  {
   "cell_type": "code",
   "execution_count": 1098,
   "metadata": {
    "collapsed": false
   },
   "outputs": [
    {
     "name": "stdout",
     "output_type": "stream",
     "text": [
      "[[ 5905.20966842]]\n",
      "[[ 5905.20964995]]\n",
      "[[ 5905.20967162]]\n",
      "[[ 5905.20966931]]\n",
      "[[ inf]]\n",
      "[[ inf]]\n",
      "[[ 7211.15225588]]\n",
      "[[ inf]]\n",
      "[[ nan]]\n",
      "[[ nan]]\n",
      "[[ nan]]\n",
      "[[ nan]]\n",
      "[[ nan]]\n",
      "[[ nan]]\n",
      "[[ nan]]\n",
      "[[ nan]]\n",
      "[[ nan]]\n",
      "[[ nan]]\n",
      "[[ nan]]\n",
      "[[ nan]]\n",
      "[[ nan]]\n",
      "[[ nan]]\n",
      "[[ nan]]\n",
      "[[ nan]]\n",
      "[[ nan]]\n",
      "[[ nan]]\n",
      "[[ nan]]\n",
      "[[ nan]]\n",
      "[[ nan]]\n",
      "[[ nan]]\n",
      "[[ nan]]\n",
      "[[ nan]]\n",
      "[[ nan]]\n",
      "[[ nan]]\n",
      "[[ nan]]\n",
      "[[ nan]]\n",
      "[[ nan]]\n",
      "[[ nan]]\n",
      "[[ nan]]\n",
      "[[ nan]]\n",
      "[[ nan]]\n",
      "[[ nan]]\n",
      "[[ nan]]\n",
      "[[ nan]]\n",
      "[[ nan]]\n",
      "[[ nan]]\n",
      "[[ nan]]\n",
      "[[ nan]]\n",
      "[[ nan]]\n",
      "[[ nan]]\n",
      "[[ nan]]\n",
      "[[ nan]]\n",
      "[[ nan]]\n",
      "[[ nan]]\n",
      "[[ nan]]\n",
      "[[ nan]]\n",
      "[[ nan]]\n",
      "[[ nan]]\n",
      "[[ nan]]\n",
      "[[ nan]]\n",
      "[[ nan]]\n",
      "[[ nan]]\n",
      "[[ nan]]\n",
      "[[ nan]]\n",
      "[[ nan]]\n",
      "[[ nan]]\n",
      "[[ nan]]\n",
      "[[ nan]]\n",
      "[[ nan]]\n",
      "[[ nan]]\n",
      "[[ nan]]\n",
      "[[ nan]]\n",
      "[[ nan]]\n",
      "[[ nan]]\n",
      "[[ nan]]\n",
      "[[ nan]]\n",
      "[[ nan]]\n",
      "[[ nan]]\n",
      "[[ nan]]\n",
      "[[ nan]]\n",
      "[[ nan]]\n",
      "[[ nan]]\n",
      "[[ nan]]\n",
      "[[ nan]]\n",
      "[ 0.  0.  0.]\n",
      "[[-0.09958943]\n",
      " [ 0.07076203]\n",
      " [ 1.63491934]\n",
      " [ 0.        ]\n",
      " [ 0.        ]\n",
      " [ 0.        ]]\n"
     ]
    },
    {
     "ename": "AttributeError",
     "evalue": "'BaseML_Lag' object has no attribute 'rho'",
     "output_type": "error",
     "traceback": [
      "\u001b[0;31m---------------------------------------------------------------------------\u001b[0m",
      "\u001b[0;31mAttributeError\u001b[0m                            Traceback (most recent call last)",
      "\u001b[0;32m<ipython-input-1098-9b8111e3a27c>\u001b[0m in \u001b[0;36m<module>\u001b[0;34m()\u001b[0m\n\u001b[1;32m     35\u001b[0m \u001b[0;34m\u001b[0m\u001b[0m\n\u001b[1;32m     36\u001b[0m \u001b[0my\u001b[0m \u001b[0;34m=\u001b[0m \u001b[0mnp\u001b[0m\u001b[0;34m.\u001b[0m\u001b[0mdot\u001b[0m\u001b[0;34m(\u001b[0m\u001b[0mar\u001b[0m \u001b[0;34m,\u001b[0m\u001b[0;34m(\u001b[0m\u001b[0mXB\u001b[0m\u001b[0;34m.\u001b[0m\u001b[0mreshape\u001b[0m\u001b[0;34m(\u001b[0m\u001b[0;34m(\u001b[0m\u001b[0;34m-\u001b[0m\u001b[0;36m1\u001b[0m\u001b[0;34m,\u001b[0m\u001b[0;36m1\u001b[0m\u001b[0;34m)\u001b[0m\u001b[0;34m)\u001b[0m \u001b[0;34m+\u001b[0m \u001b[0mnp\u001b[0m\u001b[0;34m.\u001b[0m\u001b[0mrandom\u001b[0m\u001b[0;34m.\u001b[0m\u001b[0mnormal\u001b[0m\u001b[0;34m(\u001b[0m\u001b[0;36m0\u001b[0m\u001b[0;34m,\u001b[0m\u001b[0;36m50\u001b[0m\u001b[0;34m,\u001b[0m \u001b[0;34m(\u001b[0m\u001b[0;36m625\u001b[0m\u001b[0;34m,\u001b[0m\u001b[0;36m1\u001b[0m\u001b[0;34m)\u001b[0m\u001b[0;34m)\u001b[0m\u001b[0;34m)\u001b[0m\u001b[0;34m)\u001b[0m\u001b[0;34m\u001b[0m\u001b[0m\n\u001b[0;32m---> 37\u001b[0;31m \u001b[0mmodel\u001b[0m \u001b[0;34m=\u001b[0m \u001b[0mBaseML_Lag\u001b[0m\u001b[0;34m(\u001b[0m\u001b[0my\u001b[0m\u001b[0;34m,\u001b[0m \u001b[0mx\u001b[0m\u001b[0;34m,\u001b[0m \u001b[0mwo\u001b[0m\u001b[0;34m,\u001b[0m \u001b[0mwd\u001b[0m\u001b[0;34m,\u001b[0m \u001b[0mODw\u001b[0m\u001b[0;34m)\u001b[0m\u001b[0;34m\u001b[0m\u001b[0m\n\u001b[0m",
      "\u001b[0;32m<ipython-input-1085-0cc752c5fef1>\u001b[0m in \u001b[0;36m__init__\u001b[0;34m(self, y, x, wo, wd, ww, method, epsilon)\u001b[0m\n\u001b[1;32m    295\u001b[0m         \u001b[0;32mprint\u001b[0m \u001b[0mself\u001b[0m\u001b[0;34m.\u001b[0m\u001b[0mbetas\u001b[0m\u001b[0;34m\u001b[0m\u001b[0m\n\u001b[1;32m    296\u001b[0m         \u001b[0;31m# information matrix\u001b[0m\u001b[0;34m\u001b[0m\u001b[0;34m\u001b[0m\u001b[0m\n\u001b[0;32m--> 297\u001b[0;31m         \u001b[0ma\u001b[0m \u001b[0;34m=\u001b[0m \u001b[0;34m-\u001b[0m\u001b[0mself\u001b[0m\u001b[0;34m.\u001b[0m\u001b[0mrho\u001b[0m \u001b[0;34m*\u001b[0m \u001b[0mW\u001b[0m\u001b[0;34m\u001b[0m\u001b[0m\n\u001b[0m\u001b[1;32m    298\u001b[0m         \u001b[0mnp\u001b[0m\u001b[0;34m.\u001b[0m\u001b[0mfill_diagonal\u001b[0m\u001b[0;34m(\u001b[0m\u001b[0ma\u001b[0m\u001b[0;34m,\u001b[0m \u001b[0;36m1.0\u001b[0m\u001b[0;34m)\u001b[0m\u001b[0;34m\u001b[0m\u001b[0m\n\u001b[1;32m    299\u001b[0m         \u001b[0mai\u001b[0m \u001b[0;34m=\u001b[0m \u001b[0mla\u001b[0m\u001b[0;34m.\u001b[0m\u001b[0minv\u001b[0m\u001b[0;34m(\u001b[0m\u001b[0ma\u001b[0m\u001b[0;34m)\u001b[0m\u001b[0;34m\u001b[0m\u001b[0m\n",
      "\u001b[0;31mAttributeError\u001b[0m: 'BaseML_Lag' object has no attribute 'rho'"
     ]
    }
   ],
   "source": [
    "austria = pd.read_csv('http://dl.dropbox.com/u/8649795/AT_Austria.csv')\n",
    "#austria = austria[austria['Origin'] != austria['Destination']]\n",
    "f = austria['Data'].values\n",
    "o = austria['Origin'].values\n",
    "d = austria['Destination'].values\n",
    "#dij = austria['Dij'].values\n",
    "#o_vars = austria['Oi2007'].values\n",
    "#d_vars = austria['Dj2007'].values\n",
    "dij = np.random.randint(100,1000, (625,1))\n",
    "o_vars = np.random.randint(100,10000, (625,1))\n",
    "d_vars = np.random.randint(100,10000, (625,1))\n",
    "x = np.hstack([o_vars.reshape((-1,1)), d_vars.reshape((-1,1)), dij.reshape((-1,1))])\n",
    "\n",
    "import pysal.weights.spatial_lag as slag\n",
    "\n",
    "o = pysal.weights.lat2W(5,5)\n",
    "d = pysal.weights.lat2W(5,5, rook=False)\n",
    "ODw = ODW(o,d)\n",
    "\n",
    "wo = np.kron(o.full()[0], np.identity(25))\n",
    "wo = pysal.weights.full2W(wo)\n",
    "wd = np.kron(np.identity(25), d.full()[0])\n",
    "wd = pysal.weights.full2W(wd)\n",
    "\n",
    "betas = np.vstack([.1,.1,-5])\n",
    "XB = np.dot(x,betas)\n",
    "\n",
    "\n",
    "o_rho = .4\n",
    "d_rho = .4\n",
    "w_rho = -.16\n",
    "\n",
    "ar = np.linalg.inv(np.identity(625) - o_rho*wo.full()[0] - d_rho*wd.full()[0] - w_rho*ODw.full()[0])\n",
    "\n",
    "\n",
    "y = np.dot(ar ,(XB.reshape((-1,1)) + np.random.normal(0,50, (625,1))))\n",
    "model = BaseML_Lag(y, x, wo, wd, ODw)"
   ]
  },
  {
   "cell_type": "code",
   "execution_count": 1096,
   "metadata": {
    "collapsed": false
   },
   "outputs": [
    {
     "data": {
      "text/plain": [
       "array([[ 0.15149156],\n",
       "       [ 0.04000845],\n",
       "       [ 0.32624137],\n",
       "       [-0.42212776]])"
      ]
     },
     "execution_count": 1096,
     "metadata": {},
     "output_type": "execute_result"
    }
   ],
   "source": [
    "model.betas"
   ]
  },
  {
   "cell_type": "code",
   "execution_count": 1080,
   "metadata": {
    "collapsed": false
   },
   "outputs": [
    {
     "data": {
      "text/plain": [
       "array([[  -14.95301022],\n",
       "       [-1939.78522006],\n",
       "       [-1563.98711212],\n",
       "       [ -945.73877374],\n",
       "       [-2339.93584798],\n",
       "       [-2686.70960741],\n",
       "       [  -65.4869049 ],\n",
       "       [-2040.66664833],\n",
       "       [ 1227.79946869],\n",
       "       [-1432.63408639],\n",
       "       [-1566.21597921],\n",
       "       [  371.49978233],\n",
       "       [-1983.78124497],\n",
       "       [ -166.45900241],\n",
       "       [  -87.69080408],\n",
       "       [  225.94106622],\n",
       "       [   54.63799603],\n",
       "       [-1459.77912914],\n",
       "       [  739.05634455],\n",
       "       [-1532.90956039],\n",
       "       [-2136.89751846],\n",
       "       [  435.73259463],\n",
       "       [ 1594.6454202 ],\n",
       "       [ -404.50344936],\n",
       "       [ -165.76271441],\n",
       "       [-3180.70921134],\n",
       "       [-1560.25609184],\n",
       "       [-3561.84013958],\n",
       "       [  869.70687937],\n",
       "       [-3574.80487801],\n",
       "       [-1399.04064192],\n",
       "       [ 2697.28958954],\n",
       "       [-3335.90075714],\n",
       "       [  -55.25562241],\n",
       "       [  220.71085666],\n",
       "       [-3053.41185501],\n",
       "       [ -908.46007919],\n",
       "       [-3749.37282053],\n",
       "       [ -615.09114671],\n",
       "       [ 2294.77884602],\n",
       "       [-3484.60580795],\n",
       "       [ 1935.16670547],\n",
       "       [-2649.81862662],\n",
       "       [ -898.6047778 ],\n",
       "       [ -615.87635958],\n",
       "       [-2222.86977547],\n",
       "       [ -952.08693592],\n",
       "       [  599.29860433],\n",
       "       [-1840.18632676],\n",
       "       [-1501.04590072],\n",
       "       [-2917.4068476 ],\n",
       "       [-2722.42096176],\n",
       "       [ 2155.45567318],\n",
       "       [ -961.73653204],\n",
       "       [ 1092.88048033],\n",
       "       [-3949.20671394],\n",
       "       [-2636.46909273],\n",
       "       [  576.48246026],\n",
       "       [-1974.33207234],\n",
       "       [ 1467.574919  ],\n",
       "       [-1796.90183814],\n",
       "       [-2367.15865354],\n",
       "       [-1162.735005  ],\n",
       "       [-1201.55306692],\n",
       "       [  341.19311507],\n",
       "       [-1648.79186188],\n",
       "       [ -260.20032286],\n",
       "       [ -100.58179304],\n",
       "       [-3630.36829126],\n",
       "       [-2817.24836895],\n",
       "       [  998.1452161 ],\n",
       "       [-2347.38963127],\n",
       "       [-2566.69218874],\n",
       "       [  396.82078077],\n",
       "       [  202.77869666],\n",
       "       [  380.71411362],\n",
       "       [-2972.02223939],\n",
       "       [ -366.67960001],\n",
       "       [ -994.94338102],\n",
       "       [  449.66745843],\n",
       "       [   49.58783646]])"
      ]
     },
     "execution_count": 1080,
     "metadata": {},
     "output_type": "execute_result"
    }
   ],
   "source": [
    "y"
   ]
  },
  {
   "cell_type": "code",
   "execution_count": 121,
   "metadata": {
    "collapsed": false
   },
   "outputs": [],
   "source": [
    "class BaseML_Lag(RegressionPropsY, RegressionPropsVM):\n",
    "\n",
    "    \"\"\"\n",
    "    ML estimation of the spatial lag model (note no consistency\n",
    "    checks, diagnostics or constants added); Anselin (1988) [Anselin1988]_\n",
    "    Parameters\n",
    "    ----------\n",
    "    y            : array\n",
    "                   nx1 array for dependent variable\n",
    "    x            : array\n",
    "                   Two dimensional array with n rows and one column for each\n",
    "                   independent (exogenous) variable, excluding the constant\n",
    "    w            : pysal W object\n",
    "                   Spatial weights object\n",
    "    method       : string\n",
    "                   if 'full', brute force calculation (full matrix expressions)\n",
    "                   if 'ord', Ord eigenvalue method\n",
    "                   if 'LU', LU sparse matrix decomposition\n",
    "    epsilon      : float\n",
    "                   tolerance criterion in mimimize_scalar function and inverse_product\n",
    "    Attributes\n",
    "    ----------\n",
    "    betas        : array\n",
    "                   (k+1)x1 array of estimated coefficients (rho first)\n",
    "    rho          : float\n",
    "                   estimate of spatial autoregressive coefficient\n",
    "    u            : array\n",
    "                   nx1 array of residuals\n",
    "    predy        : array\n",
    "                   nx1 array of predicted y values\n",
    "    n            : integer\n",
    "                   Number of observations\n",
    "    k            : integer\n",
    "                   Number of variables for which coefficients are estimated\n",
    "                   (including the constant, excluding the rho)\n",
    "    y            : array\n",
    "                   nx1 array for dependent variable\n",
    "    x            : array\n",
    "                   Two dimensional array with n rows and one column for each\n",
    "                   independent (exogenous) variable, including the constant\n",
    "    method       : string\n",
    "                   log Jacobian method\n",
    "                   if 'full': brute force (full matrix computations)\n",
    "                   if 'ord' : Ord eigenvalue method\n",
    "    epsilon      : float\n",
    "                   tolerance criterion used in minimize_scalar function and inverse_product\n",
    "    mean_y       : float\n",
    "                   Mean of dependent variable\n",
    "    std_y        : float\n",
    "                   Standard deviation of dependent variable\n",
    "    vm           : array\n",
    "                   Variance covariance matrix (k+1 x k+1)\n",
    "    vm1          : array\n",
    "                   Variance covariance matrix (k+2 x k+2) includes sigma2\n",
    "    sig2         : float\n",
    "                   Sigma squared used in computations\n",
    "    logll        : float\n",
    "                   maximized log-likelihood (including constant terms)\n",
    "    predy_e      : array\n",
    "                   predicted values from reduced form\n",
    "    e_pred       : array\n",
    "                   prediction errors using reduced form predicted values\n",
    "    Examples\n",
    "    --------\n",
    "    >>> import numpy as np\n",
    "    >>> import pysal as ps\n",
    "    >>> db =  ps.open(ps.examples.get_path(\"baltim.dbf\"),'r')\n",
    "    >>> ds_name = \"baltim.dbf\"\n",
    "    >>> y_name = \"PRICE\"\n",
    "    >>> y = np.array(db.by_col(y_name)).T\n",
    "    >>> y.shape = (len(y),1)\n",
    "    >>> x_names = [\"NROOM\",\"NBATH\",\"PATIO\",\"FIREPL\",\"AC\",\"GAR\",\"AGE\",\"LOTSZ\",\"SQFT\"]\n",
    "    >>> x = np.array([db.by_col(var) for var in x_names]).T\n",
    "    >>> x = np.hstack((np.ones((len(y),1)),x))\n",
    "    >>> ww = ps.open(ps.examples.get_path(\"baltim_q.gal\"))\n",
    "    >>> w = ww.read()\n",
    "    >>> ww.close()\n",
    "    >>> w.transform = 'r'\n",
    "    >>> w_name = \"baltim_q.gal\"\n",
    "    >>> mllag = BaseML_Lag(y,x,w,method='ord') #doctest: +SKIP\n",
    "    >>> \"{0:.6f}\".format(mllag.rho) #doctest: +SKIP\n",
    "    '0.425885'\n",
    "    >>> np.around(mllag.betas, decimals=4) #doctest: +SKIP\n",
    "    array([[ 4.3675],\n",
    "           [ 0.7502],\n",
    "           [ 5.6116],\n",
    "           [ 7.0497],\n",
    "           [ 7.7246],\n",
    "           [ 6.1231],\n",
    "           [ 4.6375],\n",
    "           [-0.1107],\n",
    "           [ 0.0679],\n",
    "           [ 0.0794],\n",
    "           [ 0.4259]])\n",
    "    >>> \"{0:.6f}\".format(mllag.mean_y) #doctest: +SKIP\n",
    "    '44.307180'\n",
    "    >>> \"{0:.6f}\".format(mllag.std_y) #doctest: +SKIP\n",
    "    '23.606077'\n",
    "    >>> np.around(np.diag(mllag.vm1), decimals=4) #doctest: +SKIP\n",
    "    array([  23.8716,    1.1222,    3.0593,    7.3416,    5.6695,    5.4698,\n",
    "              2.8684,    0.0026,    0.0002,    0.0266,    0.0032,  220.1292])\n",
    "    >>> np.around(np.diag(mllag.vm), decimals=4) #doctest: +SKIP\n",
    "    array([ 23.8716,   1.1222,   3.0593,   7.3416,   5.6695,   5.4698,\n",
    "             2.8684,   0.0026,   0.0002,   0.0266,   0.0032])\n",
    "    >>> \"{0:.6f}\".format(mllag.sig2) #doctest: +SKIP\n",
    "    '151.458698'\n",
    "    >>> \"{0:.6f}\".format(mllag.logll) #doctest: +SKIP\n",
    "    '-832.937174'\n",
    "    >>> mllag = BaseML_Lag(y,x,w) #doctest: +SKIP\n",
    "    >>> \"{0:.6f}\".format(mllag.rho) #doctest: +SKIP\n",
    "    '0.425885'\n",
    "    >>> np.around(mllag.betas, decimals=4) #doctest: +SKIP\n",
    "    array([[ 4.3675],\n",
    "           [ 0.7502],\n",
    "           [ 5.6116],\n",
    "           [ 7.0497],\n",
    "           [ 7.7246],\n",
    "           [ 6.1231],\n",
    "           [ 4.6375],\n",
    "           [-0.1107],\n",
    "           [ 0.0679],\n",
    "           [ 0.0794],\n",
    "           [ 0.4259]])\n",
    "    >>> \"{0:.6f}\".format(mllag.mean_y) #doctest: +SKIP\n",
    "    '44.307180'\n",
    "    >>> \"{0:.6f}\".format(mllag.std_y) #doctest: +SKIP\n",
    "    '23.606077'\n",
    "    >>> np.around(np.diag(mllag.vm1), decimals=4) #doctest: +SKIP\n",
    "    array([  23.8716,    1.1222,    3.0593,    7.3416,    5.6695,    5.4698,\n",
    "              2.8684,    0.0026,    0.0002,    0.0266,    0.0032,  220.1292])\n",
    "    >>> np.around(np.diag(mllag.vm), decimals=4) #doctest: +SKIP\n",
    "    array([ 23.8716,   1.1222,   3.0593,   7.3416,   5.6695,   5.4698,\n",
    "             2.8684,   0.0026,   0.0002,   0.0266,   0.0032])\n",
    "    >>> \"{0:.6f}\".format(mllag.sig2) #doctest: +SKIP\n",
    "    '151.458698'\n",
    "    >>> \"{0:.6f}\".format(mllag.logll) #doctest: +SKIP\n",
    "    '-832.937174'\n",
    "    \"\"\"\n",
    "\n",
    "    def __init__(self, y, x, w, method='full', epsilon=0.0000001):\n",
    "        # set up main regression variables and spatial filters\n",
    "        self.y = y\n",
    "        self.x = x\n",
    "        self.n, self.k = self.x.shape\n",
    "        self.method = method\n",
    "        self.epsilon = epsilon\n",
    "        #W = w.full()[0]\n",
    "        #Wsp = w.sparse\n",
    "        ylag = ps.lag_spatial(w, y)\n",
    "        # b0, b1, e0 and e1\n",
    "        xtx = spdot(self.x.T, self.x)\n",
    "        xtxi = la.inv(xtx)\n",
    "        xty = spdot(self.x.T, self.y)\n",
    "        xtyl = spdot(self.x.T, ylag)\n",
    "        b0 = np.dot(xtxi, xty)\n",
    "        b1 = np.dot(xtxi, xtyl)\n",
    "        e0 = self.y - spdot(x, b0)\n",
    "        e1 = ylag - spdot(x, b1)\n",
    "        methodML = method.upper()\n",
    "        # call minimizer using concentrated log-likelihood to get rho\n",
    "        if methodML in ['FULL', 'LU', 'ORD']:\n",
    "            if methodML == 'FULL':\n",
    "                W = w.full()[0]     # moved here\n",
    "                res = minimize_scalar(lag_c_loglik, 0.0, bounds=(-1.0, 1.0),\n",
    "                                      args=(\n",
    "                                          self.n, e0, e1, W), method='bounded',\n",
    "                                      tol=epsilon)\n",
    "            elif methodML == 'LU':\n",
    "                I = sp.identity(w.n)\n",
    "                Wsp = w.sparse  # moved here\n",
    "                res = minimize_scalar(lag_c_loglik_sp, 0.0, bounds=(-1.0,1.0),\n",
    "                                      args=(self.n, e0, e1, I, Wsp),\n",
    "                                      method='bounded', tol=epsilon)\n",
    "            elif methodML == 'ORD':\n",
    "                # check on symmetry structure\n",
    "                if w.asymmetry(intrinsic=False) == []:\n",
    "                    ww = symmetrize(w)\n",
    "                    WW = ww.todense()\n",
    "                    evals = la.eigvalsh(WW)\n",
    "                else:\n",
    "                    W = w.full()[0]     # moved here\n",
    "                    evals = la.eigvals(W)\n",
    "                res = minimize_scalar(lag_c_loglik_ord, 0.0, bounds=(-1.0, 1.0),\n",
    "                                      args=(\n",
    "                                          self.n, e0, e1, evals), method='bounded',\n",
    "                                      tol=epsilon)\n",
    "        else:\n",
    "            # program will crash, need to catch\n",
    "            print(\"{0} is an unsupported method\".format(methodML))\n",
    "            self = None\n",
    "            return\n",
    "\n",
    "        self.rho = res.x[0][0]\n",
    "        print res.x\n",
    "\n",
    "        # compute full log-likelihood, including constants\n",
    "        ln2pi = np.log(2.0 * np.pi)\n",
    "        llik = -res.fun - self.n / 2.0 * ln2pi - self.n / 2.0\n",
    "        self.logll = llik[0][0]\n",
    "\n",
    "        # b, residuals and predicted values\n",
    "\n",
    "        b = b0 - self.rho * b1\n",
    "        self.betas = np.vstack((b, self.rho))   # rho added as last coefficient\n",
    "        self.u = e0 - self.rho * e1\n",
    "        self.predy = self.y - self.u\n",
    "\n",
    "        xb = spdot(x, b)\n",
    "\n",
    "        self.predy_e = inverse_prod(\n",
    "            w.sparse, xb, self.rho, inv_method=\"power_exp\", threshold=epsilon)\n",
    "        self.e_pred = self.y - self.predy_e\n",
    "\n",
    "        # residual variance\n",
    "        self.sig2 = self.sig2n  # no allowance for division by n-k\n",
    "\n",
    "        # information matrix\n",
    "        a = -self.rho * W\n",
    "        np.fill_diagonal(a, 1.0)\n",
    "        ai = la.inv(a)\n",
    "        wai = np.dot(W, ai)\n",
    "        tr1 = np.trace(wai)\n",
    "\n",
    "        wai2 = np.dot(wai, wai)\n",
    "        tr2 = np.trace(wai2)\n",
    "\n",
    "        waiTwai = np.dot(wai.T, wai)\n",
    "        tr3 = np.trace(waiTwai)\n",
    "\n",
    "        wpredy = ps.lag_spatial(w, self.predy_e)\n",
    "        wpyTwpy = np.dot(wpredy.T, wpredy)\n",
    "        xTwpy = spdot(x.T, wpredy)\n",
    "\n",
    "        # order of variables is beta, rho, sigma2\n",
    "\n",
    "        v1 = np.vstack(\n",
    "            (xtx / self.sig2, xTwpy.T / self.sig2, np.zeros((1, self.k))))\n",
    "        v2 = np.vstack(\n",
    "            (xTwpy / self.sig2, tr2 + tr3 + wpyTwpy / self.sig2, tr1 / self.sig2))\n",
    "        v3 = np.vstack(\n",
    "            (np.zeros((self.k, 1)), tr1 / self.sig2, self.n / (2.0 * self.sig2 ** 2)))\n",
    "\n",
    "        v = np.hstack((v1, v2, v3))\n",
    "\n",
    "        self.vm1 = la.inv(v)  # vm1 includes variance for sigma2\n",
    "        self.vm = self.vm1[:-1, :-1]  # vm is for coefficients only\n",
    "\n",
    "\n",
    "\n",
    "\n",
    "class ML_Lag(BaseML_Lag):\n",
    "\n",
    "    \"\"\"\n",
    "    ML estimation of the spatial lag model with all results and diagnostics;\n",
    "    Anselin (1988) [Anselin1988]_\n",
    "    Parameters\n",
    "    ----------\n",
    "    y            : array\n",
    "                   nx1 array for dependent variable\n",
    "    x            : array\n",
    "                   Two dimensional array with n rows and one column for each\n",
    "                   independent (exogenous) variable, excluding the constant\n",
    "    w            : pysal W object\n",
    "                   Spatial weights object\n",
    "    method       : string\n",
    "                   if 'full', brute force calculation (full matrix expressions)\n",
    "                   if 'ord', Ord eigenvalue method\n",
    "    epsilon      : float\n",
    "                   tolerance criterion in mimimize_scalar function and inverse_product\n",
    "    spat_diag    : boolean\n",
    "                   if True, include spatial diagnostics\n",
    "    vm           : boolean\n",
    "                   if True, include variance-covariance matrix in summary\n",
    "                   results\n",
    "    name_y       : string\n",
    "                   Name of dependent variable for use in output\n",
    "    name_x       : list of strings\n",
    "                   Names of independent variables for use in output\n",
    "    name_w       : string\n",
    "                   Name of weights matrix for use in output\n",
    "    name_ds      : string\n",
    "                   Name of dataset for use in output\n",
    "    Attributes\n",
    "    ----------\n",
    "    betas        : array\n",
    "                   (k+1)x1 array of estimated coefficients (rho first)\n",
    "    rho          : float\n",
    "                   estimate of spatial autoregressive coefficient\n",
    "    u            : array\n",
    "                   nx1 array of residuals\n",
    "    predy        : array\n",
    "                   nx1 array of predicted y values\n",
    "    n            : integer\n",
    "                   Number of observations\n",
    "    k            : integer\n",
    "                   Number of variables for which coefficients are estimated\n",
    "                   (including the constant, excluding the rho)\n",
    "    y            : array\n",
    "                   nx1 array for dependent variable\n",
    "    x            : array\n",
    "                   Two dimensional array with n rows and one column for each\n",
    "                   independent (exogenous) variable, including the constant\n",
    "    method       : string\n",
    "                   log Jacobian method\n",
    "                   if 'full': brute force (full matrix computations)\n",
    "    epsilon      : float\n",
    "                   tolerance criterion used in minimize_scalar function and inverse_product\n",
    "    mean_y       : float\n",
    "                   Mean of dependent variable\n",
    "    std_y        : float\n",
    "                   Standard deviation of dependent variable\n",
    "    vm           : array\n",
    "                   Variance covariance matrix (k+1 x k+1), all coefficients\n",
    "    vm1          : array\n",
    "                   Variance covariance matrix (k+2 x k+2), includes sig2\n",
    "    sig2         : float\n",
    "                   Sigma squared used in computations\n",
    "    logll        : float\n",
    "                   maximized log-likelihood (including constant terms)\n",
    "    aic          : float\n",
    "                   Akaike information criterion\n",
    "    schwarz      : float\n",
    "                   Schwarz criterion\n",
    "    predy_e      : array\n",
    "                   predicted values from reduced form\n",
    "    e_pred       : array\n",
    "                   prediction errors using reduced form predicted values\n",
    "    pr2          : float\n",
    "                   Pseudo R squared (squared correlation between y and ypred)\n",
    "    pr2_e        : float\n",
    "                   Pseudo R squared (squared correlation between y and ypred_e\n",
    "                   (using reduced form))\n",
    "    utu          : float\n",
    "                   Sum of squared residuals\n",
    "    std_err      : array\n",
    "                   1xk array of standard errors of the betas\n",
    "    z_stat       : list of tuples\n",
    "                   z statistic; each tuple contains the pair (statistic,\n",
    "                   p-value), where each is a float\n",
    "    name_y       : string\n",
    "                   Name of dependent variable for use in output\n",
    "    name_x       : list of strings\n",
    "                   Names of independent variables for use in output\n",
    "    name_w       : string\n",
    "                   Name of weights matrix for use in output\n",
    "    name_ds      : string\n",
    "                   Name of dataset for use in output\n",
    "    title        : string\n",
    "                   Name of the regression method used\n",
    "    Examples\n",
    "    ________\n",
    "    >>> import numpy as np\n",
    "    >>> import pysal as ps\n",
    "    >>> db =  ps.open(ps.examples.get_path(\"baltim.dbf\"),'r')\n",
    "    >>> ds_name = \"baltim.dbf\"\n",
    "    >>> y_name = \"PRICE\"\n",
    "    >>> y = np.array(db.by_col(y_name)).T\n",
    "    >>> y.shape = (len(y),1)\n",
    "    >>> x_names = [\"NROOM\",\"NBATH\",\"PATIO\",\"FIREPL\",\"AC\",\"GAR\",\"AGE\",\"LOTSZ\",\"SQFT\"]\n",
    "    >>> x = np.array([db.by_col(var) for var in x_names]).T\n",
    "    >>> ww = ps.open(ps.examples.get_path(\"baltim_q.gal\"))\n",
    "    >>> w = ww.read()\n",
    "    >>> ww.close()\n",
    "    >>> w_name = \"baltim_q.gal\"\n",
    "    >>> w.transform = 'r'\n",
    "    >>> mllag = ML_Lag(y,x,w,name_y=y_name,name_x=x_names,\\\n",
    "               name_w=w_name,name_ds=ds_name) #doctest: +SKIP\n",
    "    >>> np.around(mllag.betas, decimals=4) #doctest: +SKIP\n",
    "    array([[ 4.3675],\n",
    "           [ 0.7502],\n",
    "           [ 5.6116],\n",
    "           [ 7.0497],\n",
    "           [ 7.7246],\n",
    "           [ 6.1231],\n",
    "           [ 4.6375],\n",
    "           [-0.1107],\n",
    "           [ 0.0679],\n",
    "           [ 0.0794],\n",
    "           [ 0.4259]])\n",
    "    >>> \"{0:.6f}\".format(mllag.rho) #doctest: +SKIP\n",
    "    '0.425885'\n",
    "    >>> \"{0:.6f}\".format(mllag.mean_y) #doctest: +SKIP\n",
    "    '44.307180'\n",
    "    >>> \"{0:.6f}\".format(mllag.std_y) #doctest: +SKIP\n",
    "    '23.606077'\n",
    "    >>> np.around(np.diag(mllag.vm1), decimals=4) #doctest: +SKIP\n",
    "    array([  23.8716,    1.1222,    3.0593,    7.3416,    5.6695,    5.4698,\n",
    "              2.8684,    0.0026,    0.0002,    0.0266,    0.0032,  220.1292])\n",
    "    >>> np.around(np.diag(mllag.vm), decimals=4) #doctest: +SKIP\n",
    "    array([ 23.8716,   1.1222,   3.0593,   7.3416,   5.6695,   5.4698,\n",
    "             2.8684,   0.0026,   0.0002,   0.0266,   0.0032])\n",
    "    >>> \"{0:.6f}\".format(mllag.sig2) #doctest: +SKIP\n",
    "    '151.458698'\n",
    "    >>> \"{0:.6f}\".format(mllag.logll) #doctest: +SKIP\n",
    "    '-832.937174'\n",
    "    >>> \"{0:.6f}\".format(mllag.aic) #doctest: +SKIP\n",
    "    '1687.874348'\n",
    "    >>> \"{0:.6f}\".format(mllag.schwarz) #doctest: +SKIP\n",
    "    '1724.744787'\n",
    "    >>> \"{0:.6f}\".format(mllag.pr2) #doctest: +SKIP\n",
    "    '0.727081'\n",
    "    >>> \"{0:.4f}\".format(mllag.pr2_e) #doctest: +SKIP\n",
    "    '0.7062'\n",
    "    >>> \"{0:.4f}\".format(mllag.utu) #doctest: +SKIP\n",
    "    '31957.7853'\n",
    "    >>> np.around(mllag.std_err, decimals=4) #doctest: +SKIP\n",
    "    array([ 4.8859,  1.0593,  1.7491,  2.7095,  2.3811,  2.3388,  1.6936,\n",
    "            0.0508,  0.0146,  0.1631,  0.057 ])\n",
    "    >>> np.around(mllag.z_stat, decimals=4) #doctest: +SKIP\n",
    "    array([[ 0.8939,  0.3714],\n",
    "           [ 0.7082,  0.4788],\n",
    "           [ 3.2083,  0.0013],\n",
    "           [ 2.6018,  0.0093],\n",
    "           [ 3.2442,  0.0012],\n",
    "           [ 2.6181,  0.0088],\n",
    "           [ 2.7382,  0.0062],\n",
    "           [-2.178 ,  0.0294],\n",
    "           [ 4.6487,  0.    ],\n",
    "           [ 0.4866,  0.6266],\n",
    "           [ 7.4775,  0.    ]])\n",
    "    >>> mllag.name_y #doctest: +SKIP\n",
    "    'PRICE'\n",
    "    >>> mllag.name_x #doctest: +SKIP\n",
    "    ['CONSTANT', 'NROOM', 'NBATH', 'PATIO', 'FIREPL', 'AC', 'GAR', 'AGE', 'LOTSZ', 'SQFT', 'W_PRICE']\n",
    "    >>> mllag.name_w #doctest: +SKIP\n",
    "    'baltim_q.gal'\n",
    "    >>> mllag.name_ds #doctest: +SKIP\n",
    "    'baltim.dbf'\n",
    "    >>> mllag.title #doctest: +SKIP\n",
    "    'MAXIMUM LIKELIHOOD SPATIAL LAG (METHOD = FULL)'\n",
    "    >>> mllag = ML_Lag(y,x,w,method='ord',name_y=y_name,name_x=x_names,\\\n",
    "               name_w=w_name,name_ds=ds_name) #doctest: +SKIP\n",
    "    >>> np.around(mllag.betas, decimals=4) #doctest: +SKIP\n",
    "    array([[ 4.3675],\n",
    "           [ 0.7502],\n",
    "           [ 5.6116],\n",
    "           [ 7.0497],\n",
    "           [ 7.7246],\n",
    "           [ 6.1231],\n",
    "           [ 4.6375],\n",
    "           [-0.1107],\n",
    "           [ 0.0679],\n",
    "           [ 0.0794],\n",
    "           [ 0.4259]])\n",
    "    >>> \"{0:.6f}\".format(mllag.rho) #doctest: +SKIP\n",
    "    '0.425885'\n",
    "    >>> \"{0:.6f}\".format(mllag.mean_y) #doctest: +SKIP\n",
    "    '44.307180'\n",
    "    >>> \"{0:.6f}\".format(mllag.std_y) #doctest: +SKIP\n",
    "    '23.606077'\n",
    "    >>> np.around(np.diag(mllag.vm1), decimals=4) #doctest: +SKIP\n",
    "    array([  23.8716,    1.1222,    3.0593,    7.3416,    5.6695,    5.4698,\n",
    "              2.8684,    0.0026,    0.0002,    0.0266,    0.0032,  220.1292])\n",
    "    >>> np.around(np.diag(mllag.vm), decimals=4) #doctest: +SKIP\n",
    "    array([ 23.8716,   1.1222,   3.0593,   7.3416,   5.6695,   5.4698,\n",
    "             2.8684,   0.0026,   0.0002,   0.0266,   0.0032])\n",
    "    >>> \"{0:.6f}\".format(mllag.sig2) #doctest: +SKIP\n",
    "    '151.458698'\n",
    "    >>> \"{0:.6f}\".format(mllag.logll) #doctest: +SKIP\n",
    "    '-832.937174'\n",
    "    >>> \"{0:.6f}\".format(mllag.aic) #doctest: +SKIP\n",
    "    '1687.874348'\n",
    "    >>> \"{0:.6f}\".format(mllag.schwarz) #doctest: +SKIP\n",
    "    '1724.744787'\n",
    "    >>> \"{0:.6f}\".format(mllag.pr2) #doctest: +SKIP\n",
    "    '0.727081'\n",
    "    >>> \"{0:.6f}\".format(mllag.pr2_e) #doctest: +SKIP\n",
    "    '0.706198'\n",
    "    >>> \"{0:.4f}\".format(mllag.utu) #doctest: +SKIP\n",
    "    '31957.7853'\n",
    "    >>> np.around(mllag.std_err, decimals=4) #doctest: +SKIP\n",
    "    array([ 4.8859,  1.0593,  1.7491,  2.7095,  2.3811,  2.3388,  1.6936,\n",
    "            0.0508,  0.0146,  0.1631,  0.057 ])\n",
    "    >>> np.around(mllag.z_stat, decimals=4) #doctest: +SKIP\n",
    "    array([[ 0.8939,  0.3714],\n",
    "           [ 0.7082,  0.4788],\n",
    "           [ 3.2083,  0.0013],\n",
    "           [ 2.6018,  0.0093],\n",
    "           [ 3.2442,  0.0012],\n",
    "           [ 2.6181,  0.0088],\n",
    "           [ 2.7382,  0.0062],\n",
    "           [-2.178 ,  0.0294],\n",
    "           [ 4.6487,  0.    ],\n",
    "           [ 0.4866,  0.6266],\n",
    "           [ 7.4775,  0.    ]])\n",
    "    >>> mllag.name_y #doctest: +SKIP\n",
    "    'PRICE'\n",
    "    >>> mllag.name_x #doctest: +SKIP\n",
    "    ['CONSTANT', 'NROOM', 'NBATH', 'PATIO', 'FIREPL', 'AC', 'GAR', 'AGE', 'LOTSZ', 'SQFT', 'W_PRICE']\n",
    "    >>> mllag.name_w #doctest: +SKIP\n",
    "    'baltim_q.gal'\n",
    "    >>> mllag.name_ds #doctest: +SKIP\n",
    "    'baltim.dbf'\n",
    "    >>> mllag.title #doctest: +SKIP\n",
    "    'MAXIMUM LIKELIHOOD SPATIAL LAG (METHOD = ORD)'\n",
    "    \"\"\"\n",
    "\n",
    "    def __init__(self, y, x, w, method='full', epsilon=0.0000001,\n",
    "                 spat_diag=False, vm=False, name_y=None, name_x=None,\n",
    "                 name_w=None, name_ds=None):\n",
    "        n = USER.check_arrays(y, x)\n",
    "        USER.check_y(y, n)\n",
    "        USER.check_weights(w, y, w_required=True)\n",
    "        x_constant = USER.check_constant(x)\n",
    "        method = method.upper()\n",
    "        BaseML_Lag.__init__(\n",
    "            self, y=y, x=x_constant, w=w, method=method, epsilon=epsilon)\n",
    "        # increase by 1 to have correct aic and sc, include rho in count\n",
    "        self.k += 1\n",
    "        self.title = \"MAXIMUM LIKELIHOOD SPATIAL LAG\" + \\\n",
    "            \" (METHOD = \" + method + \")\"\n",
    "        self.name_ds = USER.set_name_ds(name_ds)\n",
    "        self.name_y = USER.set_name_y(name_y)\n",
    "        self.name_x = USER.set_name_x(name_x, x)\n",
    "        name_ylag = USER.set_name_yend_sp(self.name_y)\n",
    "        self.name_x.append(name_ylag)  # rho changed to last position\n",
    "        self.name_w = USER.set_name_w(name_w, w)\n",
    "        self.aic = DIAG.akaike(reg=self)\n",
    "        self.schwarz = DIAG.schwarz(reg=self)\n",
    "        SUMMARY.ML_Lag(reg=self, w=w, vm=vm, spat_diag=spat_diag)\n",
    "\n",
    "def lag_c_loglik(rho, n, e0, e1, W):\n",
    "    # concentrated log-lik for lag model, no constants, brute force\n",
    "    er = e0 - rho * e1\n",
    "    sig2 = np.dot(er.T, er) / n\n",
    "    nlsig2 = (n / 2.0) * np.log(sig2)\n",
    "    a = -rho * W\n",
    "    np.fill_diagonal(a, 1.0)\n",
    "    jacob = np.log(np.linalg.det(a))\n",
    "    # this is the negative of the concentrated log lik for minimization\n",
    "    clik = nlsig2 - jacob\n",
    "    return clik\n",
    "\n",
    "def lag_c_loglik_sp(rho, n, e0, e1, I, Wsp):\n",
    "    # concentrated log-lik for lag model, sparse algebra\n",
    "    if isinstance(rho, np.ndarray):\n",
    "        if rho.shape == (1,1):\n",
    "            rho = rho[0][0] #why does the interior value change?\n",
    "    er = e0 - rho * e1\n",
    "    sig2 = np.dot(er.T, er) / n\n",
    "    nlsig2 = (n / 2.0) * np.log(sig2)\n",
    "    a = I - rho * Wsp\n",
    "    LU = SuperLU(a.tocsc())\n",
    "    jacob = np.sum(np.log(np.abs(LU.U.diagonal())))\n",
    "    clike = nlsig2 - jacob\n",
    "    return clike\n",
    "\n",
    "def lag_c_loglik_ord(rho, n, e0, e1, evals):\n",
    "    # concentrated log-lik for lag model, no constants, Ord eigenvalue method\n",
    "    er = e0 - rho * e1\n",
    "    sig2 = np.dot(er.T, er) / n\n",
    "    nlsig2 = (n / 2.0) * np.log(sig2)\n",
    "    revals = rho * evals\n",
    "    jacob = np.log(1 - revals).sum()\n",
    "    if isinstance(jacob, complex):\n",
    "        jacob = jacob.real\n",
    "    # this is the negative of the concentrated log lik for minimization\n",
    "    clik = nlsig2 - jacob\n",
    "    return clik\n"
   ]
  },
  {
   "cell_type": "code",
   "execution_count": 97,
   "metadata": {
    "collapsed": false
   },
   "outputs": [
    {
     "data": {
      "text/plain": [
       "False"
      ]
     },
     "execution_count": 97,
     "metadata": {},
     "output_type": "execute_result"
    }
   ],
   "source": [
    "f = lambda x: x[0]**2 + x[1]**3 + x[2]**4\n",
    "\n",
    "H = nd.Hessian(f)([1, 2, 3])\n",
    "\n",
    "np.allclose(H, np.diag([0, 2, 18]))"
   ]
  },
  {
   "cell_type": "code",
   "execution_count": 173,
   "metadata": {
    "collapsed": false
   },
   "outputs": [],
   "source": [
    "W = ODw.full()[0]\n",
    "np.fill_diagonal(W,1)\n",
    "f = lambda x: 623.708714784196 - (np.log(np.linalg.det(-x*W)))\n",
    "H = nd.Hessian(f)(0.48660563872891355)"
   ]
  },
  {
   "cell_type": "code",
   "execution_count": 203,
   "metadata": {
    "collapsed": false
   },
   "outputs": [
    {
     "data": {
      "text/plain": [
       "4877850.3554928079"
      ]
     },
     "execution_count": 203,
     "metadata": {},
     "output_type": "execute_result"
    }
   ],
   "source": [
    "model.sig2"
   ]
  },
  {
   "cell_type": "code",
   "execution_count": 128,
   "metadata": {
    "collapsed": false
   },
   "outputs": [
    {
     "data": {
      "text/plain": [
       "15.400215179856692"
      ]
     },
     "execution_count": 128,
     "metadata": {},
     "output_type": "execute_result"
    }
   ],
   "source": [
    "np.log(4877850.3554928079)"
   ]
  },
  {
   "cell_type": "code",
   "execution_count": 130,
   "metadata": {
    "collapsed": false
   },
   "outputs": [
    {
     "data": {
      "text/plain": [
       "623.708714784196"
      ]
     },
     "execution_count": 130,
     "metadata": {},
     "output_type": "execute_result"
    }
   ],
   "source": [
    "81.0/2 * 15.400215179856692"
   ]
  },
  {
   "cell_type": "code",
   "execution_count": 157,
   "metadata": {
    "collapsed": false
   },
   "outputs": [],
   "source": [
    "ODw.transform='r'"
   ]
  },
  {
   "cell_type": "code",
   "execution_count": 158,
   "metadata": {
    "collapsed": false
   },
   "outputs": [],
   "source": [
    "W = ODw.full()[0]"
   ]
  },
  {
   "cell_type": "code",
   "execution_count": 159,
   "metadata": {
    "collapsed": false
   },
   "outputs": [],
   "source": [
    "t = -0.48660563872891355*W\n",
    "np.fill_diagonal(t,1)"
   ]
  },
  {
   "cell_type": "code",
   "execution_count": 166,
   "metadata": {
    "collapsed": false
   },
   "outputs": [
    {
     "data": {
      "text/plain": [
       "624.51131369168081"
      ]
     },
     "execution_count": 166,
     "metadata": {},
     "output_type": "execute_result"
    }
   ],
   "source": [
    "623.708714784196 - np.log(np.linalg.det(t))"
   ]
  },
  {
   "cell_type": "code",
   "execution_count": 298,
   "metadata": {
    "collapsed": false
   },
   "outputs": [
    {
     "name": "stderr",
     "output_type": "stream",
     "text": [
      "//anaconda/lib/python2.7/site-packages/scipy/linalg/decomp_lu.py:71: RuntimeWarning: Diagonal number 18 is exactly zero. Singular matrix.\n",
      "  RuntimeWarning)\n"
     ]
    },
    {
     "ename": "TypeError",
     "evalue": "No loop matching the specified signature and casting\nwas found for ufunc inv",
     "output_type": "error",
     "traceback": [
      "\u001b[0;31m---------------------------------------------------------------------------\u001b[0m",
      "\u001b[0;31mTypeError\u001b[0m                                 Traceback (most recent call last)",
      "\u001b[0;32m<ipython-input-298-ce581a433789>\u001b[0m in \u001b[0;36m<module>\u001b[0;34m()\u001b[0m\n\u001b[1;32m     15\u001b[0m        \u001b[0;34m[\u001b[0m\u001b[0;36m1\u001b[0m\u001b[0;34m]\u001b[0m\u001b[0;34m,\u001b[0m\u001b[0;34m\u001b[0m\u001b[0m\n\u001b[1;32m     16\u001b[0m        [1]], 1, 1])\n\u001b[0;32m---> 17\u001b[0;31m \u001b[0my\u001b[0m \u001b[0;34m=\u001b[0m \u001b[0meval_f\u001b[0m\u001b[0;34m(\u001b[0m\u001b[0mx\u001b[0m\u001b[0;34m)\u001b[0m\u001b[0;34m\u001b[0m\u001b[0m\n\u001b[0m\u001b[1;32m     18\u001b[0m \u001b[0;31m#algopy_jacobian = UTPM.extract_hessian(y)\u001b[0m\u001b[0;34m\u001b[0m\u001b[0;34m\u001b[0m\u001b[0m\n\u001b[1;32m     19\u001b[0m \u001b[0;31m#print('jacobian = ',algopy_jacobian)\u001b[0m\u001b[0;34m\u001b[0m\u001b[0;34m\u001b[0m\u001b[0m\n",
      "\u001b[0;32m<ipython-input-298-ce581a433789>\u001b[0m in \u001b[0;36meval_f\u001b[0;34m(x)\u001b[0m\n\u001b[1;32m      6\u001b[0m     \u001b[0mnp\u001b[0m\u001b[0;34m.\u001b[0m\u001b[0mfill_diagonal\u001b[0m\u001b[0;34m(\u001b[0m\u001b[0mW\u001b[0m\u001b[0;34m,\u001b[0m\u001b[0;36m1\u001b[0m\u001b[0;34m)\u001b[0m\u001b[0;34m\u001b[0m\u001b[0m\n\u001b[1;32m      7\u001b[0m     \u001b[0mI\u001b[0m \u001b[0;34m=\u001b[0m \u001b[0mnp\u001b[0m\u001b[0;34m.\u001b[0m\u001b[0midentity\u001b[0m\u001b[0;34m(\u001b[0m\u001b[0;36m81\u001b[0m\u001b[0;34m)\u001b[0m\u001b[0;34m\u001b[0m\u001b[0m\n\u001b[0;32m----> 8\u001b[0;31m     \u001b[0;32mreturn\u001b[0m \u001b[0;34m(\u001b[0m\u001b[0;36m2.0\u001b[0m\u001b[0;34m*\u001b[0m\u001b[0;36m3.141592653589793\u001b[0m\u001b[0;34m*\u001b[0m\u001b[0mx\u001b[0m\u001b[0;34m[\u001b[0m\u001b[0;36m1\u001b[0m\u001b[0;34m]\u001b[0m\u001b[0;34m**\u001b[0m\u001b[0;36m2\u001b[0m\u001b[0;34m)\u001b[0m\u001b[0;34m**\u001b[0m\u001b[0;34m(\u001b[0m\u001b[0;34m-\u001b[0m\u001b[0;36m81\u001b[0m\u001b[0;34m/\u001b[0m\u001b[0;36m2.0\u001b[0m\u001b[0;34m)\u001b[0m\u001b[0;34m*\u001b[0m\u001b[0malgopy\u001b[0m\u001b[0;34m.\u001b[0m\u001b[0mdet\u001b[0m\u001b[0;34m(\u001b[0m\u001b[0mI\u001b[0m \u001b[0;34m-\u001b[0m \u001b[0mx\u001b[0m\u001b[0;34m[\u001b[0m\u001b[0;36m2\u001b[0m\u001b[0;34m]\u001b[0m\u001b[0;34m*\u001b[0m\u001b[0mW\u001b[0m\u001b[0;34m)\u001b[0m\u001b[0;34m*\u001b[0m\u001b[0mnp\u001b[0m\u001b[0;34m.\u001b[0m\u001b[0mexp\u001b[0m\u001b[0;34m(\u001b[0m\u001b[0;34m(\u001b[0m\u001b[0;34m-\u001b[0m\u001b[0;36m1.0\u001b[0m\u001b[0;34m/\u001b[0m\u001b[0;36m2\u001b[0m\u001b[0;34m*\u001b[0m\u001b[0mx\u001b[0m\u001b[0;34m[\u001b[0m\u001b[0;36m1\u001b[0m\u001b[0;34m]\u001b[0m\u001b[0;34m**\u001b[0m\u001b[0;36m2\u001b[0m\u001b[0;34m)\u001b[0m\u001b[0;34m*\u001b[0m\u001b[0mnp\u001b[0m\u001b[0;34m.\u001b[0m\u001b[0mdot\u001b[0m\u001b[0;34m(\u001b[0m\u001b[0;34m(\u001b[0m\u001b[0mnp\u001b[0m\u001b[0;34m.\u001b[0m\u001b[0mdot\u001b[0m\u001b[0;34m(\u001b[0m\u001b[0;34m(\u001b[0m\u001b[0mI\u001b[0m\u001b[0;34m-\u001b[0m\u001b[0mx\u001b[0m\u001b[0;34m[\u001b[0m\u001b[0;36m2\u001b[0m\u001b[0;34m]\u001b[0m\u001b[0;34m*\u001b[0m\u001b[0mW\u001b[0m\u001b[0;34m)\u001b[0m\u001b[0;34m,\u001b[0m\u001b[0mY\u001b[0m\u001b[0;34m-\u001b[0m\u001b[0mnp\u001b[0m\u001b[0;34m.\u001b[0m\u001b[0mdot\u001b[0m\u001b[0;34m(\u001b[0m\u001b[0mX\u001b[0m\u001b[0;34m,\u001b[0m\u001b[0mx\u001b[0m\u001b[0;34m[\u001b[0m\u001b[0;36m0\u001b[0m\u001b[0;34m]\u001b[0m\u001b[0;34m)\u001b[0m\u001b[0;34m)\u001b[0m\u001b[0;34m.\u001b[0m\u001b[0mT\u001b[0m\u001b[0;34m)\u001b[0m\u001b[0;34m,\u001b[0m\u001b[0mnp\u001b[0m\u001b[0;34m.\u001b[0m\u001b[0mdot\u001b[0m\u001b[0;34m(\u001b[0m\u001b[0;34m(\u001b[0m\u001b[0mI\u001b[0m\u001b[0;34m-\u001b[0m\u001b[0mx\u001b[0m\u001b[0;34m[\u001b[0m\u001b[0;36m2\u001b[0m\u001b[0;34m]\u001b[0m\u001b[0;34m*\u001b[0m\u001b[0mW\u001b[0m\u001b[0;34m)\u001b[0m\u001b[0;34m,\u001b[0m\u001b[0mY\u001b[0m\u001b[0;34m-\u001b[0m\u001b[0mnp\u001b[0m\u001b[0;34m.\u001b[0m\u001b[0mdot\u001b[0m\u001b[0;34m(\u001b[0m\u001b[0mX\u001b[0m\u001b[0;34m,\u001b[0m\u001b[0mx\u001b[0m\u001b[0;34m[\u001b[0m\u001b[0;36m0\u001b[0m\u001b[0;34m]\u001b[0m\u001b[0;34m)\u001b[0m\u001b[0;34m)\u001b[0m\u001b[0;34m)\u001b[0m\u001b[0;34m)\u001b[0m\u001b[0;34m\u001b[0m\u001b[0m\n\u001b[0m\u001b[1;32m      9\u001b[0m \u001b[0;34m\u001b[0m\u001b[0m\n\u001b[1;32m     10\u001b[0m \u001b[0;34m\u001b[0m\u001b[0m\n",
      "\u001b[0;32m//anaconda/lib/python2.7/site-packages/algopy/linalg/linalg.pyc\u001b[0m in \u001b[0;36mdet\u001b[0;34m(*args, **kwargs)\u001b[0m\n",
      "\u001b[0;32m//anaconda/lib/python2.7/site-packages/algopy/utpm/utpm.pyc\u001b[0m in \u001b[0;36mdet\u001b[0;34m(cls, x)\u001b[0m\n\u001b[1;32m   1451\u001b[0m     \u001b[0;32mdef\u001b[0m \u001b[0mdet\u001b[0m\u001b[0;34m(\u001b[0m\u001b[0mcls\u001b[0m\u001b[0;34m,\u001b[0m \u001b[0mx\u001b[0m\u001b[0;34m)\u001b[0m\u001b[0;34m:\u001b[0m\u001b[0;34m\u001b[0m\u001b[0m\n\u001b[1;32m   1452\u001b[0m         \u001b[0mD\u001b[0m\u001b[0;34m,\u001b[0m\u001b[0mP\u001b[0m \u001b[0;34m=\u001b[0m \u001b[0mx\u001b[0m\u001b[0;34m.\u001b[0m\u001b[0mdata\u001b[0m\u001b[0;34m.\u001b[0m\u001b[0mshape\u001b[0m\u001b[0;34m[\u001b[0m\u001b[0;34m:\u001b[0m\u001b[0;36m2\u001b[0m\u001b[0;34m]\u001b[0m\u001b[0;34m\u001b[0m\u001b[0m\n\u001b[0;32m-> 1453\u001b[0;31m         \u001b[0mPIV\u001b[0m\u001b[0;34m,\u001b[0m\u001b[0mL\u001b[0m\u001b[0;34m,\u001b[0m\u001b[0mU\u001b[0m \u001b[0;34m=\u001b[0m \u001b[0mcls\u001b[0m\u001b[0;34m.\u001b[0m\u001b[0mlu2\u001b[0m\u001b[0;34m(\u001b[0m\u001b[0mx\u001b[0m\u001b[0;34m)\u001b[0m\u001b[0;34m\u001b[0m\u001b[0m\n\u001b[0m\u001b[1;32m   1454\u001b[0m         \u001b[0;32mreturn\u001b[0m \u001b[0mcls\u001b[0m\u001b[0;34m.\u001b[0m\u001b[0mpiv2det\u001b[0m\u001b[0;34m(\u001b[0m\u001b[0mPIV\u001b[0m\u001b[0;34m)\u001b[0m \u001b[0;34m*\u001b[0m \u001b[0mcls\u001b[0m\u001b[0;34m.\u001b[0m\u001b[0mprod\u001b[0m\u001b[0;34m(\u001b[0m\u001b[0mcls\u001b[0m\u001b[0;34m.\u001b[0m\u001b[0mdiag\u001b[0m\u001b[0;34m(\u001b[0m\u001b[0mU\u001b[0m\u001b[0;34m)\u001b[0m\u001b[0;34m)\u001b[0m\u001b[0;34m\u001b[0m\u001b[0m\n\u001b[1;32m   1455\u001b[0m \u001b[0;34m\u001b[0m\u001b[0m\n",
      "\u001b[0;32m//anaconda/lib/python2.7/site-packages/algopy/utpm/utpm.pyc\u001b[0m in \u001b[0;36mlu2\u001b[0;34m(cls, A, out)\u001b[0m\n\u001b[1;32m   2191\u001b[0m \u001b[0;34m\u001b[0m\u001b[0m\n\u001b[1;32m   2192\u001b[0m             \u001b[0;31m# allocate temporary storage\u001b[0m\u001b[0;34m\u001b[0m\u001b[0;34m\u001b[0m\u001b[0m\n\u001b[0;32m-> 2193\u001b[0;31m             \u001b[0mL0inv\u001b[0m \u001b[0;34m=\u001b[0m \u001b[0mnumpy\u001b[0m\u001b[0;34m.\u001b[0m\u001b[0mlinalg\u001b[0m\u001b[0;34m.\u001b[0m\u001b[0minv\u001b[0m\u001b[0;34m(\u001b[0m\u001b[0mL\u001b[0m\u001b[0;34m.\u001b[0m\u001b[0mdata\u001b[0m\u001b[0;34m[\u001b[0m\u001b[0;36m0\u001b[0m\u001b[0;34m,\u001b[0m\u001b[0mp\u001b[0m\u001b[0;34m]\u001b[0m\u001b[0;34m)\u001b[0m\u001b[0;34m\u001b[0m\u001b[0m\n\u001b[0m\u001b[1;32m   2194\u001b[0m             \u001b[0mU0inv\u001b[0m \u001b[0;34m=\u001b[0m \u001b[0mnumpy\u001b[0m\u001b[0;34m.\u001b[0m\u001b[0mlinalg\u001b[0m\u001b[0;34m.\u001b[0m\u001b[0minv\u001b[0m\u001b[0;34m(\u001b[0m\u001b[0mU\u001b[0m\u001b[0;34m.\u001b[0m\u001b[0mdata\u001b[0m\u001b[0;34m[\u001b[0m\u001b[0;36m0\u001b[0m\u001b[0;34m,\u001b[0m\u001b[0mp\u001b[0m\u001b[0;34m]\u001b[0m\u001b[0;34m)\u001b[0m\u001b[0;34m\u001b[0m\u001b[0m\n\u001b[1;32m   2195\u001b[0m             \u001b[0mdF\u001b[0m    \u001b[0;34m=\u001b[0m \u001b[0mnumpy\u001b[0m\u001b[0;34m.\u001b[0m\u001b[0mzeros\u001b[0m\u001b[0;34m(\u001b[0m\u001b[0;34m(\u001b[0m\u001b[0mN\u001b[0m\u001b[0;34m,\u001b[0m\u001b[0mN\u001b[0m\u001b[0;34m)\u001b[0m\u001b[0;34m,\u001b[0m\u001b[0mdtype\u001b[0m\u001b[0;34m=\u001b[0m\u001b[0mfloat\u001b[0m\u001b[0;34m)\u001b[0m\u001b[0;34m\u001b[0m\u001b[0m\n",
      "\u001b[0;32m//anaconda/lib/python2.7/site-packages/numpy/linalg/linalg.pyc\u001b[0m in \u001b[0;36minv\u001b[0;34m(a)\u001b[0m\n\u001b[1;32m    524\u001b[0m     \u001b[0msignature\u001b[0m \u001b[0;34m=\u001b[0m \u001b[0;34m'D->D'\u001b[0m \u001b[0;32mif\u001b[0m \u001b[0misComplexType\u001b[0m\u001b[0;34m(\u001b[0m\u001b[0mt\u001b[0m\u001b[0;34m)\u001b[0m \u001b[0;32melse\u001b[0m \u001b[0;34m'd->d'\u001b[0m\u001b[0;34m\u001b[0m\u001b[0m\n\u001b[1;32m    525\u001b[0m     \u001b[0mextobj\u001b[0m \u001b[0;34m=\u001b[0m \u001b[0mget_linalg_error_extobj\u001b[0m\u001b[0;34m(\u001b[0m\u001b[0m_raise_linalgerror_singular\u001b[0m\u001b[0;34m)\u001b[0m\u001b[0;34m\u001b[0m\u001b[0m\n\u001b[0;32m--> 526\u001b[0;31m     \u001b[0mainv\u001b[0m \u001b[0;34m=\u001b[0m \u001b[0m_umath_linalg\u001b[0m\u001b[0;34m.\u001b[0m\u001b[0minv\u001b[0m\u001b[0;34m(\u001b[0m\u001b[0ma\u001b[0m\u001b[0;34m,\u001b[0m \u001b[0msignature\u001b[0m\u001b[0;34m=\u001b[0m\u001b[0msignature\u001b[0m\u001b[0;34m,\u001b[0m \u001b[0mextobj\u001b[0m\u001b[0;34m=\u001b[0m\u001b[0mextobj\u001b[0m\u001b[0;34m)\u001b[0m\u001b[0;34m\u001b[0m\u001b[0m\n\u001b[0m\u001b[1;32m    527\u001b[0m     \u001b[0;32mreturn\u001b[0m \u001b[0mwrap\u001b[0m\u001b[0;34m(\u001b[0m\u001b[0mainv\u001b[0m\u001b[0;34m.\u001b[0m\u001b[0mastype\u001b[0m\u001b[0;34m(\u001b[0m\u001b[0mresult_t\u001b[0m\u001b[0;34m,\u001b[0m \u001b[0mcopy\u001b[0m\u001b[0;34m=\u001b[0m\u001b[0mFalse\u001b[0m\u001b[0;34m)\u001b[0m\u001b[0;34m)\u001b[0m\u001b[0;34m\u001b[0m\u001b[0m\n\u001b[1;32m    528\u001b[0m \u001b[0;34m\u001b[0m\u001b[0m\n",
      "\u001b[0;31mTypeError\u001b[0m: No loop matching the specified signature and casting\nwas found for ufunc inv"
     ]
    }
   ],
   "source": [
    "import numpy, algopy\n",
    "from algopy import UTPM, exp\n",
    "\n",
    "def eval_f(x):\n",
    "    W = ODw.full()[0]\n",
    "    np.fill_diagonal(W,1)\n",
    "    I = np.identity(81)\n",
    "    return (2.0*3.141592653589793*x[1]**2)**(-81/2.0)*algopy.det(I - x[2]*W)*np.exp((-1.0/2*x[1]**2)*np.dot((np.dot((I-x[2]*W),Y-np.dot(X,x[0])).T),np.dot((I-x[2]*W),Y-np.dot(X,x[0]))))\n",
    "\n",
    "\n",
    "# forward mode without building the computational graph\n",
    "# -----------------------------------------------------\n",
    "x = UTPM.init_jacobian([[[1],\n",
    "       [1],\n",
    "       [1],\n",
    "       [1]], 1, 1])\n",
    "y = eval_f(x)\n",
    "#algopy_jacobian = UTPM.extract_hessian(y)\n",
    "#print('jacobian = ',algopy_jacobian)\n",
    "\n",
    "# reverse mode using a computational graph\n",
    "# ----------------------------------------\n",
    "\n",
    "# STEP 1: trace the function evaluation\n",
    "cg = algopy.CGraph()\n",
    "x = algopy.Function(x)\n",
    "y = eval_f([[[ 1],\n",
    "       [  1],\n",
    "       [  1],\n",
    "       [ 1]], 1, 1])\n",
    "\n",
    "cg.trace_off()\n",
    "cg.independentFunctionList = [x]\n",
    "cg.dependentFunctionList = [y]\n",
    "\n",
    "# STEP 2: use the computational graph to evaluate derivatives\n",
    "\n",
    "print('Hessian =', cg.hessian([[[ -6.30311224e+02],\n",
    "       [  8.64955926e-02],\n",
    "       [  9.20006448e-02],\n",
    "       [ -3.22943398e+00]], 4877850.3554928079, 0.48660563872891355]))\n"
   ]
  },
  {
   "cell_type": "markdown",
   "metadata": {},
   "source": [
    "### "
   ]
  },
  {
   "cell_type": "code",
   "execution_count": 292,
   "metadata": {
    "collapsed": false
   },
   "outputs": [
    {
     "data": {
      "text/plain": [
       "[array([[ 0.]])]"
      ]
     },
     "execution_count": 292,
     "metadata": {},
     "output_type": "execute_result"
    }
   ],
   "source": [
    "cg.dependentFunctionList"
   ]
  },
  {
   "cell_type": "code",
   "execution_count": 236,
   "metadata": {
    "collapsed": true
   },
   "outputs": [],
   "source": [
    "X = np.hstack([np.ones((81,1)), X])"
   ]
  },
  {
   "cell_type": "code",
   "execution_count": 262,
   "metadata": {
    "collapsed": false
   },
   "outputs": [
    {
     "data": {
      "text/plain": [
       "array([[ 0.,  0.,  0., ...,  0.,  0.,  0.],\n",
       "       [ 0.,  0.,  0., ...,  0.,  0.,  0.],\n",
       "       [ 0.,  0.,  0., ...,  0.,  0.,  0.],\n",
       "       ..., \n",
       "       [ 0.,  0.,  0., ...,  0.,  0.,  0.],\n",
       "       [ 0.,  0.,  0., ...,  0.,  0.,  0.],\n",
       "       [ 0.,  0.,  0., ...,  0.,  0.,  0.]])"
      ]
     },
     "execution_count": 262,
     "metadata": {},
     "output_type": "execute_result"
    }
   ],
   "source": [
    "y"
   ]
  },
  {
   "cell_type": "code",
   "execution_count": 263,
   "metadata": {
    "collapsed": true
   },
   "outputs": [],
   "source": [
    "y = eval_f([[[1],[2],[3],[4]], 5, 6])"
   ]
  },
  {
   "cell_type": "code",
   "execution_count": 264,
   "metadata": {
    "collapsed": false
   },
   "outputs": [
    {
     "data": {
      "text/plain": [
       "array([[ 0.,  0.,  0., ...,  0.,  0.,  0.],\n",
       "       [ 0.,  0.,  0., ...,  0.,  0.,  0.],\n",
       "       [ 0.,  0.,  0., ...,  0.,  0.,  0.],\n",
       "       ..., \n",
       "       [ 0.,  0.,  0., ...,  0.,  0.,  0.],\n",
       "       [ 0.,  0.,  0., ...,  0.,  0.,  0.],\n",
       "       [ 0.,  0.,  0., ...,  0.,  0.,  0.]])"
      ]
     },
     "execution_count": 264,
     "metadata": {},
     "output_type": "execute_result"
    }
   ],
   "source": [
    "y"
   ]
  },
  {
   "cell_type": "code",
   "execution_count": 252,
   "metadata": {
    "collapsed": true
   },
   "outputs": [],
   "source": [
    "eval_f([[[1],[2],[3],[4]], 5, 6])"
   ]
  },
  {
   "cell_type": "code",
   "execution_count": 253,
   "metadata": {
    "collapsed": false
   },
   "outputs": [
    {
     "name": "stdout",
     "output_type": "stream",
     "text": [
      "('jacobian = ', array([ 135.42768462,   41.08553692,   15.        ]))\n",
      "('gradient =', [array([ 135.42768462,   41.08553692,   15.        ])])\n",
      "('Jacobian =', array([[ 135.42768462,   41.08553692,   15.        ]]))\n",
      "('Hessian =', array([[ 100.42768462,   27.08553692,    5.        ],\n",
      "       [  27.08553692,    0.        ,    3.        ],\n",
      "       [   5.        ,    3.        ,    0.        ]]))\n",
      "('Hessian vector product =', array([ 567.13842308,  126.34214769,   35.        ]))\n"
     ]
    }
   ],
   "source": [
    "\n",
    "def eval_f(x):\n",
    "    \"\"\" some function \"\"\"\n",
    "    return x[0]*x[1]*x[2] + exp(x[0])*x[1]\n",
    "\n",
    "# forward mode without building the computational graph\n",
    "# -----------------------------------------------------\n",
    "x = UTPM.init_jacobian([3,5,7])\n",
    "y = eval_f(x)\n",
    "algopy_jacobian = UTPM.extract_jacobian(y)\n",
    "print('jacobian = ',algopy_jacobian)\n",
    "\n",
    "# reverse mode using a computational graph\n",
    "# ----------------------------------------\n",
    "\n",
    "# STEP 1: trace the function evaluation\n",
    "cg = algopy.CGraph()\n",
    "x = algopy.Function([1,2,3])\n",
    "y = eval_f(x)\n",
    "cg.trace_off()\n",
    "cg.independentFunctionList = [x]\n",
    "cg.dependentFunctionList = [y]\n",
    "\n",
    "# STEP 2: use the computational graph to evaluate derivatives\n",
    "print('gradient =', cg.gradient([3.,5,7]))\n",
    "print('Jacobian =', cg.jacobian([3.,5,7]))\n",
    "print('Hessian =', cg.hessian([3.,5.,7.]))\n",
    "print('Hessian vector product =', cg.hess_vec([3.,5.,7.],[4,5,6]))"
   ]
  },
  {
   "cell_type": "code",
   "execution_count": 254,
   "metadata": {
    "collapsed": false
   },
   "outputs": [
    {
     "data": {
      "text/plain": [
       "Function:\n",
       "ID = 10\n",
       "function = <built-in function add>"
      ]
     },
     "execution_count": 254,
     "metadata": {},
     "output_type": "execute_result"
    }
   ],
   "source": [
    "y"
   ]
  },
  {
   "cell_type": "code",
   "execution_count": 255,
   "metadata": {
    "collapsed": false
   },
   "outputs": [
    {
     "data": {
      "text/plain": [
       "[Function:\n",
       " ID = 10\n",
       " function = <built-in function add>]"
      ]
     },
     "execution_count": 255,
     "metadata": {},
     "output_type": "execute_result"
    }
   ],
   "source": [
    "cg.dependentFunctionList"
   ]
  },
  {
   "cell_type": "code",
   "execution_count": 295,
   "metadata": {
    "collapsed": false
   },
   "outputs": [
    {
     "data": {
      "text/plain": [
       "<function algopy.linalg.linalg.det>"
      ]
     },
     "execution_count": 295,
     "metadata": {},
     "output_type": "execute_result"
    }
   ],
   "source": [
    "algopy.det()"
   ]
  },
  {
   "cell_type": "code",
   "execution_count": 307,
   "metadata": {
    "collapsed": false
   },
   "outputs": [],
   "source": [
    "from scipy.optimize import approx_fprime\n",
    "def eval_f(x):\n",
    "    B = np.vstack([x[0], x[1], x[2], x[3]])\n",
    "    W = ODw.full()[0]\n",
    "    np.fill_diagonal(W,1)\n",
    "    I = np.identity(81)\n",
    "    return (2.0*3.141592653589793*x[4]**2)**(-81/2.0)*algopy.det(I - x[5]*W)*np.exp((-1.0/2*x[4]**2)*np.dot((np.dot((I-x[5]*W),Y-np.dot(X,B)).T),np.dot((I-x[5]*W),Y-np.dot(X,B))))\n",
    "\n",
    "\n",
    "\n",
    "def hessian ( x0, epsilon=1.e-5, linear_approx=False, *args ):\n",
    "    \"\"\"\n",
    "    A numerical approximation to the Hessian matrix of cost function at\n",
    "    location x0 (hopefully, the minimum)\n",
    "    \"\"\"\n",
    "    # ``calculate_cost_function`` is the cost function implementation\n",
    "    # The next line calculates an approximation to the first\n",
    "    # derivative\n",
    "    eps = [1.e-5, 1.e-5, 1.e-5]\n",
    "    f1 = approx_fprime( x0, eval_f, eps, *args) \n",
    "\n",
    "    # This is a linear approximation. Obviously much more efficient\n",
    "    # if cost function is linear\n",
    "    if linear_approx:\n",
    "        f1 = np.matrix(f1)\n",
    "        return f1.transpose() * f1    \n",
    "    # Allocate space for the hessian\n",
    "    n = x0.shape[0]\n",
    "    hessian = np.zeros ( ( n, n ) )\n",
    "    # The next loop fill in the matrix\n",
    "    xx = x0\n",
    "    for j in xrange( n ):\n",
    "        xx0 = xx[j] # Store old value\n",
    "        xx[j] = xx0 + epsilon # Perturb with finite difference\n",
    "        # Recalculate the partial derivatives for this new point\n",
    "        f2 = approx_fprime( x0, eval_f, eps, *args) \n",
    "        hessian[:, j] = (f2 - f1)/epsilon # scale...\n",
    "        xx[j] = xx0 # Restore initial value of x0        \n",
    "    return hessian"
   ]
  },
  {
   "cell_type": "code",
   "execution_count": 309,
   "metadata": {
    "collapsed": false
   },
   "outputs": [
    {
     "ename": "ValueError",
     "evalue": "operands could not be broadcast together with shapes (3,) (6,) ",
     "output_type": "error",
     "traceback": [
      "\u001b[0;31m---------------------------------------------------------------------------\u001b[0m",
      "\u001b[0;31mValueError\u001b[0m                                Traceback (most recent call last)",
      "\u001b[0;32m<ipython-input-309-7d595bb44d36>\u001b[0m in \u001b[0;36m<module>\u001b[0;34m()\u001b[0m\n\u001b[1;32m      2\u001b[0m          \u001b[0;36m8.64955926e-02\u001b[0m\u001b[0;34m,\u001b[0m\u001b[0;34m\u001b[0m\u001b[0m\n\u001b[1;32m      3\u001b[0m          \u001b[0;36m9.20006448e-02\u001b[0m\u001b[0;34m,\u001b[0m\u001b[0;34m\u001b[0m\u001b[0m\n\u001b[0;32m----> 4\u001b[0;31m         -3.22943398e+00, 4877850.3554928079, 0.48660563872891355])\n\u001b[0m",
      "\u001b[0;32m<ipython-input-307-52823f1e8bf6>\u001b[0m in \u001b[0;36mhessian\u001b[0;34m(x0, epsilon, linear_approx, *args)\u001b[0m\n\u001b[1;32m     18\u001b[0m     \u001b[0;31m# derivative\u001b[0m\u001b[0;34m\u001b[0m\u001b[0;34m\u001b[0m\u001b[0m\n\u001b[1;32m     19\u001b[0m     \u001b[0meps\u001b[0m \u001b[0;34m=\u001b[0m \u001b[0;34m[\u001b[0m\u001b[0;36m1.e-5\u001b[0m\u001b[0;34m,\u001b[0m \u001b[0;36m1.e-5\u001b[0m\u001b[0;34m,\u001b[0m \u001b[0;36m1.e-5\u001b[0m\u001b[0;34m]\u001b[0m\u001b[0;34m\u001b[0m\u001b[0m\n\u001b[0;32m---> 20\u001b[0;31m     \u001b[0mf1\u001b[0m \u001b[0;34m=\u001b[0m \u001b[0mapprox_fprime\u001b[0m\u001b[0;34m(\u001b[0m \u001b[0mx0\u001b[0m\u001b[0;34m,\u001b[0m \u001b[0meval_f\u001b[0m\u001b[0;34m,\u001b[0m \u001b[0meps\u001b[0m\u001b[0;34m,\u001b[0m \u001b[0;34m*\u001b[0m\u001b[0margs\u001b[0m\u001b[0;34m)\u001b[0m\u001b[0;34m\u001b[0m\u001b[0m\n\u001b[0m\u001b[1;32m     21\u001b[0m \u001b[0;34m\u001b[0m\u001b[0m\n\u001b[1;32m     22\u001b[0m     \u001b[0;31m# This is a linear approximation. Obviously much more efficient\u001b[0m\u001b[0;34m\u001b[0m\u001b[0;34m\u001b[0m\u001b[0m\n",
      "\u001b[0;32m//anaconda/lib/python2.7/site-packages/scipy/optimize/optimize.pyc\u001b[0m in \u001b[0;36mapprox_fprime\u001b[0;34m(xk, f, epsilon, *args)\u001b[0m\n\u001b[1;32m    620\u001b[0m \u001b[0;34m\u001b[0m\u001b[0m\n\u001b[1;32m    621\u001b[0m     \"\"\"\n\u001b[0;32m--> 622\u001b[0;31m     \u001b[0;32mreturn\u001b[0m \u001b[0m_approx_fprime_helper\u001b[0m\u001b[0;34m(\u001b[0m\u001b[0mxk\u001b[0m\u001b[0;34m,\u001b[0m \u001b[0mf\u001b[0m\u001b[0;34m,\u001b[0m \u001b[0mepsilon\u001b[0m\u001b[0;34m,\u001b[0m \u001b[0margs\u001b[0m\u001b[0;34m=\u001b[0m\u001b[0margs\u001b[0m\u001b[0;34m)\u001b[0m\u001b[0;34m\u001b[0m\u001b[0m\n\u001b[0m\u001b[1;32m    623\u001b[0m \u001b[0;34m\u001b[0m\u001b[0m\n\u001b[1;32m    624\u001b[0m \u001b[0;34m\u001b[0m\u001b[0m\n",
      "\u001b[0;32m//anaconda/lib/python2.7/site-packages/scipy/optimize/optimize.pyc\u001b[0m in \u001b[0;36m_approx_fprime_helper\u001b[0;34m(xk, f, epsilon, args, f0)\u001b[0m\n\u001b[1;32m    559\u001b[0m     \u001b[0;32mfor\u001b[0m \u001b[0mk\u001b[0m \u001b[0;32min\u001b[0m \u001b[0mrange\u001b[0m\u001b[0;34m(\u001b[0m\u001b[0mlen\u001b[0m\u001b[0;34m(\u001b[0m\u001b[0mxk\u001b[0m\u001b[0;34m)\u001b[0m\u001b[0;34m)\u001b[0m\u001b[0;34m:\u001b[0m\u001b[0;34m\u001b[0m\u001b[0m\n\u001b[1;32m    560\u001b[0m         \u001b[0mei\u001b[0m\u001b[0;34m[\u001b[0m\u001b[0mk\u001b[0m\u001b[0;34m]\u001b[0m \u001b[0;34m=\u001b[0m \u001b[0;36m1.0\u001b[0m\u001b[0;34m\u001b[0m\u001b[0m\n\u001b[0;32m--> 561\u001b[0;31m         \u001b[0md\u001b[0m \u001b[0;34m=\u001b[0m \u001b[0mepsilon\u001b[0m \u001b[0;34m*\u001b[0m \u001b[0mei\u001b[0m\u001b[0;34m\u001b[0m\u001b[0m\n\u001b[0m\u001b[1;32m    562\u001b[0m         \u001b[0mgrad\u001b[0m\u001b[0;34m[\u001b[0m\u001b[0mk\u001b[0m\u001b[0;34m]\u001b[0m \u001b[0;34m=\u001b[0m \u001b[0;34m(\u001b[0m\u001b[0mf\u001b[0m\u001b[0;34m(\u001b[0m\u001b[0;34m*\u001b[0m\u001b[0;34m(\u001b[0m\u001b[0;34m(\u001b[0m\u001b[0mxk\u001b[0m \u001b[0;34m+\u001b[0m \u001b[0md\u001b[0m\u001b[0;34m,\u001b[0m\u001b[0;34m)\u001b[0m \u001b[0;34m+\u001b[0m \u001b[0margs\u001b[0m\u001b[0;34m)\u001b[0m\u001b[0;34m)\u001b[0m \u001b[0;34m-\u001b[0m \u001b[0mf0\u001b[0m\u001b[0;34m)\u001b[0m \u001b[0;34m/\u001b[0m \u001b[0md\u001b[0m\u001b[0;34m[\u001b[0m\u001b[0mk\u001b[0m\u001b[0;34m]\u001b[0m\u001b[0;34m\u001b[0m\u001b[0m\n\u001b[1;32m    563\u001b[0m         \u001b[0mei\u001b[0m\u001b[0;34m[\u001b[0m\u001b[0mk\u001b[0m\u001b[0;34m]\u001b[0m \u001b[0;34m=\u001b[0m \u001b[0;36m0.0\u001b[0m\u001b[0;34m\u001b[0m\u001b[0m\n",
      "\u001b[0;31mValueError\u001b[0m: operands could not be broadcast together with shapes (3,) (6,) "
     ]
    }
   ],
   "source": [
    "hessian([ -6.30311224e+02,\n",
    "         8.64955926e-02,\n",
    "         9.20006448e-02,\n",
    "        -3.22943398e+00, 4877850.3554928079, 0.48660563872891355])"
   ]
  },
  {
   "cell_type": "code",
   "execution_count": 311,
   "metadata": {
    "collapsed": false
   },
   "outputs": [
    {
     "name": "stdout",
     "output_type": "stream",
     "text": [
      "[[ 88.46579584]\n",
      " [  0.5200379 ]\n",
      " [ -1.58216593]]\n"
     ]
    }
   ],
   "source": [
    "import numpy as np\n",
    "import pysal\n",
    "db = pysal.open(pysal.examples.get_path(\"columbus.dbf\"),'r')\n",
    "y = np.array(db.by_col(\"CRIME\"))\n",
    "y = np.reshape(y, (49,1))\n",
    "X = []\n",
    "X.append(db.by_col(\"INC\"))\n",
    "X = np.array(X).T\n",
    "X = np.hstack((np.ones(y.shape),X))\n",
    "yd = []\n",
    "yd.append(db.by_col(\"HOVAL\"))\n",
    "yd = np.array(yd).T\n",
    "q = []\n",
    "q.append(db.by_col(\"DISCBD\"))\n",
    "q = np.array(q).T\n",
    "reg = pysal.spreg.BaseTSLS(y, X, yd, q=q)\n",
    "print reg.betas\n",
    "pysal.spreg.TSLS()\n"
   ]
  },
  {
   "cell_type": "code",
   "execution_count": 315,
   "metadata": {
    "collapsed": false
   },
   "outputs": [],
   "source": [
    "austria = pd.read_csv('http://dl.dropbox.com/u/8649795/AT_Austria.csv')\n",
    "#austria = austria[austria['Origin'] != austria['Destination']]\n",
    "f = austria['Data'].values\n",
    "o = austria['Origin'].values\n",
    "d = austria['Destination'].values\n",
    "dij = austria['Dij'].values\n",
    "o_vars = austria['Oi2007'].values\n",
    "d_vars = austria['Dj2007'].values\n",
    "\n",
    "o = pysal.weights.lat2W(3,3)\n",
    "d = pysal.weights.lat2W(3,3, rook=False)\n",
    "ODw = ODW(o,d)\n",
    "\n",
    "Y = f.reshape((-1,1))\n",
    "X = np.hstack([o_vars.reshape((-1,1)), d_vars.reshape((-1,1)), dij.reshape((-1,1))])\n",
    "\n",
    "lag = pysal.lag_spatial(ODw, Y)"
   ]
  },
  {
   "cell_type": "code",
   "execution_count": 316,
   "metadata": {
    "collapsed": false
   },
   "outputs": [
    {
     "data": {
      "text/plain": [
       "array([[  613.16666667],\n",
       "       [ 2284.8       ],\n",
       "       [  906.83333333],\n",
       "       [  645.8       ],\n",
       "       [ 1380.8125    ],\n",
       "       [ 1996.        ],\n",
       "       [  678.66666667],\n",
       "       [  645.6       ],\n",
       "       [  972.33333333],\n",
       "       [ 3041.66666667],\n",
       "       [ 1067.66666667],\n",
       "       [ 3121.77777778],\n",
       "       [ 2038.26666667],\n",
       "       [ 1628.16666667],\n",
       "       [ 2110.93333333],\n",
       "       [  679.11111111],\n",
       "       [  678.33333333],\n",
       "       [  759.22222222],\n",
       "       [  899.5       ],\n",
       "       [ 2460.2       ],\n",
       "       [ 1080.83333333],\n",
       "       [ 1012.        ],\n",
       "       [ 1756.875     ],\n",
       "       [ 2374.5       ],\n",
       "       [  749.        ],\n",
       "       [  818.5       ],\n",
       "       [  930.33333333],\n",
       "       [  648.77777778],\n",
       "       [  902.4       ],\n",
       "       [  833.77777778],\n",
       "       [  451.33333333],\n",
       "       [  696.        ],\n",
       "       [  793.46666667],\n",
       "       [  479.77777778],\n",
       "       [  503.73333333],\n",
       "       [  664.77777778],\n",
       "       [  747.33333333],\n",
       "       [ 1551.1       ],\n",
       "       [  872.58333333],\n",
       "       [  735.25      ],\n",
       "       [ 1095.9375    ],\n",
       "       [ 1527.65      ],\n",
       "       [  644.25      ],\n",
       "       [  670.2       ],\n",
       "       [  769.5       ],\n",
       "       [ 2894.11111111],\n",
       "       [  972.        ],\n",
       "       [ 2976.        ],\n",
       "       [ 1987.93333333],\n",
       "       [ 1568.91666667],\n",
       "       [ 1968.8       ],\n",
       "       [  703.44444444],\n",
       "       [  667.53333333],\n",
       "       [  785.33333333],\n",
       "       [  595.16666667],\n",
       "       [  642.        ],\n",
       "       [  664.33333333],\n",
       "       [  458.5       ],\n",
       "       [  435.        ],\n",
       "       [  680.8       ],\n",
       "       [  539.5       ],\n",
       "       [  521.9       ],\n",
       "       [  608.66666667],\n",
       "       [  501.22222222],\n",
       "       [  806.73333333],\n",
       "       [  688.        ],\n",
       "       [  401.        ],\n",
       "       [  636.75      ],\n",
       "       [  651.33333333],\n",
       "       [  504.11111111],\n",
       "       [  492.93333333],\n",
       "       [  690.88888889],\n",
       "       [  881.5       ],\n",
       "       [  817.4       ],\n",
       "       [  838.33333333],\n",
       "       [  824.7       ],\n",
       "       [  811.0625    ],\n",
       "       [ 1059.3       ],\n",
       "       [  609.83333333],\n",
       "       [  694.8       ],\n",
       "       [  566.66666667]])"
      ]
     },
     "execution_count": 316,
     "metadata": {},
     "output_type": "execute_result"
    }
   ],
   "source": []
  },
  {
   "cell_type": "code",
   "execution_count": null,
   "metadata": {
    "collapsed": true
   },
   "outputs": [],
   "source": []
  }
 ],
 "metadata": {
  "anaconda-cloud": {},
  "kernelspec": {
   "display_name": "Python [Root]",
   "language": "python",
   "name": "Python [Root]"
  },
  "language_info": {
   "codemirror_mode": {
    "name": "ipython",
    "version": 2
   },
   "file_extension": ".py",
   "mimetype": "text/x-python",
   "name": "python",
   "nbconvert_exporter": "python",
   "pygments_lexer": "ipython2",
   "version": "2.7.12"
  }
 },
 "nbformat": 4,
 "nbformat_minor": 0
}
