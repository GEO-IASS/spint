{
 "cells": [
  {
   "cell_type": "code",
   "execution_count": 1,
   "metadata": {
    "collapsed": true
   },
   "outputs": [],
   "source": [
    "from scipy import sparse as sp\n",
    "import numpy as np\n",
    "\n",
    "def spcategorical(n_cat_ids):\n",
    "    '''\n",
    "    Returns a dummy matrix given an array of categorical variables.\n",
    "    Parameters\n",
    "    ----------\n",
    "    n_cat_ids    : array\n",
    "                   A 1d vector of the categorical labels for n observations.\n",
    "\n",
    "    Returns\n",
    "    --------\n",
    "    dummy        : array\n",
    "                   A sparse matrix of dummy (indicator/binary) variables for the\n",
    "                   categorical data.  \n",
    "\n",
    "    '''\n",
    "    if np.squeeze(n_cat_ids).ndim == 1:\n",
    "        cat_set = np.unique(n_cat_ids)\n",
    "        n = len(n_cat_ids)\n",
    "        row_map = dict((id, np.where(cat_set == id)[0]) for id in\n",
    "                n_cat_ids)\n",
    "        index = np.array([row_map[row] for row in n_cat_ids]).flatten()\n",
    "        indptr = np.arange(n+1, dtype=int) \n",
    "        return sp.csr_matrix((np.ones(n), index, indptr))\n",
    "    else:\n",
    "        raise IndexError(\"The index %s is not understood\" % col)\n",
    "\n",
    "def spcategorical2(n_cat_ids):\n",
    "    '''\n",
    "    Returns a dummy matrix given an array of categorical variables.\n",
    "    Parameters\n",
    "    ----------\n",
    "    n_cat_ids    : array\n",
    "                   A 1d vector of the categorical labels for n observations.\n",
    "\n",
    "    Returns\n",
    "    --------\n",
    "    dummy        : array\n",
    "                   A sparse matrix of dummy (indicator/binary) variables for the\n",
    "                   categorical data.  \n",
    "\n",
    "    '''\n",
    "    if np.squeeze(n_cat_ids).ndim == 1:\n",
    "        cat_set = np.unique(n_cat_ids)\n",
    "        n = len(n_cat_ids)\n",
    "        index = [np.where(cat_set == id)[0].tolist()[0] for id in n_cat_ids]\n",
    "        indptr = np.arange(n+1, dtype=int) \n",
    "        return sp.csr_matrix((np.ones(n), index, indptr))\n",
    "    else:\n",
    "        raise IndexError(\"The index %s is not understood\" % col)\n",
    "\n"
   ]
  },
  {
   "cell_type": "code",
   "execution_count": 27,
   "metadata": {
    "collapsed": true
   },
   "outputs": [],
   "source": [
    "#x = np.random.randint(1,10, 25)\n",
    "x = ['a', 'b', 'a', 'c', 'a', 'a', 'b', 'a', 'c', 'a']"
   ]
  },
  {
   "cell_type": "code",
   "execution_count": 28,
   "metadata": {
    "collapsed": false
   },
   "outputs": [
    {
     "name": "stdout",
     "output_type": "stream",
     "text": [
      "10000 loops, best of 3: 107 µs per loop\n"
     ]
    }
   ],
   "source": [
    "%timeit a = spcategorical(x)"
   ]
  },
  {
   "cell_type": "code",
   "execution_count": 29,
   "metadata": {
    "collapsed": false
   },
   "outputs": [
    {
     "name": "stdout",
     "output_type": "stream",
     "text": [
      "10000 loops, best of 3: 98.9 µs per loop\n"
     ]
    }
   ],
   "source": [
    "%timeit b = spcategorical2(x)"
   ]
  },
  {
   "cell_type": "code",
   "execution_count": 12,
   "metadata": {
    "collapsed": false
   },
   "outputs": [
    {
     "data": {
      "text/plain": [
       "True"
      ]
     },
     "execution_count": 12,
     "metadata": {},
     "output_type": "execute_result"
    }
   ],
   "source": [
    "np.allclose(a.toarray(), b.toarray())"
   ]
  },
  {
   "cell_type": "code",
   "execution_count": 13,
   "metadata": {
    "collapsed": false
   },
   "outputs": [
    {
     "data": {
      "text/plain": [
       "<5x3 sparse matrix of type '<type 'numpy.float64'>'\n",
       "\twith 5 stored elements in Compressed Sparse Row format>"
      ]
     },
     "execution_count": 13,
     "metadata": {},
     "output_type": "execute_result"
    }
   ],
   "source": [
    "a"
   ]
  },
  {
   "cell_type": "code",
   "execution_count": 14,
   "metadata": {
    "collapsed": false
   },
   "outputs": [
    {
     "data": {
      "text/plain": [
       "<5x3 sparse matrix of type '<type 'numpy.float64'>'\n",
       "\twith 5 stored elements in Compressed Sparse Row format>"
      ]
     },
     "execution_count": 14,
     "metadata": {},
     "output_type": "execute_result"
    }
   ],
   "source": [
    "b"
   ]
  },
  {
   "cell_type": "code",
   "execution_count": null,
   "metadata": {
    "collapsed": true
   },
   "outputs": [],
   "source": []
  }
 ],
 "metadata": {
  "kernelspec": {
   "display_name": "Python 2",
   "language": "python",
   "name": "python2"
  },
  "language_info": {
   "codemirror_mode": {
    "name": "ipython",
    "version": 2
   },
   "file_extension": ".py",
   "mimetype": "text/x-python",
   "name": "python",
   "nbconvert_exporter": "python",
   "pygments_lexer": "ipython2",
   "version": "2.7.9"
  }
 },
 "nbformat": 4,
 "nbformat_minor": 0
}
